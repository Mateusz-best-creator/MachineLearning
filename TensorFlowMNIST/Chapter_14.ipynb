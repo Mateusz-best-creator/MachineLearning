{
  "nbformat": 4,
  "nbformat_minor": 0,
  "metadata": {
    "colab": {
      "provenance": [],
      "gpuType": "T4",
      "toc_visible": true,
      "authorship_tag": "ABX9TyM76wfTEDP9jcJYPsDMEC9F",
      "include_colab_link": true
    },
    "kernelspec": {
      "name": "python3",
      "display_name": "Python 3"
    },
    "language_info": {
      "name": "python"
    },
    "accelerator": "GPU"
  },
  "cells": [
    {
      "cell_type": "markdown",
      "metadata": {
        "id": "view-in-github",
        "colab_type": "text"
      },
      "source": [
        "<a href=\"https://colab.research.google.com/github/Mateusz-best-creator/MNIST_recognition_TensorFlow/blob/main/Chapter_14.ipynb\" target=\"_parent\"><img src=\"https://colab.research.google.com/assets/colab-badge.svg\" alt=\"Open In Colab\"/></a>"
      ]
    },
    {
      "cell_type": "code",
      "execution_count": 1,
      "metadata": {
        "id": "58uYexIPIJ5Z"
      },
      "outputs": [],
      "source": [
        "import tensorflow as tf\n",
        "import pandas as pd\n",
        "import matplotlib.pyplot as plt\n",
        "import numpy as np\n",
        "import tensorflow_datasets as tfds"
      ]
    },
    {
      "cell_type": "markdown",
      "source": [
        "# Digits recognition"
      ],
      "metadata": {
        "id": "kfvIdaXCWRH5"
      }
    },
    {
      "cell_type": "markdown",
      "source": [
        "## Getting and Preprocessing data"
      ],
      "metadata": {
        "id": "gBLW8chrcnPz"
      }
    },
    {
      "cell_type": "code",
      "source": [
        "from sklearn.model_selection import train_test_split\n",
        "\n",
        "(X_full, y_full), (X_test, y_test) = tf.keras.datasets.mnist.load_data()"
      ],
      "metadata": {
        "id": "1fU00yk6Io_f"
      },
      "execution_count": 29,
      "outputs": []
    },
    {
      "cell_type": "code",
      "source": [
        "def get_2_sets(X_full, y_full, factor=1):\n",
        "  count = len(y_full) * factor\n",
        "  X_train, X_valid, y_train, y_valid = train_test_split(X_full[:count], y_full[:count], test_size=0.1, random_state=42)\n",
        "  print(X_train.shape, X_valid.shape, X_test.shape, y_train.shape, y_valid.shape, y_test.shape)\n",
        "  return X_train, X_valid, y_train, y_valid"
      ],
      "metadata": {
        "id": "ThQOKHEgJMod"
      },
      "execution_count": 23,
      "outputs": []
    },
    {
      "cell_type": "code",
      "source": [
        "def preprocess_data(features):\n",
        "  features = tf.cast(features, dtype=tf.float32)\n",
        "  features = features / 255.\n",
        "  features = tf.expand_dims(features, axis=-1)\n",
        "  return features"
      ],
      "metadata": {
        "id": "rUKEj6U8JHwh"
      },
      "execution_count": 24,
      "outputs": []
    },
    {
      "cell_type": "code",
      "source": [
        "X_train, X_valid, y_train, y_valid = get_2_sets(X_full, y_full)\n",
        "X_train = preprocess_data(X_train)\n",
        "X_valid = preprocess_data(X_valid)\n",
        "X_test = preprocess_data(X_test)\n",
        "X_test.dtype, X_test.numpy().max(), X_test.numpy().min()"
      ],
      "metadata": {
        "colab": {
          "base_uri": "https://localhost:8080/"
        },
        "id": "_h8Q4-aTPATe",
        "outputId": "2ed9d66c-a367-4b2c-af2e-6ff184411ed7"
      },
      "execution_count": 32,
      "outputs": [
        {
          "output_type": "stream",
          "name": "stdout",
          "text": [
            "(54000, 28, 28) (6000, 28, 28) (10000, 28, 28) (54000,) (6000,) (10000,)\n"
          ]
        },
        {
          "output_type": "execute_result",
          "data": {
            "text/plain": [
              "(tf.float32, 1.0, 0.0)"
            ]
          },
          "metadata": {},
          "execution_count": 32
        }
      ]
    },
    {
      "cell_type": "code",
      "source": [
        "def visualize_images(images, labels, n_rows=4, n_cols=4):\n",
        "  n_images = n_rows*n_cols\n",
        "  fig = plt.figure(figsize=(15, 10))\n",
        "\n",
        "  for idx, image in enumerate(images[:n_images]):\n",
        "    fig.add_subplot(n_rows, n_cols, idx+1)\n",
        "    plt.imshow(image)\n",
        "    plt.axis(False)\n",
        "    plt.title(f\"{labels[idx]}\")\n",
        "  plt.show()"
      ],
      "metadata": {
        "id": "YkJgqlJ7Z_qu"
      },
      "execution_count": 79,
      "outputs": []
    },
    {
      "cell_type": "code",
      "source": [
        "visualize_images(X_test, y_test)"
      ],
      "metadata": {
        "colab": {
          "base_uri": "https://localhost:8080/",
          "height": 829
        },
        "id": "YKUH1EbCacNO",
        "outputId": "d5466a51-7d57-48f3-fadb-7805dd0a9438"
      },
      "execution_count": 80,
      "outputs": [
        {
          "output_type": "display_data",
          "data": {
            "text/plain": [
              "<Figure size 1500x1000 with 16 Axes>"
            ],
            "image/png": "[encoded data removed]"
          },
          "metadata": {}
        }
      ]
    },
    {
      "cell_type": "code",
      "source": [
        "def compile_train_model(model, epochs=10, X_train=X_train,\n",
        "                        X_valid=X_valid, y_train=y_train, y_valid=y_valid):\n",
        "  model.compile(loss=tf.keras.losses.sparse_categorical_crossentropy,\n",
        "                optimizer=tf.keras.optimizers.Adam(),\n",
        "                metrics=[\"accuracy\"])\n",
        "  history = model.fit(X_train, y_train, epochs=10,\n",
        "                      validation_data=(X_valid, y_valid))\n",
        "  return history"
      ],
      "metadata": {
        "id": "dS5ZSCqHNQaz"
      },
      "execution_count": 33,
      "outputs": []
    },
    {
      "cell_type": "markdown",
      "source": [
        "## Start running series of modelling experiments"
      ],
      "metadata": {
        "id": "Zd4VkLP0crji"
      }
    },
    {
      "cell_type": "markdown",
      "source": [
        "### Model_1"
      ],
      "metadata": {
        "id": "Dxa4g79Dcve4"
      }
    },
    {
      "cell_type": "code",
      "source": [
        "# Building model_1\n",
        "tf.random.set_seed(42)\n",
        "\n",
        "model_1 = tf.keras.Sequential([\n",
        "    tf.keras.layers.Conv2D(filters=32, kernel_size=3, padding=\"same\", input_shape=[28, 28, 1],\n",
        "                           activation=\"relu\", kernel_initializer=\"he_normal\"),\n",
        "    tf.keras.layers.Conv2D(filters=64, kernel_size=3, padding=\"same\",\n",
        "                           activation=\"relu\", kernel_initializer=\"he_normal\"),\n",
        "    tf.keras.layers.GlobalMaxPooling2D(),\n",
        "    tf.keras.layers.Dense(10, activation=\"softmax\")\n",
        "])\n",
        "compile_train_model(model_1)\n",
        "model_1_loss, model_1_accuracy = model_1.evaluate(X_test, y_test)\n",
        "print(f\"Model_1 accuracy: {model_1_accuracy*100:.2f}%\")"
      ],
      "metadata": {
        "colab": {
          "base_uri": "https://localhost:8080/"
        },
        "id": "1ZP2BcZPMw3j",
        "outputId": "7e912538-fffb-4643-b46c-525dded121cc"
      },
      "execution_count": 37,
      "outputs": [
        {
          "output_type": "stream",
          "name": "stdout",
          "text": [
            "313/313 [==============================] - 1s 3ms/step - loss: 0.1421 - accuracy: 0.9594\n",
            "Model_1 accuracy: 95.94%\n"
          ]
        }
      ]
    },
    {
      "cell_type": "code",
      "source": [
        "model_1.summary()"
      ],
      "metadata": {
        "colab": {
          "base_uri": "https://localhost:8080/"
        },
        "id": "wEQ51zs0N4ww",
        "outputId": "e169c0fa-7570-40cc-f277-ebe10257c452"
      },
      "execution_count": 35,
      "outputs": [
        {
          "output_type": "stream",
          "name": "stdout",
          "text": [
            "Model: \"sequential_2\"\n",
            "_________________________________________________________________\n",
            " Layer (type)                Output Shape              Param #   \n",
            "=================================================================\n",
            " conv2d_3 (Conv2D)           (None, 28, 28, 32)        320       \n",
            "                                                                 \n",
            " conv2d_4 (Conv2D)           (None, 28, 28, 64)        18496     \n",
            "                                                                 \n",
            " global_max_pooling2d_2 (Glo  (None, 64)               0         \n",
            " balMaxPooling2D)                                                \n",
            "                                                                 \n",
            " dense_2 (Dense)             (None, 10)                650       \n",
            "                                                                 \n",
            "=================================================================\n",
            "Total params: 19,466\n",
            "Trainable params: 19,466\n",
            "Non-trainable params: 0\n",
            "_________________________________________________________________\n"
          ]
        }
      ]
    },
    {
      "cell_type": "markdown",
      "source": [
        "### Model_2"
      ],
      "metadata": {
        "id": "26GVYxWBcw_P"
      }
    },
    {
      "cell_type": "markdown",
      "source": [
        "**Building model_2.**\n",
        "\n",
        "To this model we will add 1 dense layer and 1 dropout layer at the end our our model architecture."
      ],
      "metadata": {
        "id": "b4knU6IgOcVj"
      }
    },
    {
      "cell_type": "code",
      "source": [
        "# Building model_2\n",
        "tf.random.set_seed(42)\n",
        "tf.keras.backend.clear_session()\n",
        "\n",
        "model_2 = tf.keras.Sequential([\n",
        "    tf.keras.layers.Conv2D(filters=32, kernel_size=3, padding=\"same\", input_shape=[28, 28, 1],\n",
        "                           activation=\"relu\", kernel_initializer=\"he_normal\"),\n",
        "    tf.keras.layers.Conv2D(filters=64, kernel_size=3, padding=\"same\",\n",
        "                           activation=\"relu\", kernel_initializer=\"he_normal\"),\n",
        "    tf.keras.layers.GlobalMaxPooling2D(),\n",
        "    tf.keras.layers.Dense(128, activation=\"relu\", kernel_initializer=\"he_normal\"),\n",
        "    tf.keras.layers.Dropout(0.5),\n",
        "    tf.keras.layers.Dense(10, activation=\"softmax\")\n",
        "])\n",
        "compile_train_model(model_2)\n",
        "model_2_loss, model_2_accuracy = model_2.evaluate(X_test, y_test)\n",
        "print(f\"Model_2 accuracy: {model_2_accuracy*100:.2f}%\")"
      ],
      "metadata": {
        "colab": {
          "base_uri": "https://localhost:8080/"
        },
        "id": "xq_YeFLCOPp4",
        "outputId": "2298bbdc-aa52-42f7-a377-eaf6a9dc9709"
      },
      "execution_count": 39,
      "outputs": [
        {
          "output_type": "stream",
          "name": "stdout",
          "text": [
            "Epoch 1/10\n",
            "1688/1688 [==============================] - 12s 6ms/step - loss: 0.7613 - accuracy: 0.7492 - val_loss: 0.2835 - val_accuracy: 0.9152\n",
            "Epoch 2/10\n",
            "1688/1688 [==============================] - 9s 5ms/step - loss: 0.3176 - accuracy: 0.9024 - val_loss: 0.2242 - val_accuracy: 0.9273\n",
            "Epoch 3/10\n",
            "1688/1688 [==============================] - 9s 5ms/step - loss: 0.2572 - accuracy: 0.9206 - val_loss: 0.1766 - val_accuracy: 0.9393\n",
            "Epoch 4/10\n",
            "1688/1688 [==============================] - 10s 6ms/step - loss: 0.2262 - accuracy: 0.9306 - val_loss: 0.1580 - val_accuracy: 0.9480\n",
            "Epoch 5/10\n",
            "1688/1688 [==============================] - 10s 6ms/step - loss: 0.2021 - accuracy: 0.9384 - val_loss: 0.1726 - val_accuracy: 0.9467\n",
            "Epoch 6/10\n",
            "1688/1688 [==============================] - 8s 5ms/step - loss: 0.1861 - accuracy: 0.9431 - val_loss: 0.1320 - val_accuracy: 0.9588\n",
            "Epoch 7/10\n",
            "1688/1688 [==============================] - 8s 5ms/step - loss: 0.1720 - accuracy: 0.9477 - val_loss: 0.1598 - val_accuracy: 0.9502\n",
            "Epoch 8/10\n",
            "1688/1688 [==============================] - 10s 6ms/step - loss: 0.1618 - accuracy: 0.9498 - val_loss: 0.1328 - val_accuracy: 0.9597\n",
            "Epoch 9/10\n",
            "1688/1688 [==============================] - 8s 5ms/step - loss: 0.1540 - accuracy: 0.9530 - val_loss: 0.1186 - val_accuracy: 0.9627\n",
            "Epoch 10/10\n",
            "1688/1688 [==============================] - 8s 5ms/step - loss: 0.1489 - accuracy: 0.9545 - val_loss: 0.1348 - val_accuracy: 0.9600\n",
            "313/313 [==============================] - 1s 3ms/step - loss: 0.1214 - accuracy: 0.9643\n",
            "Model_1 accuracy: 96.43%\n"
          ]
        }
      ]
    },
    {
      "cell_type": "code",
      "source": [
        "model_2.summary()"
      ],
      "metadata": {
        "colab": {
          "base_uri": "https://localhost:8080/"
        },
        "id": "eie0_VWGQ0X4",
        "outputId": "156002d2-9ac3-46c2-f6dc-50c46285cd72"
      },
      "execution_count": 40,
      "outputs": [
        {
          "output_type": "stream",
          "name": "stdout",
          "text": [
            "Model: \"sequential\"\n",
            "_________________________________________________________________\n",
            " Layer (type)                Output Shape              Param #   \n",
            "=================================================================\n",
            " conv2d (Conv2D)             (None, 28, 28, 32)        320       \n",
            "                                                                 \n",
            " conv2d_1 (Conv2D)           (None, 28, 28, 64)        18496     \n",
            "                                                                 \n",
            " global_max_pooling2d (Globa  (None, 64)               0         \n",
            " lMaxPooling2D)                                                  \n",
            "                                                                 \n",
            " dense (Dense)               (None, 128)               8320      \n",
            "                                                                 \n",
            " dropout (Dropout)           (None, 128)               0         \n",
            "                                                                 \n",
            " dense_1 (Dense)             (None, 10)                1290      \n",
            "                                                                 \n",
            "=================================================================\n",
            "Total params: 28,426\n",
            "Trainable params: 28,426\n",
            "Non-trainable params: 0\n",
            "_________________________________________________________________\n"
          ]
        }
      ]
    },
    {
      "cell_type": "markdown",
      "source": [
        "### Model_3"
      ],
      "metadata": {
        "id": "nNPF0gFIcyZ0"
      }
    },
    {
      "cell_type": "markdown",
      "source": [
        "**Model_3**\n",
        "\n",
        "In this model instead of suing GlobalMaxPooling we are going to use MaxPool2D layer and Flatten layer with dropout for regularization."
      ],
      "metadata": {
        "id": "Xonpcc77QlKq"
      }
    },
    {
      "cell_type": "code",
      "source": [
        "# Building model_3\n",
        "tf.random.set_seed(42)\n",
        "tf.keras.backend.clear_session()\n",
        "\n",
        "model_3 = tf.keras.Sequential([\n",
        "  tf.keras.layers.Conv2D(filters=32, kernel_size=3, padding=\"same\", input_shape=[28, 28, 1],\n",
        "                          activation=\"relu\", kernel_initializer=\"he_normal\"),\n",
        "  tf.keras.layers.Conv2D(filters=64, kernel_size=3, padding=\"same\",\n",
        "                          activation=\"relu\", kernel_initializer=\"he_normal\"),\n",
        "  tf.keras.layers.MaxPool2D(),\n",
        "  tf.keras.layers.Flatten(),\n",
        "  tf.keras.layers.Dropout(0.25),\n",
        "  tf.keras.layers.Dense(128, activation=\"relu\", kernel_initializer=\"he_normal\"),\n",
        "  tf.keras.layers.Dropout(0.5),\n",
        "  tf.keras.layers.Dense(10, activation=\"softmax\")\n",
        "])\n",
        "compile_train_model(model_3)\n",
        "model_3_loss, model_3_accuracy = model_3.evaluate(X_test, y_test)\n",
        "print(f\"Model_3 accuracy: {model_3_accuracy*100:.2f}%\")"
      ],
      "metadata": {
        "colab": {
          "base_uri": "https://localhost:8080/"
        },
        "id": "0W0IpwaMQvi3",
        "outputId": "2665144c-4c93-45c1-e289-d675189eb05b"
      },
      "execution_count": 48,
      "outputs": [
        {
          "output_type": "stream",
          "name": "stdout",
          "text": [
            "Epoch 1/10\n",
            "1688/1688 [==============================] - 10s 5ms/step - loss: 0.2063 - accuracy: 0.9393 - val_loss: 0.0516 - val_accuracy: 0.9840\n",
            "Epoch 2/10\n",
            "1688/1688 [==============================] - 8s 5ms/step - loss: 0.0844 - accuracy: 0.9753 - val_loss: 0.0423 - val_accuracy: 0.9865\n",
            "Epoch 3/10\n",
            "1688/1688 [==============================] - 8s 4ms/step - loss: 0.0624 - accuracy: 0.9810 - val_loss: 0.0381 - val_accuracy: 0.9890\n",
            "Epoch 4/10\n",
            "1688/1688 [==============================] - 8s 5ms/step - loss: 0.0496 - accuracy: 0.9851 - val_loss: 0.0311 - val_accuracy: 0.9910\n",
            "Epoch 5/10\n",
            "1688/1688 [==============================] - 9s 5ms/step - loss: 0.0422 - accuracy: 0.9873 - val_loss: 0.0363 - val_accuracy: 0.9900\n",
            "Epoch 6/10\n",
            "1688/1688 [==============================] - 8s 5ms/step - loss: 0.0364 - accuracy: 0.9882 - val_loss: 0.0371 - val_accuracy: 0.9902\n",
            "Epoch 7/10\n",
            "1688/1688 [==============================] - 11s 7ms/step - loss: 0.0309 - accuracy: 0.9904 - val_loss: 0.0345 - val_accuracy: 0.9912\n",
            "Epoch 8/10\n",
            "1688/1688 [==============================] - 8s 5ms/step - loss: 0.0288 - accuracy: 0.9909 - val_loss: 0.0288 - val_accuracy: 0.9932\n",
            "Epoch 9/10\n",
            "1688/1688 [==============================] - 8s 5ms/step - loss: 0.0277 - accuracy: 0.9911 - val_loss: 0.0389 - val_accuracy: 0.9913\n",
            "Epoch 10/10\n",
            "1688/1688 [==============================] - 8s 5ms/step - loss: 0.0252 - accuracy: 0.9919 - val_loss: 0.0361 - val_accuracy: 0.9918\n",
            "313/313 [==============================] - 1s 3ms/step - loss: 0.0316 - accuracy: 0.9915\n",
            "Model_3 accuracy: 99.15%\n"
          ]
        }
      ]
    },
    {
      "cell_type": "code",
      "source": [
        "model_3.summary()"
      ],
      "metadata": {
        "colab": {
          "base_uri": "https://localhost:8080/"
        },
        "id": "4ng7c8uVSnh_",
        "outputId": "bbaac86c-0e33-4863-eb10-c7dd148738c0"
      },
      "execution_count": 49,
      "outputs": [
        {
          "output_type": "stream",
          "name": "stdout",
          "text": [
            "Model: \"sequential\"\n",
            "_________________________________________________________________\n",
            " Layer (type)                Output Shape              Param #   \n",
            "=================================================================\n",
            " conv2d (Conv2D)             (None, 28, 28, 32)        320       \n",
            "                                                                 \n",
            " conv2d_1 (Conv2D)           (None, 28, 28, 64)        18496     \n",
            "                                                                 \n",
            " max_pooling2d (MaxPooling2D  (None, 14, 14, 64)       0         \n",
            " )                                                               \n",
            "                                                                 \n",
            " flatten (Flatten)           (None, 12544)             0         \n",
            "                                                                 \n",
            " dropout (Dropout)           (None, 12544)             0         \n",
            "                                                                 \n",
            " dense (Dense)               (None, 128)               1605760   \n",
            "                                                                 \n",
            " dropout_1 (Dropout)         (None, 128)               0         \n",
            "                                                                 \n",
            " dense_1 (Dense)             (None, 10)                1290      \n",
            "                                                                 \n",
            "=================================================================\n",
            "Total params: 1,625,866\n",
            "Trainable params: 1,625,866\n",
            "Non-trainable params: 0\n",
            "_________________________________________________________________\n"
          ]
        }
      ]
    },
    {
      "cell_type": "markdown",
      "source": [
        "### Model_4"
      ],
      "metadata": {
        "id": "u7qbupjicz5H"
      }
    },
    {
      "cell_type": "markdown",
      "source": [
        "**Model_4**\n",
        "\n",
        "In this model instead of using dropout for regularization we are going to use BatchNormalization."
      ],
      "metadata": {
        "id": "i50u2nHtTZ_Z"
      }
    },
    {
      "cell_type": "code",
      "source": [
        "# Building model_4\n",
        "tf.random.set_seed(42)\n",
        "tf.keras.backend.clear_session()\n",
        "\n",
        "model_4 = tf.keras.Sequential([\n",
        "  tf.keras.layers.Conv2D(filters=32, kernel_size=3, padding=\"same\", input_shape=[28, 28, 1],\n",
        "                          activation=\"relu\", kernel_initializer=\"he_normal\"),\n",
        "  tf.keras.layers.Conv2D(filters=64, kernel_size=3, padding=\"same\",\n",
        "                          activation=\"relu\", kernel_initializer=\"he_normal\"),\n",
        "  tf.keras.layers.MaxPool2D(),\n",
        "  tf.keras.layers.Flatten(),\n",
        "  tf.keras.layers.BatchNormalization(),\n",
        "  tf.keras.layers.Dense(128, activation=\"relu\", kernel_initializer=\"he_normal\"),\n",
        "  tf.keras.layers.BatchNormalization(),\n",
        "  tf.keras.layers.Dense(10, activation=\"softmax\")\n",
        "])\n",
        "compile_train_model(model_4)\n",
        "model_4_loss, model_4_accuracy = model_4.evaluate(X_test, y_test)\n",
        "print(f\"Model_4 accuracy: {model_4_accuracy*100:.2f}%\")"
      ],
      "metadata": {
        "colab": {
          "base_uri": "https://localhost:8080/"
        },
        "id": "MsheTAqnTiI6",
        "outputId": "513bba9c-755b-4320-adba-91e173530024"
      },
      "execution_count": 51,
      "outputs": [
        {
          "output_type": "stream",
          "name": "stdout",
          "text": [
            "Epoch 1/10\n",
            "1688/1688 [==============================] - 13s 6ms/step - loss: 0.1170 - accuracy: 0.9642 - val_loss: 0.0616 - val_accuracy: 0.9830\n",
            "Epoch 2/10\n",
            "1688/1688 [==============================] - 10s 6ms/step - loss: 0.0441 - accuracy: 0.9864 - val_loss: 0.0460 - val_accuracy: 0.9857\n",
            "Epoch 3/10\n",
            "1688/1688 [==============================] - 11s 7ms/step - loss: 0.0299 - accuracy: 0.9909 - val_loss: 0.0483 - val_accuracy: 0.9848\n",
            "Epoch 4/10\n",
            "1688/1688 [==============================] - 11s 6ms/step - loss: 0.0231 - accuracy: 0.9930 - val_loss: 0.0536 - val_accuracy: 0.9855\n",
            "Epoch 5/10\n",
            "1688/1688 [==============================] - 10s 6ms/step - loss: 0.0202 - accuracy: 0.9934 - val_loss: 0.0494 - val_accuracy: 0.9877\n",
            "Epoch 6/10\n",
            "1688/1688 [==============================] - 9s 6ms/step - loss: 0.0133 - accuracy: 0.9955 - val_loss: 0.0512 - val_accuracy: 0.9877\n",
            "Epoch 7/10\n",
            "1688/1688 [==============================] - 10s 6ms/step - loss: 0.0114 - accuracy: 0.9964 - val_loss: 0.0411 - val_accuracy: 0.9912\n",
            "Epoch 8/10\n",
            "1688/1688 [==============================] - 10s 6ms/step - loss: 0.0078 - accuracy: 0.9973 - val_loss: 0.0365 - val_accuracy: 0.9912\n",
            "Epoch 9/10\n",
            "1688/1688 [==============================] - 13s 8ms/step - loss: 0.0079 - accuracy: 0.9974 - val_loss: 0.0652 - val_accuracy: 0.9857\n",
            "Epoch 10/10\n",
            "1688/1688 [==============================] - 13s 7ms/step - loss: 0.0093 - accuracy: 0.9970 - val_loss: 0.0428 - val_accuracy: 0.9880\n",
            "313/313 [==============================] - 1s 5ms/step - loss: 0.0542 - accuracy: 0.9878\n",
            "Model_4 accuracy: 98.78%\n"
          ]
        }
      ]
    },
    {
      "cell_type": "code",
      "source": [
        "model_4.summary()"
      ],
      "metadata": {
        "colab": {
          "base_uri": "https://localhost:8080/"
        },
        "id": "QruUPcPjT0LL",
        "outputId": "525e2776-ed43-4174-e2b8-ad5c7697911a"
      },
      "execution_count": 52,
      "outputs": [
        {
          "output_type": "stream",
          "name": "stdout",
          "text": [
            "Model: \"sequential\"\n",
            "_________________________________________________________________\n",
            " Layer (type)                Output Shape              Param #   \n",
            "=================================================================\n",
            " conv2d (Conv2D)             (None, 28, 28, 32)        320       \n",
            "                                                                 \n",
            " conv2d_1 (Conv2D)           (None, 28, 28, 64)        18496     \n",
            "                                                                 \n",
            " max_pooling2d (MaxPooling2D  (None, 14, 14, 64)       0         \n",
            " )                                                               \n",
            "                                                                 \n",
            " flatten (Flatten)           (None, 12544)             0         \n",
            "                                                                 \n",
            " batch_normalization (BatchN  (None, 12544)            50176     \n",
            " ormalization)                                                   \n",
            "                                                                 \n",
            " dense (Dense)               (None, 128)               1605760   \n",
            "                                                                 \n",
            " batch_normalization_1 (Batc  (None, 128)              512       \n",
            " hNormalization)                                                 \n",
            "                                                                 \n",
            " dense_1 (Dense)             (None, 10)                1290      \n",
            "                                                                 \n",
            "=================================================================\n",
            "Total params: 1,676,554\n",
            "Trainable params: 1,651,210\n",
            "Non-trainable params: 25,344\n",
            "_________________________________________________________________\n"
          ]
        }
      ]
    },
    {
      "cell_type": "markdown",
      "source": [
        "### Model_5"
      ],
      "metadata": {
        "id": "n-xwXu4Uc1Pe"
      }
    },
    {
      "cell_type": "markdown",
      "source": [
        "**Model_5**\n",
        "\n",
        "In this model we are going to stack multiple Convolutional and pooling layers on top of each other, after that we will use dense layer, and dropout layer (since it performs slightly better than batch normalization) for regularization."
      ],
      "metadata": {
        "id": "70N1ZVMnUBgB"
      }
    },
    {
      "cell_type": "code",
      "source": [
        "# Building model_5\n",
        "tf.random.set_seed(42)\n",
        "tf.keras.backend.clear_session()\n",
        "\n",
        "model_5 = tf.keras.Sequential([\n",
        "  tf.keras.layers.Conv2D(filters=32, kernel_size=3, padding=\"same\", input_shape=[28, 28, 1],\n",
        "                          activation=\"relu\", kernel_initializer=\"he_normal\"),\n",
        "  tf.keras.layers.Conv2D(filters=64, kernel_size=3, padding=\"same\",\n",
        "                          activation=\"relu\", kernel_initializer=\"he_normal\"),\n",
        "  tf.keras.layers.MaxPool2D(),\n",
        "  tf.keras.layers.Conv2D(filters=128, kernel_size=3, padding=\"same\",\n",
        "                          activation=\"relu\", kernel_initializer=\"he_normal\"),\n",
        "  tf.keras.layers.Conv2D(filters=128, kernel_size=3, padding=\"same\",\n",
        "                          activation=\"relu\", kernel_initializer=\"he_normal\"),\n",
        "  tf.keras.layers.MaxPool2D(),\n",
        "  tf.keras.layers.Flatten(),\n",
        "  tf.keras.layers.Dropout(0.25),\n",
        "  tf.keras.layers.Dense(128, activation=\"relu\", kernel_initializer=\"he_normal\"),\n",
        "  tf.keras.layers.Dropout(0.5),\n",
        "  tf.keras.layers.Dense(10, activation=\"softmax\")\n",
        "])\n",
        "\n",
        "compile_train_model(model_5)\n",
        "model_5loss, model_5_accuracy = model_5.evaluate(X_test, y_test)\n",
        "print(f\"Model_5 accuracy: {model_5_accuracy*100:.2f}%\")"
      ],
      "metadata": {
        "colab": {
          "base_uri": "https://localhost:8080/"
        },
        "id": "KQqoRCTPUT6D",
        "outputId": "f8823c2b-80b6-40cb-bcca-599a2725fcd7"
      },
      "execution_count": 55,
      "outputs": [
        {
          "output_type": "stream",
          "name": "stdout",
          "text": [
            "Epoch 1/10\n",
            "1688/1688 [==============================] - 15s 7ms/step - loss: 0.2370 - accuracy: 0.9286 - val_loss: 0.0702 - val_accuracy: 0.9790\n",
            "Epoch 2/10\n",
            "1688/1688 [==============================] - 11s 6ms/step - loss: 0.0841 - accuracy: 0.9758 - val_loss: 0.0452 - val_accuracy: 0.9875\n",
            "Epoch 3/10\n",
            "1688/1688 [==============================] - 11s 6ms/step - loss: 0.0582 - accuracy: 0.9833 - val_loss: 0.0377 - val_accuracy: 0.9885\n",
            "Epoch 4/10\n",
            "1688/1688 [==============================] - 11s 6ms/step - loss: 0.0456 - accuracy: 0.9871 - val_loss: 0.0311 - val_accuracy: 0.9912\n",
            "Epoch 5/10\n",
            "1688/1688 [==============================] - 11s 6ms/step - loss: 0.0412 - accuracy: 0.9880 - val_loss: 0.0283 - val_accuracy: 0.9920\n",
            "Epoch 6/10\n",
            "1688/1688 [==============================] - 12s 7ms/step - loss: 0.0357 - accuracy: 0.9893 - val_loss: 0.0283 - val_accuracy: 0.9932\n",
            "Epoch 7/10\n",
            "1688/1688 [==============================] - 11s 7ms/step - loss: 0.0306 - accuracy: 0.9914 - val_loss: 0.0352 - val_accuracy: 0.9920\n",
            "Epoch 8/10\n",
            "1688/1688 [==============================] - 15s 9ms/step - loss: 0.0270 - accuracy: 0.9924 - val_loss: 0.0304 - val_accuracy: 0.9930\n",
            "Epoch 9/10\n",
            "1688/1688 [==============================] - 14s 9ms/step - loss: 0.0255 - accuracy: 0.9923 - val_loss: 0.0376 - val_accuracy: 0.9920\n",
            "Epoch 10/10\n",
            "1688/1688 [==============================] - 11s 6ms/step - loss: 0.0238 - accuracy: 0.9933 - val_loss: 0.0307 - val_accuracy: 0.9935\n",
            "313/313 [==============================] - 1s 3ms/step - loss: 0.0273 - accuracy: 0.9937\n",
            "Model_5 accuracy: 99.37%\n"
          ]
        }
      ]
    },
    {
      "cell_type": "code",
      "source": [
        "model_5.summary()"
      ],
      "metadata": {
        "colab": {
          "base_uri": "https://localhost:8080/"
        },
        "id": "Apwsu1FzUkTE",
        "outputId": "c0d9320b-8387-4958-80d1-62d8dcbbb395"
      },
      "execution_count": 54,
      "outputs": [
        {
          "output_type": "stream",
          "name": "stdout",
          "text": [
            "Model: \"sequential\"\n",
            "_________________________________________________________________\n",
            " Layer (type)                Output Shape              Param #   \n",
            "=================================================================\n",
            " conv2d (Conv2D)             (None, 28, 28, 32)        320       \n",
            "                                                                 \n",
            " conv2d_1 (Conv2D)           (None, 28, 28, 64)        18496     \n",
            "                                                                 \n",
            " max_pooling2d (MaxPooling2D  (None, 14, 14, 64)       0         \n",
            " )                                                               \n",
            "                                                                 \n",
            " conv2d_2 (Conv2D)           (None, 14, 14, 128)       73856     \n",
            "                                                                 \n",
            " conv2d_3 (Conv2D)           (None, 14, 14, 128)       147584    \n",
            "                                                                 \n",
            " max_pooling2d_1 (MaxPooling  (None, 7, 7, 128)        0         \n",
            " 2D)                                                             \n",
            "                                                                 \n",
            " flatten (Flatten)           (None, 6272)              0         \n",
            "                                                                 \n",
            " batch_normalization (BatchN  (None, 6272)             25088     \n",
            " ormalization)                                                   \n",
            "                                                                 \n",
            " dense (Dense)               (None, 128)               802944    \n",
            "                                                                 \n",
            " batch_normalization_1 (Batc  (None, 128)              512       \n",
            " hNormalization)                                                 \n",
            "                                                                 \n",
            " dense_1 (Dense)             (None, 10)                1290      \n",
            "                                                                 \n",
            "=================================================================\n",
            "Total params: 1,070,090\n",
            "Trainable params: 1,057,290\n",
            "Non-trainable params: 12,800\n",
            "_________________________________________________________________\n"
          ]
        }
      ]
    },
    {
      "cell_type": "markdown",
      "source": [
        "### Model_6"
      ],
      "metadata": {
        "id": "B4AI_2Ohc3gK"
      }
    },
    {
      "cell_type": "markdown",
      "source": [
        "**Model_6**\n",
        "\n",
        "In this model instead of using MaxPool2D and Flatten layer we are going to use MaxPool2D layer."
      ],
      "metadata": {
        "id": "a9M5we5iVBAS"
      }
    },
    {
      "cell_type": "code",
      "source": [
        "# Building model_6\n",
        "tf.random.set_seed(42)\n",
        "tf.keras.backend.clear_session()\n",
        "\n",
        "model_6 = tf.keras.Sequential([\n",
        "  tf.keras.layers.Conv2D(filters=32, kernel_size=3, padding=\"same\", input_shape=[28, 28, 1],\n",
        "                          activation=\"relu\", kernel_initializer=\"he_normal\"),\n",
        "  tf.keras.layers.Conv2D(filters=64, kernel_size=3, padding=\"same\",\n",
        "                          activation=\"relu\", kernel_initializer=\"he_normal\"),\n",
        "  tf.keras.layers.MaxPool2D(),\n",
        "  tf.keras.layers.Conv2D(filters=128, kernel_size=3, padding=\"same\",\n",
        "                          activation=\"relu\", kernel_initializer=\"he_normal\"),\n",
        "  tf.keras.layers.Conv2D(filters=128, kernel_size=3, padding=\"same\",\n",
        "                          activation=\"relu\", kernel_initializer=\"he_normal\"),\n",
        "  tf.keras.layers.GlobalMaxPooling2D(),\n",
        "  tf.keras.layers.Dropout(0.25),\n",
        "  tf.keras.layers.Dense(128, activation=\"relu\", kernel_initializer=\"he_normal\"),\n",
        "  tf.keras.layers.Dropout(0.5),\n",
        "  tf.keras.layers.Dense(10, activation=\"softmax\")\n",
        "])\n",
        "\n",
        "compile_train_model(model_6)\n",
        "model_6_loss, model_6_accuracy = model_6.evaluate(X_test, y_test)\n",
        "print(f\"Model_6 accuracy: {model_6_accuracy*100:.2f}%\")"
      ],
      "metadata": {
        "colab": {
          "base_uri": "https://localhost:8080/"
        },
        "id": "hyb-a-ibVWiR",
        "outputId": "d932c910-883b-4102-b0ec-008544d2526a"
      },
      "execution_count": 61,
      "outputs": [
        {
          "output_type": "stream",
          "name": "stdout",
          "text": [
            "Epoch 1/10\n",
            "1688/1688 [==============================] - 14s 6ms/step - loss: 0.4105 - accuracy: 0.8699 - val_loss: 0.0861 - val_accuracy: 0.9735\n",
            "Epoch 2/10\n",
            "1688/1688 [==============================] - 11s 6ms/step - loss: 0.1241 - accuracy: 0.9642 - val_loss: 0.0575 - val_accuracy: 0.9823\n",
            "Epoch 3/10\n",
            "1688/1688 [==============================] - 11s 7ms/step - loss: 0.0920 - accuracy: 0.9734 - val_loss: 0.0430 - val_accuracy: 0.9865\n",
            "Epoch 4/10\n",
            "1688/1688 [==============================] - 13s 8ms/step - loss: 0.0760 - accuracy: 0.9779 - val_loss: 0.0344 - val_accuracy: 0.9910\n",
            "Epoch 5/10\n",
            "1688/1688 [==============================] - 11s 7ms/step - loss: 0.0638 - accuracy: 0.9817 - val_loss: 0.0379 - val_accuracy: 0.9892\n",
            "Epoch 6/10\n",
            "1688/1688 [==============================] - 11s 6ms/step - loss: 0.0583 - accuracy: 0.9830 - val_loss: 0.0333 - val_accuracy: 0.9908\n",
            "Epoch 7/10\n",
            "1688/1688 [==============================] - 12s 7ms/step - loss: 0.0544 - accuracy: 0.9846 - val_loss: 0.0527 - val_accuracy: 0.9853\n",
            "Epoch 8/10\n",
            "1688/1688 [==============================] - 14s 8ms/step - loss: 0.0486 - accuracy: 0.9860 - val_loss: 0.0319 - val_accuracy: 0.9925\n",
            "Epoch 9/10\n",
            "1688/1688 [==============================] - 17s 10ms/step - loss: 0.0431 - accuracy: 0.9879 - val_loss: 0.0378 - val_accuracy: 0.9903\n",
            "Epoch 10/10\n",
            "1688/1688 [==============================] - 15s 9ms/step - loss: 0.0409 - accuracy: 0.9879 - val_loss: 0.0359 - val_accuracy: 0.9905\n",
            "313/313 [==============================] - 1s 4ms/step - loss: 0.0260 - accuracy: 0.9927\n",
            "Model_5 accuracy: 99.27%\n"
          ]
        }
      ]
    },
    {
      "cell_type": "code",
      "source": [
        "model_6.summary()"
      ],
      "metadata": {
        "colab": {
          "base_uri": "https://localhost:8080/"
        },
        "id": "QUiU9AYQVfnc",
        "outputId": "1f81cc94-ad24-4834-e882-4ed9f2821461"
      },
      "execution_count": 60,
      "outputs": [
        {
          "output_type": "stream",
          "name": "stdout",
          "text": [
            "Model: \"sequential\"\n",
            "_________________________________________________________________\n",
            " Layer (type)                Output Shape              Param #   \n",
            "=================================================================\n",
            " conv2d (Conv2D)             (None, 28, 28, 32)        320       \n",
            "                                                                 \n",
            " conv2d_1 (Conv2D)           (None, 28, 28, 64)        18496     \n",
            "                                                                 \n",
            " max_pooling2d (MaxPooling2D  (None, 14, 14, 64)       0         \n",
            " )                                                               \n",
            "                                                                 \n",
            " conv2d_2 (Conv2D)           (None, 14, 14, 128)       73856     \n",
            "                                                                 \n",
            " conv2d_3 (Conv2D)           (None, 14, 14, 128)       147584    \n",
            "                                                                 \n",
            " max_pooling2d_1 (MaxPooling  (None, 7, 7, 128)        0         \n",
            " 2D)                                                             \n",
            "                                                                 \n",
            " global_max_pooling2d (Globa  (None, 128)              0         \n",
            " lMaxPooling2D)                                                  \n",
            "                                                                 \n",
            " dropout (Dropout)           (None, 128)               0         \n",
            "                                                                 \n",
            " dense (Dense)               (None, 128)               16512     \n",
            "                                                                 \n",
            " dropout_1 (Dropout)         (None, 128)               0         \n",
            "                                                                 \n",
            " dense_1 (Dense)             (None, 10)                1290      \n",
            "                                                                 \n",
            "=================================================================\n",
            "Total params: 258,058\n",
            "Trainable params: 258,058\n",
            "Non-trainable params: 0\n",
            "_________________________________________________________________\n"
          ]
        }
      ]
    },
    {
      "cell_type": "markdown",
      "source": [
        "### Model_7"
      ],
      "metadata": {
        "id": "Ggtb5Htoc4-Z"
      }
    },
    {
      "cell_type": "markdown",
      "source": [
        "**Model_7 (last experiment)**\n",
        "\n",
        "In this model we are going to add another stack of convolutional and pooling layers. We will also use MaxPool2D and Flatten layers instead of GlobalMaxPool2D since it performs slightly better."
      ],
      "metadata": {
        "id": "C8LWG3PSWAjh"
      }
    },
    {
      "cell_type": "code",
      "source": [
        "# Building model_7\n",
        "tf.random.set_seed(42)\n",
        "tf.keras.backend.clear_session()\n",
        "\n",
        "model_7 = tf.keras.Sequential([\n",
        "  tf.keras.layers.Conv2D(filters=32, kernel_size=3, padding=\"same\", input_shape=[28, 28, 1],\n",
        "                          activation=\"relu\", kernel_initializer=\"he_normal\"),\n",
        "  tf.keras.layers.Conv2D(filters=64, kernel_size=3, padding=\"same\",\n",
        "                          activation=\"relu\", kernel_initializer=\"he_normal\"),\n",
        "  tf.keras.layers.MaxPool2D(),\n",
        "  tf.keras.layers.Conv2D(filters=128, kernel_size=3, padding=\"same\",\n",
        "                          activation=\"relu\", kernel_initializer=\"he_normal\"),\n",
        "  tf.keras.layers.Conv2D(filters=128, kernel_size=3, padding=\"same\",\n",
        "                          activation=\"relu\", kernel_initializer=\"he_normal\"),\n",
        "  tf.keras.layers.MaxPool2D(),\n",
        "  tf.keras.layers.Conv2D(filters=256, kernel_size=3, padding=\"same\",\n",
        "                          activation=\"relu\", kernel_initializer=\"he_normal\"),\n",
        "  tf.keras.layers.Conv2D(filters=256, kernel_size=3, padding=\"same\",\n",
        "                          activation=\"relu\", kernel_initializer=\"he_normal\"),\n",
        "  tf.keras.layers.MaxPool2D(),\n",
        "  tf.keras.layers.Flatten(),\n",
        "  tf.keras.layers.Dropout(0.25),\n",
        "  tf.keras.layers.Dense(128, activation=\"relu\", kernel_initializer=\"he_normal\"),\n",
        "  tf.keras.layers.Dropout(0.5),\n",
        "  tf.keras.layers.Dense(10, activation=\"softmax\")\n",
        "])\n",
        "\n",
        "compile_train_model(model_7)\n",
        "model_7_loss, model_7_accuracy = model_7.evaluate(X_test, y_test)\n",
        "print(f\"Model_7 accuracy: {model_7_accuracy*100:.2f}%\")"
      ],
      "metadata": {
        "colab": {
          "base_uri": "https://localhost:8080/"
        },
        "id": "1kdoJod8WPkE",
        "outputId": "53f1c44a-ae80-45c2-a5fd-795f404180ee"
      },
      "execution_count": 62,
      "outputs": [
        {
          "output_type": "stream",
          "name": "stdout",
          "text": [
            "Epoch 1/10\n",
            "1688/1688 [==============================] - 18s 8ms/step - loss: 0.2471 - accuracy: 0.9253 - val_loss: 0.0603 - val_accuracy: 0.9818\n",
            "Epoch 2/10\n",
            "1688/1688 [==============================] - 18s 11ms/step - loss: 0.0703 - accuracy: 0.9809 - val_loss: 0.0457 - val_accuracy: 0.9878\n",
            "Epoch 3/10\n",
            "1688/1688 [==============================] - 14s 8ms/step - loss: 0.0523 - accuracy: 0.9860 - val_loss: 0.0424 - val_accuracy: 0.9888\n",
            "Epoch 4/10\n",
            "1688/1688 [==============================] - 16s 9ms/step - loss: 0.0429 - accuracy: 0.9882 - val_loss: 0.0373 - val_accuracy: 0.9887\n",
            "Epoch 5/10\n",
            "1688/1688 [==============================] - 16s 9ms/step - loss: 0.0367 - accuracy: 0.9906 - val_loss: 0.0410 - val_accuracy: 0.9893\n",
            "Epoch 6/10\n",
            "1688/1688 [==============================] - 19s 11ms/step - loss: 0.0341 - accuracy: 0.9914 - val_loss: 0.0277 - val_accuracy: 0.9933\n",
            "Epoch 7/10\n",
            "1688/1688 [==============================] - 17s 10ms/step - loss: 0.0282 - accuracy: 0.9925 - val_loss: 0.0668 - val_accuracy: 0.9887\n",
            "Epoch 8/10\n",
            "1688/1688 [==============================] - 18s 11ms/step - loss: 0.0289 - accuracy: 0.9921 - val_loss: 0.0338 - val_accuracy: 0.9927\n",
            "Epoch 9/10\n",
            "1688/1688 [==============================] - 15s 9ms/step - loss: 0.0247 - accuracy: 0.9936 - val_loss: 0.0362 - val_accuracy: 0.9935\n",
            "Epoch 10/10\n",
            "1688/1688 [==============================] - 15s 9ms/step - loss: 0.0243 - accuracy: 0.9937 - val_loss: 0.0449 - val_accuracy: 0.9915\n",
            "313/313 [==============================] - 1s 4ms/step - loss: 0.0480 - accuracy: 0.9894\n",
            "Model_7 accuracy: 98.94%\n"
          ]
        }
      ]
    },
    {
      "cell_type": "markdown",
      "source": [
        "**Note:** looks like this model still performs very well, however it isn't as good as our previous models, so maybe this architecture is to complex for our digits dataset."
      ],
      "metadata": {
        "id": "7XJSlz0YXPJo"
      }
    },
    {
      "cell_type": "code",
      "source": [
        "model_7.summary()"
      ],
      "metadata": {
        "colab": {
          "base_uri": "https://localhost:8080/"
        },
        "id": "bdC7b9dYWhT1",
        "outputId": "a9a11bbe-900d-4807-a875-2b9262f1d5cf"
      },
      "execution_count": 63,
      "outputs": [
        {
          "output_type": "stream",
          "name": "stdout",
          "text": [
            "Model: \"sequential\"\n",
            "_________________________________________________________________\n",
            " Layer (type)                Output Shape              Param #   \n",
            "=================================================================\n",
            " conv2d (Conv2D)             (None, 28, 28, 32)        320       \n",
            "                                                                 \n",
            " conv2d_1 (Conv2D)           (None, 28, 28, 64)        18496     \n",
            "                                                                 \n",
            " max_pooling2d (MaxPooling2D  (None, 14, 14, 64)       0         \n",
            " )                                                               \n",
            "                                                                 \n",
            " conv2d_2 (Conv2D)           (None, 14, 14, 128)       73856     \n",
            "                                                                 \n",
            " conv2d_3 (Conv2D)           (None, 14, 14, 128)       147584    \n",
            "                                                                 \n",
            " max_pooling2d_1 (MaxPooling  (None, 7, 7, 128)        0         \n",
            " 2D)                                                             \n",
            "                                                                 \n",
            " conv2d_4 (Conv2D)           (None, 7, 7, 256)         295168    \n",
            "                                                                 \n",
            " conv2d_5 (Conv2D)           (None, 7, 7, 256)         590080    \n",
            "                                                                 \n",
            " max_pooling2d_2 (MaxPooling  (None, 3, 3, 256)        0         \n",
            " 2D)                                                             \n",
            "                                                                 \n",
            " flatten (Flatten)           (None, 2304)              0         \n",
            "                                                                 \n",
            " dropout (Dropout)           (None, 2304)              0         \n",
            "                                                                 \n",
            " dense (Dense)               (None, 128)               295040    \n",
            "                                                                 \n",
            " dropout_1 (Dropout)         (None, 128)               0         \n",
            "                                                                 \n",
            " dense_1 (Dense)             (None, 10)                1290      \n",
            "                                                                 \n",
            "=================================================================\n",
            "Total params: 1,421,834\n",
            "Trainable params: 1,421,834\n",
            "Non-trainable params: 0\n",
            "_________________________________________________________________\n"
          ]
        }
      ]
    },
    {
      "cell_type": "markdown",
      "source": [
        "## Comparing Experiments"
      ],
      "metadata": {
        "id": "V0bGad2yWpIu"
      }
    },
    {
      "cell_type": "code",
      "source": [
        "from sklearn.metrics import accuracy_score, precision_recall_fscore_support\n",
        "\n",
        "def evaluate_model(model, X_test=X_test, y_true=y_test):\n",
        "  y_pred = model.predict(X_test)\n",
        "  y_pred = np.argmax(y_pred, axis=-1)\n",
        "\n",
        "  accuracy = accuracy_score(y_true, y_pred)\n",
        "  precision, recall, f1, _ = precision_recall_fscore_support(y_true, y_pred, average=\"weighted\")\n",
        "  return {\n",
        "      \"accuracy\": accuracy,\n",
        "      \"precision\": precision,\n",
        "      \"recall\": recall,\n",
        "      \"f1_score\": f1\n",
        "  }"
      ],
      "metadata": {
        "id": "8KZUsPWAWpMv"
      },
      "execution_count": 64,
      "outputs": []
    },
    {
      "cell_type": "code",
      "source": [
        "model_1_results = evaluate_model(model_1)\n",
        "model_2_results = evaluate_model(model_2)\n",
        "model_3_results = evaluate_model(model_3)\n",
        "model_4_results = evaluate_model(model_4)\n",
        "model_5_results = evaluate_model(model_5)\n",
        "model_6_results = evaluate_model(model_6)\n",
        "model_7_results = evaluate_model(model_7)\n",
        "model_5_results"
      ],
      "metadata": {
        "colab": {
          "base_uri": "https://localhost:8080/"
        },
        "id": "JAOaUrqWWpQu",
        "outputId": "0d34449e-1e02-42f9-feb4-ecd6f1d3958c"
      },
      "execution_count": 65,
      "outputs": [
        {
          "output_type": "stream",
          "name": "stdout",
          "text": [
            "313/313 [==============================] - 1s 2ms/step\n",
            "313/313 [==============================] - 1s 4ms/step\n",
            "313/313 [==============================] - 1s 4ms/step\n",
            "313/313 [==============================] - 1s 2ms/step\n",
            "313/313 [==============================] - 1s 2ms/step\n",
            "313/313 [==============================] - 1s 2ms/step\n",
            "313/313 [==============================] - 1s 2ms/step\n"
          ]
        },
        {
          "output_type": "execute_result",
          "data": {
            "text/plain": [
              "{'accuracy': 0.9937,\n",
              " 'precision': 0.9937014822825798,\n",
              " 'recall': 0.9937,\n",
              " 'f1_score': 0.9936967622408496}"
            ]
          },
          "metadata": {},
          "execution_count": 65
        }
      ]
    },
    {
      "cell_type": "code",
      "source": [
        "model_results = pd.DataFrame({\"model_1\": model_1_results,\n",
        "                              \"model_2\": model_2_results,\n",
        "                              \"model_3\": model_3_results,\n",
        "                              \"model_4\": model_4_results,\n",
        "                              \"model_5\": model_5_results,\n",
        "                              \"model_6\": model_6_results,\n",
        "                              \"model_7\": model_7_results}).T\n",
        "model_results = model_results.sort_values(by=[\"f1_score\"], ascending=False)\n",
        "model_results"
      ],
      "metadata": {
        "colab": {
          "base_uri": "https://localhost:8080/",
          "height": 269
        },
        "id": "3D_fC905WpVB",
        "outputId": "c706545c-63df-409b-a520-55fb69f46eb8"
      },
      "execution_count": 74,
      "outputs": [
        {
          "output_type": "execute_result",
          "data": {
            "text/plain": [
              "         accuracy  precision  recall  f1_score\n",
              "model_5    0.9937   0.993701  0.9937  0.993697\n",
              "model_6    0.9927   0.992715  0.9927  0.992700\n",
              "model_3    0.9915   0.991512  0.9915  0.991498\n",
              "model_7    0.9894   0.989527  0.9894  0.989403\n",
              "model_4    0.9878   0.987807  0.9878  0.987794\n",
              "model_2    0.9643   0.964781  0.9643  0.964223\n",
              "model_1    0.9594   0.960730  0.9594  0.959477"
            ],
            "text/html": [
              "\n",
              "  <div id=\"df-137cdb34-a980-4b32-bb75-9ec8fa75a161\" class=\"colab-df-container\">\n",
              "    <div>\n",
              "<style scoped>\n",
              "    .dataframe tbody tr th:only-of-type {\n",
              "        vertical-align: middle;\n",
              "    }\n",
              "\n",
              "    .dataframe tbody tr th {\n",
              "        vertical-align: top;\n",
              "    }\n",
              "\n",
              "    .dataframe thead th {\n",
              "        text-align: right;\n",
              "    }\n",
              "</style>\n",
              "<table border=\"1\" class=\"dataframe\">\n",
              "  <thead>\n",
              "    <tr style=\"text-align: right;\">\n",
              "      <th></th>\n",
              "      <th>accuracy</th>\n",
              "      <th>precision</th>\n",
              "      <th>recall</th>\n",
              "      <th>f1_score</th>\n",
              "    </tr>\n",
              "  </thead>\n",
              "  <tbody>\n",
              "    <tr>\n",
              "      <th>model_5</th>\n",
              "      <td>0.9937</td>\n",
              "      <td>0.993701</td>\n",
              "      <td>0.9937</td>\n",
              "      <td>0.993697</td>\n",
              "    </tr>\n",
              "    <tr>\n",
              "      <th>model_6</th>\n",
              "      <td>0.9927</td>\n",
              "      <td>0.992715</td>\n",
              "      <td>0.9927</td>\n",
              "      <td>0.992700</td>\n",
              "    </tr>\n",
              "    <tr>\n",
              "      <th>model_3</th>\n",
              "      <td>0.9915</td>\n",
              "      <td>0.991512</td>\n",
              "      <td>0.9915</td>\n",
              "      <td>0.991498</td>\n",
              "    </tr>\n",
              "    <tr>\n",
              "      <th>model_7</th>\n",
              "      <td>0.9894</td>\n",
              "      <td>0.989527</td>\n",
              "      <td>0.9894</td>\n",
              "      <td>0.989403</td>\n",
              "    </tr>\n",
              "    <tr>\n",
              "      <th>model_4</th>\n",
              "      <td>0.9878</td>\n",
              "      <td>0.987807</td>\n",
              "      <td>0.9878</td>\n",
              "      <td>0.987794</td>\n",
              "    </tr>\n",
              "    <tr>\n",
              "      <th>model_2</th>\n",
              "      <td>0.9643</td>\n",
              "      <td>0.964781</td>\n",
              "      <td>0.9643</td>\n",
              "      <td>0.964223</td>\n",
              "    </tr>\n",
              "    <tr>\n",
              "      <th>model_1</th>\n",
              "      <td>0.9594</td>\n",
              "      <td>0.960730</td>\n",
              "      <td>0.9594</td>\n",
              "      <td>0.959477</td>\n",
              "    </tr>\n",
              "  </tbody>\n",
              "</table>\n",
              "</div>\n",
              "    <div class=\"colab-df-buttons\">\n",
              "\n",
              "  <div class=\"colab-df-container\">\n",
              "    <button class=\"colab-df-convert\" onclick=\"convertToInteractive('df-137cdb34-a980-4b32-bb75-9ec8fa75a161')\"\n",
              "            title=\"Convert this dataframe to an interactive table.\"\n",
              "            style=\"display:none;\">\n",
              "\n",
              "  <svg xmlns=\"http://www.w3.org/2000/svg\" height=\"24px\" viewBox=\"0 -960 960 960\">\n",
              "    <path d=\"M120-120v-720h720v720H120Zm60-500h600v-160H180v160Zm220 220h160v-160H400v160Zm0 220h160v-160H400v160ZM180-400h160v-160H180v160Zm440 0h160v-160H620v160ZM180-180h160v-160H180v160Zm440 0h160v-160H620v160Z\"/>\n",
              "  </svg>\n",
              "    </button>\n",
              "\n",
              "  <style>\n",
              "    .colab-df-container {\n",
              "      display:flex;\n",
              "      gap: 12px;\n",
              "    }\n",
              "\n",
              "    .colab-df-convert {\n",
              "      background-color: #E8F0FE;\n",
              "      border: none;\n",
              "      border-radius: 50%;\n",
              "      cursor: pointer;\n",
              "      display: none;\n",
              "      fill: #1967D2;\n",
              "      height: 32px;\n",
              "      padding: 0 0 0 0;\n",
              "      width: 32px;\n",
              "    }\n",
              "\n",
              "    .colab-df-convert:hover {\n",
              "      background-color: #E2EBFA;\n",
              "      box-shadow: 0px 1px 2px rgba(60, 64, 67, 0.3), 0px 1px 3px 1px rgba(60, 64, 67, 0.15);\n",
              "      fill: #174EA6;\n",
              "    }\n",
              "\n",
              "    .colab-df-buttons div {\n",
              "      margin-bottom: 4px;\n",
              "    }\n",
              "\n",
              "    [theme=dark] .colab-df-convert {\n",
              "      background-color: #3B4455;\n",
              "      fill: #D2E3FC;\n",
              "    }\n",
              "\n",
              "    [theme=dark] .colab-df-convert:hover {\n",
              "      background-color: #434B5C;\n",
              "      box-shadow: 0px 1px 3px 1px rgba(0, 0, 0, 0.15);\n",
              "      filter: drop-shadow(0px 1px 2px rgba(0, 0, 0, 0.3));\n",
              "      fill: #FFFFFF;\n",
              "    }\n",
              "  </style>\n",
              "\n",
              "    <script>\n",
              "      const buttonEl =\n",
              "        document.querySelector('#df-137cdb34-a980-4b32-bb75-9ec8fa75a161 button.colab-df-convert');\n",
              "      buttonEl.style.display =\n",
              "        google.colab.kernel.accessAllowed ? 'block' : 'none';\n",
              "\n",
              "      async function convertToInteractive(key) {\n",
              "        const element = document.querySelector('#df-137cdb34-a980-4b32-bb75-9ec8fa75a161');\n",
              "        const dataTable =\n",
              "          await google.colab.kernel.invokeFunction('convertToInteractive',\n",
              "                                                    [key], {});\n",
              "        if (!dataTable) return;\n",
              "\n",
              "        const docLinkHtml = 'Like what you see? Visit the ' +\n",
              "          '<a target=\"_blank\" href=https://colab.research.google.com/notebooks/data_table.ipynb>data table notebook</a>'\n",
              "          + ' to learn more about interactive tables.';\n",
              "        element.innerHTML = '';\n",
              "        dataTable['output_type'] = 'display_data';\n",
              "        await google.colab.output.renderOutput(dataTable, element);\n",
              "        const docLink = document.createElement('div');\n",
              "        docLink.innerHTML = docLinkHtml;\n",
              "        element.appendChild(docLink);\n",
              "      }\n",
              "    </script>\n",
              "  </div>\n",
              "\n",
              "\n",
              "<div id=\"df-da312910-caaa-48c6-9031-bbe364c78a4e\">\n",
              "  <button class=\"colab-df-quickchart\" onclick=\"quickchart('df-da312910-caaa-48c6-9031-bbe364c78a4e')\"\n",
              "            title=\"Suggest charts.\"\n",
              "            style=\"display:none;\">\n",
              "\n",
              "<svg xmlns=\"http://www.w3.org/2000/svg\" height=\"24px\"viewBox=\"0 0 24 24\"\n",
              "     width=\"24px\">\n",
              "    <g>\n",
              "        <path d=\"M19 3H5c-1.1 0-2 .9-2 2v14c0 1.1.9 2 2 2h14c1.1 0 2-.9 2-2V5c0-1.1-.9-2-2-2zM9 17H7v-7h2v7zm4 0h-2V7h2v10zm4 0h-2v-4h2v4z\"/>\n",
              "    </g>\n",
              "</svg>\n",
              "  </button>\n",
              "\n",
              "<style>\n",
              "  .colab-df-quickchart {\n",
              "    background-color: #E8F0FE;\n",
              "    border: none;\n",
              "    border-radius: 50%;\n",
              "    cursor: pointer;\n",
              "    display: none;\n",
              "    fill: #1967D2;\n",
              "    height: 32px;\n",
              "    padding: 0 0 0 0;\n",
              "    width: 32px;\n",
              "  }\n",
              "\n",
              "  .colab-df-quickchart:hover {\n",
              "    background-color: #E2EBFA;\n",
              "    box-shadow: 0px 1px 2px rgba(60, 64, 67, 0.3), 0px 1px 3px 1px rgba(60, 64, 67, 0.15);\n",
              "    fill: #174EA6;\n",
              "  }\n",
              "\n",
              "  [theme=dark] .colab-df-quickchart {\n",
              "    background-color: #3B4455;\n",
              "    fill: #D2E3FC;\n",
              "  }\n",
              "\n",
              "  [theme=dark] .colab-df-quickchart:hover {\n",
              "    background-color: #434B5C;\n",
              "    box-shadow: 0px 1px 3px 1px rgba(0, 0, 0, 0.15);\n",
              "    filter: drop-shadow(0px 1px 2px rgba(0, 0, 0, 0.3));\n",
              "    fill: #FFFFFF;\n",
              "  }\n",
              "</style>\n",
              "\n",
              "  <script>\n",
              "    async function quickchart(key) {\n",
              "      const charts = await google.colab.kernel.invokeFunction(\n",
              "          'suggestCharts', [key], {});\n",
              "    }\n",
              "    (() => {\n",
              "      let quickchartButtonEl =\n",
              "        document.querySelector('#df-da312910-caaa-48c6-9031-bbe364c78a4e button');\n",
              "      quickchartButtonEl.style.display =\n",
              "        google.colab.kernel.accessAllowed ? 'block' : 'none';\n",
              "    })();\n",
              "  </script>\n",
              "</div>\n",
              "    </div>\n",
              "  </div>\n"
            ]
          },
          "metadata": {},
          "execution_count": 74
        }
      ]
    },
    {
      "cell_type": "code",
      "source": [
        "model_results.plot(kind=\"bar\", rot=30, figsize=(15, 5));"
      ],
      "metadata": {
        "colab": {
          "base_uri": "https://localhost:8080/",
          "height": 473
        },
        "id": "ONqhuN_sYfY_",
        "outputId": "2509fed1-9c8e-4100-f0b8-051a863d7ce0"
      },
      "execution_count": 75,
      "outputs": [
        {
          "output_type": "display_data",
          "data": {
            "text/plain": [
              "<Figure size 1500x500 with 1 Axes>"
            ],
            "image/png": "[encoded data removed]"
          },
          "metadata": {}
        }
      ]
    },
    {
      "cell_type": "markdown",
      "source": [
        "### Creating confusion matrix (with our best performing model)"
      ],
      "metadata": {
        "id": "j6vk7QrvYlLg"
      }
    },
    {
      "cell_type": "code",
      "source": [
        "from sklearn.metrics import confusion_matrix\n",
        "\n",
        "model_5_preds = np.argmax(model_5.predict(X_test), axis=-1)\n",
        "cm = confusion_matrix(y_test, model_5_preds)\n",
        "pd.DataFrame(cm)"
      ],
      "metadata": {
        "colab": {
          "base_uri": "https://localhost:8080/",
          "height": 380
        },
        "id": "eqkpZj3jZB2E",
        "outputId": "582805dc-475e-42b6-9208-1fd89cdf59aa"
      },
      "execution_count": 76,
      "outputs": [
        {
          "output_type": "stream",
          "name": "stdout",
          "text": [
            "313/313 [==============================] - 1s 3ms/step\n"
          ]
        },
        {
          "output_type": "execute_result",
          "data": {
            "text/plain": [
              "     0     1     2     3    4    5    6     7    8    9\n",
              "0  973     0     0     0    1    0    3     1    1    1\n",
              "1    0  1134     0     1    0    0    0     0    0    0\n",
              "2    0     1  1027     1    0    0    1     1    1    0\n",
              "3    0     0     0  1009    0    1    0     0    0    0\n",
              "4    0     0     0     0  976    0    1     0    0    5\n",
              "5    0     0     0     3    0  886    1     0    1    1\n",
              "6    1     2     0     0    3    0  950     0    2    0\n",
              "7    0     1     3     0    0    0    0  1024    0    0\n",
              "8    1     1     2     1    0    1    0     1  965    2\n",
              "9    0     0     1     0    5    2    0     6    2  993"
            ],
            "text/html": [
              "\n",
              "  <div id=\"df-f860c9df-e5c2-4b16-b6e9-8b0c89390153\" class=\"colab-df-container\">\n",
              "    <div>\n",
              "<style scoped>\n",
              "    .dataframe tbody tr th:only-of-type {\n",
              "        vertical-align: middle;\n",
              "    }\n",
              "\n",
              "    .dataframe tbody tr th {\n",
              "        vertical-align: top;\n",
              "    }\n",
              "\n",
              "    .dataframe thead th {\n",
              "        text-align: right;\n",
              "    }\n",
              "</style>\n",
              "<table border=\"1\" class=\"dataframe\">\n",
              "  <thead>\n",
              "    <tr style=\"text-align: right;\">\n",
              "      <th></th>\n",
              "      <th>0</th>\n",
              "      <th>1</th>\n",
              "      <th>2</th>\n",
              "      <th>3</th>\n",
              "      <th>4</th>\n",
              "      <th>5</th>\n",
              "      <th>6</th>\n",
              "      <th>7</th>\n",
              "      <th>8</th>\n",
              "      <th>9</th>\n",
              "    </tr>\n",
              "  </thead>\n",
              "  <tbody>\n",
              "    <tr>\n",
              "      <th>0</th>\n",
              "      <td>973</td>\n",
              "      <td>0</td>\n",
              "      <td>0</td>\n",
              "      <td>0</td>\n",
              "      <td>1</td>\n",
              "      <td>0</td>\n",
              "      <td>3</td>\n",
              "      <td>1</td>\n",
              "      <td>1</td>\n",
              "      <td>1</td>\n",
              "    </tr>\n",
              "    <tr>\n",
              "      <th>1</th>\n",
              "      <td>0</td>\n",
              "      <td>1134</td>\n",
              "      <td>0</td>\n",
              "      <td>1</td>\n",
              "      <td>0</td>\n",
              "      <td>0</td>\n",
              "      <td>0</td>\n",
              "      <td>0</td>\n",
              "      <td>0</td>\n",
              "      <td>0</td>\n",
              "    </tr>\n",
              "    <tr>\n",
              "      <th>2</th>\n",
              "      <td>0</td>\n",
              "      <td>1</td>\n",
              "      <td>1027</td>\n",
              "      <td>1</td>\n",
              "      <td>0</td>\n",
              "      <td>0</td>\n",
              "      <td>1</td>\n",
              "      <td>1</td>\n",
              "      <td>1</td>\n",
              "      <td>0</td>\n",
              "    </tr>\n",
              "    <tr>\n",
              "      <th>3</th>\n",
              "      <td>0</td>\n",
              "      <td>0</td>\n",
              "      <td>0</td>\n",
              "      <td>1009</td>\n",
              "      <td>0</td>\n",
              "      <td>1</td>\n",
              "      <td>0</td>\n",
              "      <td>0</td>\n",
              "      <td>0</td>\n",
              "      <td>0</td>\n",
              "    </tr>\n",
              "    <tr>\n",
              "      <th>4</th>\n",
              "      <td>0</td>\n",
              "      <td>0</td>\n",
              "      <td>0</td>\n",
              "      <td>0</td>\n",
              "      <td>976</td>\n",
              "      <td>0</td>\n",
              "      <td>1</td>\n",
              "      <td>0</td>\n",
              "      <td>0</td>\n",
              "      <td>5</td>\n",
              "    </tr>\n",
              "    <tr>\n",
              "      <th>5</th>\n",
              "      <td>0</td>\n",
              "      <td>0</td>\n",
              "      <td>0</td>\n",
              "      <td>3</td>\n",
              "      <td>0</td>\n",
              "      <td>886</td>\n",
              "      <td>1</td>\n",
              "      <td>0</td>\n",
              "      <td>1</td>\n",
              "      <td>1</td>\n",
              "    </tr>\n",
              "    <tr>\n",
              "      <th>6</th>\n",
              "      <td>1</td>\n",
              "      <td>2</td>\n",
              "      <td>0</td>\n",
              "      <td>0</td>\n",
              "      <td>3</td>\n",
              "      <td>0</td>\n",
              "      <td>950</td>\n",
              "      <td>0</td>\n",
              "      <td>2</td>\n",
              "      <td>0</td>\n",
              "    </tr>\n",
              "    <tr>\n",
              "      <th>7</th>\n",
              "      <td>0</td>\n",
              "      <td>1</td>\n",
              "      <td>3</td>\n",
              "      <td>0</td>\n",
              "      <td>0</td>\n",
              "      <td>0</td>\n",
              "      <td>0</td>\n",
              "      <td>1024</td>\n",
              "      <td>0</td>\n",
              "      <td>0</td>\n",
              "    </tr>\n",
              "    <tr>\n",
              "      <th>8</th>\n",
              "      <td>1</td>\n",
              "      <td>1</td>\n",
              "      <td>2</td>\n",
              "      <td>1</td>\n",
              "      <td>0</td>\n",
              "      <td>1</td>\n",
              "      <td>0</td>\n",
              "      <td>1</td>\n",
              "      <td>965</td>\n",
              "      <td>2</td>\n",
              "    </tr>\n",
              "    <tr>\n",
              "      <th>9</th>\n",
              "      <td>0</td>\n",
              "      <td>0</td>\n",
              "      <td>1</td>\n",
              "      <td>0</td>\n",
              "      <td>5</td>\n",
              "      <td>2</td>\n",
              "      <td>0</td>\n",
              "      <td>6</td>\n",
              "      <td>2</td>\n",
              "      <td>993</td>\n",
              "    </tr>\n",
              "  </tbody>\n",
              "</table>\n",
              "</div>\n",
              "    <div class=\"colab-df-buttons\">\n",
              "\n",
              "  <div class=\"colab-df-container\">\n",
              "    <button class=\"colab-df-convert\" onclick=\"convertToInteractive('df-f860c9df-e5c2-4b16-b6e9-8b0c89390153')\"\n",
              "            title=\"Convert this dataframe to an interactive table.\"\n",
              "            style=\"display:none;\">\n",
              "\n",
              "  <svg xmlns=\"http://www.w3.org/2000/svg\" height=\"24px\" viewBox=\"0 -960 960 960\">\n",
              "    <path d=\"M120-120v-720h720v720H120Zm60-500h600v-160H180v160Zm220 220h160v-160H400v160Zm0 220h160v-160H400v160ZM180-400h160v-160H180v160Zm440 0h160v-160H620v160ZM180-180h160v-160H180v160Zm440 0h160v-160H620v160Z\"/>\n",
              "  </svg>\n",
              "    </button>\n",
              "\n",
              "  <style>\n",
              "    .colab-df-container {\n",
              "      display:flex;\n",
              "      gap: 12px;\n",
              "    }\n",
              "\n",
              "    .colab-df-convert {\n",
              "      background-color: #E8F0FE;\n",
              "      border: none;\n",
              "      border-radius: 50%;\n",
              "      cursor: pointer;\n",
              "      display: none;\n",
              "      fill: #1967D2;\n",
              "      height: 32px;\n",
              "      padding: 0 0 0 0;\n",
              "      width: 32px;\n",
              "    }\n",
              "\n",
              "    .colab-df-convert:hover {\n",
              "      background-color: #E2EBFA;\n",
              "      box-shadow: 0px 1px 2px rgba(60, 64, 67, 0.3), 0px 1px 3px 1px rgba(60, 64, 67, 0.15);\n",
              "      fill: #174EA6;\n",
              "    }\n",
              "\n",
              "    .colab-df-buttons div {\n",
              "      margin-bottom: 4px;\n",
              "    }\n",
              "\n",
              "    [theme=dark] .colab-df-convert {\n",
              "      background-color: #3B4455;\n",
              "      fill: #D2E3FC;\n",
              "    }\n",
              "\n",
              "    [theme=dark] .colab-df-convert:hover {\n",
              "      background-color: #434B5C;\n",
              "      box-shadow: 0px 1px 3px 1px rgba(0, 0, 0, 0.15);\n",
              "      filter: drop-shadow(0px 1px 2px rgba(0, 0, 0, 0.3));\n",
              "      fill: #FFFFFF;\n",
              "    }\n",
              "  </style>\n",
              "\n",
              "    <script>\n",
              "      const buttonEl =\n",
              "        document.querySelector('#df-f860c9df-e5c2-4b16-b6e9-8b0c89390153 button.colab-df-convert');\n",
              "      buttonEl.style.display =\n",
              "        google.colab.kernel.accessAllowed ? 'block' : 'none';\n",
              "\n",
              "      async function convertToInteractive(key) {\n",
              "        const element = document.querySelector('#df-f860c9df-e5c2-4b16-b6e9-8b0c89390153');\n",
              "        const dataTable =\n",
              "          await google.colab.kernel.invokeFunction('convertToInteractive',\n",
              "                                                    [key], {});\n",
              "        if (!dataTable) return;\n",
              "\n",
              "        const docLinkHtml = 'Like what you see? Visit the ' +\n",
              "          '<a target=\"_blank\" href=https://colab.research.google.com/notebooks/data_table.ipynb>data table notebook</a>'\n",
              "          + ' to learn more about interactive tables.';\n",
              "        element.innerHTML = '';\n",
              "        dataTable['output_type'] = 'display_data';\n",
              "        await google.colab.output.renderOutput(dataTable, element);\n",
              "        const docLink = document.createElement('div');\n",
              "        docLink.innerHTML = docLinkHtml;\n",
              "        element.appendChild(docLink);\n",
              "      }\n",
              "    </script>\n",
              "  </div>\n",
              "\n",
              "\n",
              "<div id=\"df-11e3a642-6f53-4a55-9df9-6e2b7ff24343\">\n",
              "  <button class=\"colab-df-quickchart\" onclick=\"quickchart('df-11e3a642-6f53-4a55-9df9-6e2b7ff24343')\"\n",
              "            title=\"Suggest charts.\"\n",
              "            style=\"display:none;\">\n",
              "\n",
              "<svg xmlns=\"http://www.w3.org/2000/svg\" height=\"24px\"viewBox=\"0 0 24 24\"\n",
              "     width=\"24px\">\n",
              "    <g>\n",
              "        <path d=\"M19 3H5c-1.1 0-2 .9-2 2v14c0 1.1.9 2 2 2h14c1.1 0 2-.9 2-2V5c0-1.1-.9-2-2-2zM9 17H7v-7h2v7zm4 0h-2V7h2v10zm4 0h-2v-4h2v4z\"/>\n",
              "    </g>\n",
              "</svg>\n",
              "  </button>\n",
              "\n",
              "<style>\n",
              "  .colab-df-quickchart {\n",
              "    background-color: #E8F0FE;\n",
              "    border: none;\n",
              "    border-radius: 50%;\n",
              "    cursor: pointer;\n",
              "    display: none;\n",
              "    fill: #1967D2;\n",
              "    height: 32px;\n",
              "    padding: 0 0 0 0;\n",
              "    width: 32px;\n",
              "  }\n",
              "\n",
              "  .colab-df-quickchart:hover {\n",
              "    background-color: #E2EBFA;\n",
              "    box-shadow: 0px 1px 2px rgba(60, 64, 67, 0.3), 0px 1px 3px 1px rgba(60, 64, 67, 0.15);\n",
              "    fill: #174EA6;\n",
              "  }\n",
              "\n",
              "  [theme=dark] .colab-df-quickchart {\n",
              "    background-color: #3B4455;\n",
              "    fill: #D2E3FC;\n",
              "  }\n",
              "\n",
              "  [theme=dark] .colab-df-quickchart:hover {\n",
              "    background-color: #434B5C;\n",
              "    box-shadow: 0px 1px 3px 1px rgba(0, 0, 0, 0.15);\n",
              "    filter: drop-shadow(0px 1px 2px rgba(0, 0, 0, 0.3));\n",
              "    fill: #FFFFFF;\n",
              "  }\n",
              "</style>\n",
              "\n",
              "  <script>\n",
              "    async function quickchart(key) {\n",
              "      const charts = await google.colab.kernel.invokeFunction(\n",
              "          'suggestCharts', [key], {});\n",
              "    }\n",
              "    (() => {\n",
              "      let quickchartButtonEl =\n",
              "        document.querySelector('#df-11e3a642-6f53-4a55-9df9-6e2b7ff24343 button');\n",
              "      quickchartButtonEl.style.display =\n",
              "        google.colab.kernel.accessAllowed ? 'block' : 'none';\n",
              "    })();\n",
              "  </script>\n",
              "</div>\n",
              "    </div>\n",
              "  </div>\n"
            ]
          },
          "metadata": {},
          "execution_count": 76
        }
      ]
    },
    {
      "cell_type": "code",
      "source": [
        "import seaborn as sns\n",
        "\n",
        "plt.figure(figsize=(15, 10))\n",
        "heatmap = sns.heatmap(cm,\n",
        "                      annot=True,\n",
        "                      fmt='.0f')\n",
        "plt.xlabel(\"Predicted Label\")\n",
        "plt.ylabel(\"True Label\");"
      ],
      "metadata": {
        "colab": {
          "base_uri": "https://localhost:8080/",
          "height": 850
        },
        "id": "IcyGxY3MZTg-",
        "outputId": "f9ff1458-0360-4474-ba85-3c89302318dd"
      },
      "execution_count": 87,
      "outputs": [
        {
          "output_type": "display_data",
          "data": {
            "text/plain": [
              "<Figure size 1500x1000 with 2 Axes>"
            ],
            "image/png": "[encoded data removed]"
          },
          "metadata": {}
        }
      ]
    },
    {
      "cell_type": "code",
      "source": [
        "def visualize_model_preds(images, labels, model_preds, n_rows=4, n_cols=4):\n",
        "  n_images = n_rows*n_cols\n",
        "  fig = plt.figure(figsize=(15, 15))\n",
        "\n",
        "  for idx, image in enumerate(images[:n_images]):\n",
        "    fig.add_subplot(n_rows, n_cols, idx+1)\n",
        "    plt.imshow(image)\n",
        "    plt.axis(False)\n",
        "\n",
        "    color = \"green\"\n",
        "    predicted_label = model_preds[idx]\n",
        "    if predicted_label != labels[idx]:\n",
        "      color = \"red\"\n",
        "\n",
        "    plt.title(f\"True label: {labels[idx]}\\nPredicted label: {model_preds[idx]}\", color=color)\n",
        "  plt.show()"
      ],
      "metadata": {
        "id": "sv_YLo7dZjA_"
      },
      "execution_count": 84,
      "outputs": []
    },
    {
      "cell_type": "code",
      "source": [
        "visualize_model_preds(X_test, y_test, model_5_preds)"
      ],
      "metadata": {
        "colab": {
          "base_uri": "https://localhost:8080/",
          "height": 1000
        },
        "id": "7zm43Ugpa8L8",
        "outputId": "e6ec8d8d-d366-4cd0-cd68-eb1d4a20f8c9"
      },
      "execution_count": 85,
      "outputs": [
        {
          "output_type": "display_data",
          "data": {
            "text/plain": [
              "<Figure size 1500x1500 with 16 Axes>"
            ],
            "image/png": "[encoded data removed]"
          },
          "metadata": {}
        }
      ]
    },
    {
      "cell_type": "markdown",
      "source": [
        "### Finding the most wrong predictions"
      ],
      "metadata": {
        "id": "syq0jYL4cOua"
      }
    },
    {
      "cell_type": "code",
      "source": [
        "model_5_preds_probas = np.max(model_5.predict(X_test), axis=-1)\n",
        "model_predictions = pd.DataFrame({\"Index\": range(len(X_test)),\n",
        "                                  \"True_label\": y_test,\n",
        "                                  \"Predicted_label\": model_5_preds,\n",
        "                                  \"Predicted_probability\": model_5_preds_probas})\n",
        "model_predictions[\"Is_correct\"] = model_predictions[\"True_label\"] == model_predictions[\"Predicted_label\"]\n",
        "model_predictions.head()"
      ],
      "metadata": {
        "colab": {
          "base_uri": "https://localhost:8080/",
          "height": 224
        },
        "id": "DcaRKAXIdHlY",
        "outputId": "0aa5d2f0-1dc3-4dda-b82a-495a4244db83"
      },
      "execution_count": 93,
      "outputs": [
        {
          "output_type": "stream",
          "name": "stdout",
          "text": [
            "313/313 [==============================] - 1s 3ms/step\n"
          ]
        },
        {
          "output_type": "execute_result",
          "data": {
            "text/plain": [
              "   Index  True_label  Predicted_label  Predicted_probability  Is_correct\n",
              "0      0           7                7                    1.0        True\n",
              "1      1           2                2                    1.0        True\n",
              "2      2           1                1                    1.0        True\n",
              "3      3           0                0                    1.0        True\n",
              "4      4           4                4                    1.0        True"
            ],
            "text/html": [
              "\n",
              "  <div id=\"df-03d05b88-7d43-4de3-b46a-5021cb549aa1\" class=\"colab-df-container\">\n",
              "    <div>\n",
              "<style scoped>\n",
              "    .dataframe tbody tr th:only-of-type {\n",
              "        vertical-align: middle;\n",
              "    }\n",
              "\n",
              "    .dataframe tbody tr th {\n",
              "        vertical-align: top;\n",
              "    }\n",
              "\n",
              "    .dataframe thead th {\n",
              "        text-align: right;\n",
              "    }\n",
              "</style>\n",
              "<table border=\"1\" class=\"dataframe\">\n",
              "  <thead>\n",
              "    <tr style=\"text-align: right;\">\n",
              "      <th></th>\n",
              "      <th>Index</th>\n",
              "      <th>True_label</th>\n",
              "      <th>Predicted_label</th>\n",
              "      <th>Predicted_probability</th>\n",
              "      <th>Is_correct</th>\n",
              "    </tr>\n",
              "  </thead>\n",
              "  <tbody>\n",
              "    <tr>\n",
              "      <th>0</th>\n",
              "      <td>0</td>\n",
              "      <td>7</td>\n",
              "      <td>7</td>\n",
              "      <td>1.0</td>\n",
              "      <td>True</td>\n",
              "    </tr>\n",
              "    <tr>\n",
              "      <th>1</th>\n",
              "      <td>1</td>\n",
              "      <td>2</td>\n",
              "      <td>2</td>\n",
              "      <td>1.0</td>\n",
              "      <td>True</td>\n",
              "    </tr>\n",
              "    <tr>\n",
              "      <th>2</th>\n",
              "      <td>2</td>\n",
              "      <td>1</td>\n",
              "      <td>1</td>\n",
              "      <td>1.0</td>\n",
              "      <td>True</td>\n",
              "    </tr>\n",
              "    <tr>\n",
              "      <th>3</th>\n",
              "      <td>3</td>\n",
              "      <td>0</td>\n",
              "      <td>0</td>\n",
              "      <td>1.0</td>\n",
              "      <td>True</td>\n",
              "    </tr>\n",
              "    <tr>\n",
              "      <th>4</th>\n",
              "      <td>4</td>\n",
              "      <td>4</td>\n",
              "      <td>4</td>\n",
              "      <td>1.0</td>\n",
              "      <td>True</td>\n",
              "    </tr>\n",
              "  </tbody>\n",
              "</table>\n",
              "</div>\n",
              "    <div class=\"colab-df-buttons\">\n",
              "\n",
              "  <div class=\"colab-df-container\">\n",
              "    <button class=\"colab-df-convert\" onclick=\"convertToInteractive('df-03d05b88-7d43-4de3-b46a-5021cb549aa1')\"\n",
              "            title=\"Convert this dataframe to an interactive table.\"\n",
              "            style=\"display:none;\">\n",
              "\n",
              "  <svg xmlns=\"http://www.w3.org/2000/svg\" height=\"24px\" viewBox=\"0 -960 960 960\">\n",
              "    <path d=\"M120-120v-720h720v720H120Zm60-500h600v-160H180v160Zm220 220h160v-160H400v160Zm0 220h160v-160H400v160ZM180-400h160v-160H180v160Zm440 0h160v-160H620v160ZM180-180h160v-160H180v160Zm440 0h160v-160H620v160Z\"/>\n",
              "  </svg>\n",
              "    </button>\n",
              "\n",
              "  <style>\n",
              "    .colab-df-container {\n",
              "      display:flex;\n",
              "      gap: 12px;\n",
              "    }\n",
              "\n",
              "    .colab-df-convert {\n",
              "      background-color: #E8F0FE;\n",
              "      border: none;\n",
              "      border-radius: 50%;\n",
              "      cursor: pointer;\n",
              "      display: none;\n",
              "      fill: #1967D2;\n",
              "      height: 32px;\n",
              "      padding: 0 0 0 0;\n",
              "      width: 32px;\n",
              "    }\n",
              "\n",
              "    .colab-df-convert:hover {\n",
              "      background-color: #E2EBFA;\n",
              "      box-shadow: 0px 1px 2px rgba(60, 64, 67, 0.3), 0px 1px 3px 1px rgba(60, 64, 67, 0.15);\n",
              "      fill: #174EA6;\n",
              "    }\n",
              "\n",
              "    .colab-df-buttons div {\n",
              "      margin-bottom: 4px;\n",
              "    }\n",
              "\n",
              "    [theme=dark] .colab-df-convert {\n",
              "      background-color: #3B4455;\n",
              "      fill: #D2E3FC;\n",
              "    }\n",
              "\n",
              "    [theme=dark] .colab-df-convert:hover {\n",
              "      background-color: #434B5C;\n",
              "      box-shadow: 0px 1px 3px 1px rgba(0, 0, 0, 0.15);\n",
              "      filter: drop-shadow(0px 1px 2px rgba(0, 0, 0, 0.3));\n",
              "      fill: #FFFFFF;\n",
              "    }\n",
              "  </style>\n",
              "\n",
              "    <script>\n",
              "      const buttonEl =\n",
              "        document.querySelector('#df-03d05b88-7d43-4de3-b46a-5021cb549aa1 button.colab-df-convert');\n",
              "      buttonEl.style.display =\n",
              "        google.colab.kernel.accessAllowed ? 'block' : 'none';\n",
              "\n",
              "      async function convertToInteractive(key) {\n",
              "        const element = document.querySelector('#df-03d05b88-7d43-4de3-b46a-5021cb549aa1');\n",
              "        const dataTable =\n",
              "          await google.colab.kernel.invokeFunction('convertToInteractive',\n",
              "                                                    [key], {});\n",
              "        if (!dataTable) return;\n",
              "\n",
              "        const docLinkHtml = 'Like what you see? Visit the ' +\n",
              "          '<a target=\"_blank\" href=https://colab.research.google.com/notebooks/data_table.ipynb>data table notebook</a>'\n",
              "          + ' to learn more about interactive tables.';\n",
              "        element.innerHTML = '';\n",
              "        dataTable['output_type'] = 'display_data';\n",
              "        await google.colab.output.renderOutput(dataTable, element);\n",
              "        const docLink = document.createElement('div');\n",
              "        docLink.innerHTML = docLinkHtml;\n",
              "        element.appendChild(docLink);\n",
              "      }\n",
              "    </script>\n",
              "  </div>\n",
              "\n",
              "\n",
              "<div id=\"df-8b534c95-1bba-42bf-913d-7d271e4ffd12\">\n",
              "  <button class=\"colab-df-quickchart\" onclick=\"quickchart('df-8b534c95-1bba-42bf-913d-7d271e4ffd12')\"\n",
              "            title=\"Suggest charts.\"\n",
              "            style=\"display:none;\">\n",
              "\n",
              "<svg xmlns=\"http://www.w3.org/2000/svg\" height=\"24px\"viewBox=\"0 0 24 24\"\n",
              "     width=\"24px\">\n",
              "    <g>\n",
              "        <path d=\"M19 3H5c-1.1 0-2 .9-2 2v14c0 1.1.9 2 2 2h14c1.1 0 2-.9 2-2V5c0-1.1-.9-2-2-2zM9 17H7v-7h2v7zm4 0h-2V7h2v10zm4 0h-2v-4h2v4z\"/>\n",
              "    </g>\n",
              "</svg>\n",
              "  </button>\n",
              "\n",
              "<style>\n",
              "  .colab-df-quickchart {\n",
              "    background-color: #E8F0FE;\n",
              "    border: none;\n",
              "    border-radius: 50%;\n",
              "    cursor: pointer;\n",
              "    display: none;\n",
              "    fill: #1967D2;\n",
              "    height: 32px;\n",
              "    padding: 0 0 0 0;\n",
              "    width: 32px;\n",
              "  }\n",
              "\n",
              "  .colab-df-quickchart:hover {\n",
              "    background-color: #E2EBFA;\n",
              "    box-shadow: 0px 1px 2px rgba(60, 64, 67, 0.3), 0px 1px 3px 1px rgba(60, 64, 67, 0.15);\n",
              "    fill: #174EA6;\n",
              "  }\n",
              "\n",
              "  [theme=dark] .colab-df-quickchart {\n",
              "    background-color: #3B4455;\n",
              "    fill: #D2E3FC;\n",
              "  }\n",
              "\n",
              "  [theme=dark] .colab-df-quickchart:hover {\n",
              "    background-color: #434B5C;\n",
              "    box-shadow: 0px 1px 3px 1px rgba(0, 0, 0, 0.15);\n",
              "    filter: drop-shadow(0px 1px 2px rgba(0, 0, 0, 0.3));\n",
              "    fill: #FFFFFF;\n",
              "  }\n",
              "</style>\n",
              "\n",
              "  <script>\n",
              "    async function quickchart(key) {\n",
              "      const charts = await google.colab.kernel.invokeFunction(\n",
              "          'suggestCharts', [key], {});\n",
              "    }\n",
              "    (() => {\n",
              "      let quickchartButtonEl =\n",
              "        document.querySelector('#df-8b534c95-1bba-42bf-913d-7d271e4ffd12 button');\n",
              "      quickchartButtonEl.style.display =\n",
              "        google.colab.kernel.accessAllowed ? 'block' : 'none';\n",
              "    })();\n",
              "  </script>\n",
              "</div>\n",
              "    </div>\n",
              "  </div>\n"
            ]
          },
          "metadata": {},
          "execution_count": 93
        }
      ]
    },
    {
      "cell_type": "code",
      "source": [
        "most_wrong_predictions = model_predictions[model_predictions[\"Is_correct\"] == False].sort_values(by=\"Predicted_probability\")\n",
        "top_16_most_wrong_predictions = most_wrong_predictions[:16]\n",
        "top_16_most_wrong_predictions"
      ],
      "metadata": {
        "colab": {
          "base_uri": "https://localhost:8080/",
          "height": 551
        },
        "id": "UhCPeTOUdJBu",
        "outputId": "f0008200-7031-4c8a-c722-e7b05f6c4bf8"
      },
      "execution_count": 95,
      "outputs": [
        {
          "output_type": "execute_result",
          "data": {
            "text/plain": [
              "      Index  True_label  Predicted_label  Predicted_probability  Is_correct\n",
              "8527   8527           4                9               0.524132       False\n",
              "2182   2182           1                3               0.527924       False\n",
              "9792   9792           4                9               0.528748       False\n",
              "2406   2406           9                4               0.530328       False\n",
              "4078   4078           9                2               0.563291       False\n",
              "4880   4880           0                8               0.599522       False\n",
              "9692   9692           9                7               0.605960       False\n",
              "326     326           2                1               0.648484       False\n",
              "1790   1790           2                7               0.651771       False\n",
              "447     447           4                9               0.658220       False\n",
              "9620   9620           9                7               0.676514       False\n",
              "6571   6571           9                7               0.712378       False\n",
              "2925   2925           5                9               0.712503       False\n",
              "5228   5228           6                4               0.723723       False\n",
              "6625   6625           8                2               0.777135       False\n",
              "1014   1014           6                8               0.782033       False"
            ],
            "text/html": [
              "\n",
              "  <div id=\"df-ac5b4953-8c51-49de-849e-effee849678d\" class=\"colab-df-container\">\n",
              "    <div>\n",
              "<style scoped>\n",
              "    .dataframe tbody tr th:only-of-type {\n",
              "        vertical-align: middle;\n",
              "    }\n",
              "\n",
              "    .dataframe tbody tr th {\n",
              "        vertical-align: top;\n",
              "    }\n",
              "\n",
              "    .dataframe thead th {\n",
              "        text-align: right;\n",
              "    }\n",
              "</style>\n",
              "<table border=\"1\" class=\"dataframe\">\n",
              "  <thead>\n",
              "    <tr style=\"text-align: right;\">\n",
              "      <th></th>\n",
              "      <th>Index</th>\n",
              "      <th>True_label</th>\n",
              "      <th>Predicted_label</th>\n",
              "      <th>Predicted_probability</th>\n",
              "      <th>Is_correct</th>\n",
              "    </tr>\n",
              "  </thead>\n",
              "  <tbody>\n",
              "    <tr>\n",
              "      <th>8527</th>\n",
              "      <td>8527</td>\n",
              "      <td>4</td>\n",
              "      <td>9</td>\n",
              "      <td>0.524132</td>\n",
              "      <td>False</td>\n",
              "    </tr>\n",
              "    <tr>\n",
              "      <th>2182</th>\n",
              "      <td>2182</td>\n",
              "      <td>1</td>\n",
              "      <td>3</td>\n",
              "      <td>0.527924</td>\n",
              "      <td>False</td>\n",
              "    </tr>\n",
              "    <tr>\n",
              "      <th>9792</th>\n",
              "      <td>9792</td>\n",
              "      <td>4</td>\n",
              "      <td>9</td>\n",
              "      <td>0.528748</td>\n",
              "      <td>False</td>\n",
              "    </tr>\n",
              "    <tr>\n",
              "      <th>2406</th>\n",
              "      <td>2406</td>\n",
              "      <td>9</td>\n",
              "      <td>4</td>\n",
              "      <td>0.530328</td>\n",
              "      <td>False</td>\n",
              "    </tr>\n",
              "    <tr>\n",
              "      <th>4078</th>\n",
              "      <td>4078</td>\n",
              "      <td>9</td>\n",
              "      <td>2</td>\n",
              "      <td>0.563291</td>\n",
              "      <td>False</td>\n",
              "    </tr>\n",
              "    <tr>\n",
              "      <th>4880</th>\n",
              "      <td>4880</td>\n",
              "      <td>0</td>\n",
              "      <td>8</td>\n",
              "      <td>0.599522</td>\n",
              "      <td>False</td>\n",
              "    </tr>\n",
              "    <tr>\n",
              "      <th>9692</th>\n",
              "      <td>9692</td>\n",
              "      <td>9</td>\n",
              "      <td>7</td>\n",
              "      <td>0.605960</td>\n",
              "      <td>False</td>\n",
              "    </tr>\n",
              "    <tr>\n",
              "      <th>326</th>\n",
              "      <td>326</td>\n",
              "      <td>2</td>\n",
              "      <td>1</td>\n",
              "      <td>0.648484</td>\n",
              "      <td>False</td>\n",
              "    </tr>\n",
              "    <tr>\n",
              "      <th>1790</th>\n",
              "      <td>1790</td>\n",
              "      <td>2</td>\n",
              "      <td>7</td>\n",
              "      <td>0.651771</td>\n",
              "      <td>False</td>\n",
              "    </tr>\n",
              "    <tr>\n",
              "      <th>447</th>\n",
              "      <td>447</td>\n",
              "      <td>4</td>\n",
              "      <td>9</td>\n",
              "      <td>0.658220</td>\n",
              "      <td>False</td>\n",
              "    </tr>\n",
              "    <tr>\n",
              "      <th>9620</th>\n",
              "      <td>9620</td>\n",
              "      <td>9</td>\n",
              "      <td>7</td>\n",
              "      <td>0.676514</td>\n",
              "      <td>False</td>\n",
              "    </tr>\n",
              "    <tr>\n",
              "      <th>6571</th>\n",
              "      <td>6571</td>\n",
              "      <td>9</td>\n",
              "      <td>7</td>\n",
              "      <td>0.712378</td>\n",
              "      <td>False</td>\n",
              "    </tr>\n",
              "    <tr>\n",
              "      <th>2925</th>\n",
              "      <td>2925</td>\n",
              "      <td>5</td>\n",
              "      <td>9</td>\n",
              "      <td>0.712503</td>\n",
              "      <td>False</td>\n",
              "    </tr>\n",
              "    <tr>\n",
              "      <th>5228</th>\n",
              "      <td>5228</td>\n",
              "      <td>6</td>\n",
              "      <td>4</td>\n",
              "      <td>0.723723</td>\n",
              "      <td>False</td>\n",
              "    </tr>\n",
              "    <tr>\n",
              "      <th>6625</th>\n",
              "      <td>6625</td>\n",
              "      <td>8</td>\n",
              "      <td>2</td>\n",
              "      <td>0.777135</td>\n",
              "      <td>False</td>\n",
              "    </tr>\n",
              "    <tr>\n",
              "      <th>1014</th>\n",
              "      <td>1014</td>\n",
              "      <td>6</td>\n",
              "      <td>8</td>\n",
              "      <td>0.782033</td>\n",
              "      <td>False</td>\n",
              "    </tr>\n",
              "  </tbody>\n",
              "</table>\n",
              "</div>\n",
              "    <div class=\"colab-df-buttons\">\n",
              "\n",
              "  <div class=\"colab-df-container\">\n",
              "    <button class=\"colab-df-convert\" onclick=\"convertToInteractive('df-ac5b4953-8c51-49de-849e-effee849678d')\"\n",
              "            title=\"Convert this dataframe to an interactive table.\"\n",
              "            style=\"display:none;\">\n",
              "\n",
              "  <svg xmlns=\"http://www.w3.org/2000/svg\" height=\"24px\" viewBox=\"0 -960 960 960\">\n",
              "    <path d=\"M120-120v-720h720v720H120Zm60-500h600v-160H180v160Zm220 220h160v-160H400v160Zm0 220h160v-160H400v160ZM180-400h160v-160H180v160Zm440 0h160v-160H620v160ZM180-180h160v-160H180v160Zm440 0h160v-160H620v160Z\"/>\n",
              "  </svg>\n",
              "    </button>\n",
              "\n",
              "  <style>\n",
              "    .colab-df-container {\n",
              "      display:flex;\n",
              "      gap: 12px;\n",
              "    }\n",
              "\n",
              "    .colab-df-convert {\n",
              "      background-color: #E8F0FE;\n",
              "      border: none;\n",
              "      border-radius: 50%;\n",
              "      cursor: pointer;\n",
              "      display: none;\n",
              "      fill: #1967D2;\n",
              "      height: 32px;\n",
              "      padding: 0 0 0 0;\n",
              "      width: 32px;\n",
              "    }\n",
              "\n",
              "    .colab-df-convert:hover {\n",
              "      background-color: #E2EBFA;\n",
              "      box-shadow: 0px 1px 2px rgba(60, 64, 67, 0.3), 0px 1px 3px 1px rgba(60, 64, 67, 0.15);\n",
              "      fill: #174EA6;\n",
              "    }\n",
              "\n",
              "    .colab-df-buttons div {\n",
              "      margin-bottom: 4px;\n",
              "    }\n",
              "\n",
              "    [theme=dark] .colab-df-convert {\n",
              "      background-color: #3B4455;\n",
              "      fill: #D2E3FC;\n",
              "    }\n",
              "\n",
              "    [theme=dark] .colab-df-convert:hover {\n",
              "      background-color: #434B5C;\n",
              "      box-shadow: 0px 1px 3px 1px rgba(0, 0, 0, 0.15);\n",
              "      filter: drop-shadow(0px 1px 2px rgba(0, 0, 0, 0.3));\n",
              "      fill: #FFFFFF;\n",
              "    }\n",
              "  </style>\n",
              "\n",
              "    <script>\n",
              "      const buttonEl =\n",
              "        document.querySelector('#df-ac5b4953-8c51-49de-849e-effee849678d button.colab-df-convert');\n",
              "      buttonEl.style.display =\n",
              "        google.colab.kernel.accessAllowed ? 'block' : 'none';\n",
              "\n",
              "      async function convertToInteractive(key) {\n",
              "        const element = document.querySelector('#df-ac5b4953-8c51-49de-849e-effee849678d');\n",
              "        const dataTable =\n",
              "          await google.colab.kernel.invokeFunction('convertToInteractive',\n",
              "                                                    [key], {});\n",
              "        if (!dataTable) return;\n",
              "\n",
              "        const docLinkHtml = 'Like what you see? Visit the ' +\n",
              "          '<a target=\"_blank\" href=https://colab.research.google.com/notebooks/data_table.ipynb>data table notebook</a>'\n",
              "          + ' to learn more about interactive tables.';\n",
              "        element.innerHTML = '';\n",
              "        dataTable['output_type'] = 'display_data';\n",
              "        await google.colab.output.renderOutput(dataTable, element);\n",
              "        const docLink = document.createElement('div');\n",
              "        docLink.innerHTML = docLinkHtml;\n",
              "        element.appendChild(docLink);\n",
              "      }\n",
              "    </script>\n",
              "  </div>\n",
              "\n",
              "\n",
              "<div id=\"df-0b6945d2-7d1a-4b6d-b91a-00fe26c7b364\">\n",
              "  <button class=\"colab-df-quickchart\" onclick=\"quickchart('df-0b6945d2-7d1a-4b6d-b91a-00fe26c7b364')\"\n",
              "            title=\"Suggest charts.\"\n",
              "            style=\"display:none;\">\n",
              "\n",
              "<svg xmlns=\"http://www.w3.org/2000/svg\" height=\"24px\"viewBox=\"0 0 24 24\"\n",
              "     width=\"24px\">\n",
              "    <g>\n",
              "        <path d=\"M19 3H5c-1.1 0-2 .9-2 2v14c0 1.1.9 2 2 2h14c1.1 0 2-.9 2-2V5c0-1.1-.9-2-2-2zM9 17H7v-7h2v7zm4 0h-2V7h2v10zm4 0h-2v-4h2v4z\"/>\n",
              "    </g>\n",
              "</svg>\n",
              "  </button>\n",
              "\n",
              "<style>\n",
              "  .colab-df-quickchart {\n",
              "    background-color: #E8F0FE;\n",
              "    border: none;\n",
              "    border-radius: 50%;\n",
              "    cursor: pointer;\n",
              "    display: none;\n",
              "    fill: #1967D2;\n",
              "    height: 32px;\n",
              "    padding: 0 0 0 0;\n",
              "    width: 32px;\n",
              "  }\n",
              "\n",
              "  .colab-df-quickchart:hover {\n",
              "    background-color: #E2EBFA;\n",
              "    box-shadow: 0px 1px 2px rgba(60, 64, 67, 0.3), 0px 1px 3px 1px rgba(60, 64, 67, 0.15);\n",
              "    fill: #174EA6;\n",
              "  }\n",
              "\n",
              "  [theme=dark] .colab-df-quickchart {\n",
              "    background-color: #3B4455;\n",
              "    fill: #D2E3FC;\n",
              "  }\n",
              "\n",
              "  [theme=dark] .colab-df-quickchart:hover {\n",
              "    background-color: #434B5C;\n",
              "    box-shadow: 0px 1px 3px 1px rgba(0, 0, 0, 0.15);\n",
              "    filter: drop-shadow(0px 1px 2px rgba(0, 0, 0, 0.3));\n",
              "    fill: #FFFFFF;\n",
              "  }\n",
              "</style>\n",
              "\n",
              "  <script>\n",
              "    async function quickchart(key) {\n",
              "      const charts = await google.colab.kernel.invokeFunction(\n",
              "          'suggestCharts', [key], {});\n",
              "    }\n",
              "    (() => {\n",
              "      let quickchartButtonEl =\n",
              "        document.querySelector('#df-0b6945d2-7d1a-4b6d-b91a-00fe26c7b364 button');\n",
              "      quickchartButtonEl.style.display =\n",
              "        google.colab.kernel.accessAllowed ? 'block' : 'none';\n",
              "    })();\n",
              "  </script>\n",
              "</div>\n",
              "    </div>\n",
              "  </div>\n"
            ]
          },
          "metadata": {},
          "execution_count": 95
        }
      ]
    },
    {
      "cell_type": "code",
      "source": [
        "image_indexes = np.array(top_16_most_wrong_predictions[\"Index\"])\n",
        "images = []\n",
        "for idx in image_indexes:\n",
        "  images.append(X_test[idx])"
      ],
      "metadata": {
        "id": "14_gQMFXeMZP"
      },
      "execution_count": 106,
      "outputs": []
    },
    {
      "cell_type": "code",
      "source": [
        "visualize_model_preds(images, np.array(top_16_most_wrong_predictions[\"True_label\"]), np.array(top_16_most_wrong_predictions[\"Predicted_label\"]))"
      ],
      "metadata": {
        "colab": {
          "base_uri": "https://localhost:8080/",
          "height": 1000
        },
        "id": "HoNzi1qcec-C",
        "outputId": "a7b7c27a-5087-4967-b756-80af1b785fad"
      },
      "execution_count": 108,
      "outputs": [
        {
          "output_type": "display_data",
          "data": {
            "text/plain": [
              "<Figure size 1500x1500 with 16 Axes>"
            ],
            "image/png": "[encoded data removed]"
          },
          "metadata": {}
        }
      ]
    },
    {
      "cell_type": "code",
      "source": [],
      "metadata": {
        "id": "W3t4U89Lene3"
      },
      "execution_count": null,
      "outputs": []
    }
  ]
}