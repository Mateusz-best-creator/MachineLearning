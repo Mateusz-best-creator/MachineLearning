{
  "nbformat": 4,
  "nbformat_minor": 0,
  "metadata": {
    "colab": {
      "provenance": [],
      "gpuType": "T4",
      "authorship_tag": "ABX9TyOz1FxJA7LQK05odcIOzp+V",
      "include_colab_link": true
    },
    "kernelspec": {
      "name": "python3",
      "display_name": "Python 3"
    },
    "language_info": {
      "name": "python"
    },
    "accelerator": "GPU"
  },
  "cells": [
    {
      "cell_type": "markdown",
      "metadata": {
        "id": "view-in-github",
        "colab_type": "text"
      },
      "source": [
        "<a href=\"https://colab.research.google.com/github/Mateusz-best-creator/Custom_TrainingLoop_Layers_Metrics/blob/main/Tensorflow_Advanced_Techniques_Practice.ipynb\" target=\"_parent\"><img src=\"https://colab.research.google.com/assets/colab-badge.svg\" alt=\"Open In Colab\"/></a>"
      ]
    },
    {
      "cell_type": "code",
      "execution_count": 224,
      "metadata": {
        "id": "gSazA7MYu5B4"
      },
      "outputs": [],
      "source": [
        "import tensorflow as tf\n",
        "import pandas as pd\n",
        "import numpy as np\n",
        "import matplotlib.pyplot as plt"
      ]
    },
    {
      "cell_type": "markdown",
      "source": [
        "## Prepare the data"
      ],
      "metadata": {
        "id": "_8B6j47ByfOa"
      }
    },
    {
      "cell_type": "code",
      "source": [
        "from sklearn.model_selection import train_test_split\n",
        "\n",
        "(X_full, y_full), (X_test, y_test) = tf.keras.datasets.fashion_mnist.load_data()\n",
        "\n",
        "X_train, X_valid, y_train, y_valid = train_test_split(X_full, y_full, test_size=0.1, random_state=42)\n",
        "\n",
        "X_train.shape, X_valid.shape, X_test.shape, y_train.shape, y_valid.shape, y_test.shape"
      ],
      "metadata": {
        "colab": {
          "base_uri": "https://localhost:8080/"
        },
        "id": "rp9jxXUFvC1k",
        "outputId": "407e726a-b294-4da1-d106-1446aff79059"
      },
      "execution_count": 225,
      "outputs": [
        {
          "output_type": "execute_result",
          "data": {
            "text/plain": [
              "((54000, 28, 28), (6000, 28, 28), (10000, 28, 28), (54000,), (6000,), (10000,))"
            ]
          },
          "metadata": {},
          "execution_count": 225
        }
      ]
    },
    {
      "cell_type": "code",
      "source": [
        "# # For now let's use small chunks of our dataset\n",
        "\n",
        "# X_train = X_train[:10000]\n",
        "# y_train = y_train[:10000]\n",
        "# X_valid = X_valid[:4000]\n",
        "# y_valid = y_valid[:4000]\n",
        "# X_test = X_test[:2000]\n",
        "# y_test = y_test[:2000]"
      ],
      "metadata": {
        "id": "PbsmuUGTZeOg"
      },
      "execution_count": 226,
      "outputs": []
    },
    {
      "cell_type": "code",
      "source": [
        "def create_dataset(x, y, train_set=False, batch_size=32):\n",
        "  dataset = tf.data.Dataset.from_tensor_slices((tf.constant(x),\n",
        "                                                tf.constant(y)))\n",
        "  if train_set:\n",
        "    return dataset.shuffle(buffer_size=10_000).batch(batch_size).prefetch(tf.data.AUTOTUNE)\n",
        "  return dataset.batch(batch_size).prefetch(tf.data.AUTOTUNE)"
      ],
      "metadata": {
        "id": "0GZWRyqVyU3t"
      },
      "execution_count": 227,
      "outputs": []
    },
    {
      "cell_type": "code",
      "source": [
        "# Get training, validation and test datasets\n",
        "train_set = create_dataset(X_train, y_train, train_set=True)\n",
        "valid_set = create_dataset(X_valid, y_valid)\n",
        "test_set = create_dataset(X_test, y_test)\n",
        "\n",
        "train_set, valid_set, test_set"
      ],
      "metadata": {
        "colab": {
          "base_uri": "https://localhost:8080/"
        },
        "id": "fE44hbUWy5-Y",
        "outputId": "740f5149-a192-4907-b235-f79b3fc1c0df"
      },
      "execution_count": 228,
      "outputs": [
        {
          "output_type": "execute_result",
          "data": {
            "text/plain": [
              "(<_PrefetchDataset element_spec=(TensorSpec(shape=(None, 28, 28), dtype=tf.uint8, name=None), TensorSpec(shape=(None,), dtype=tf.uint8, name=None))>,\n",
              " <_PrefetchDataset element_spec=(TensorSpec(shape=(None, 28, 28), dtype=tf.uint8, name=None), TensorSpec(shape=(None,), dtype=tf.uint8, name=None))>,\n",
              " <_PrefetchDataset element_spec=(TensorSpec(shape=(None, 28, 28), dtype=tf.uint8, name=None), TensorSpec(shape=(None,), dtype=tf.uint8, name=None))>)"
            ]
          },
          "metadata": {},
          "execution_count": 228
        }
      ]
    },
    {
      "cell_type": "markdown",
      "source": [
        "## Create model architecture"
      ],
      "metadata": {
        "id": "WqkpLyM1ySsA"
      }
    },
    {
      "cell_type": "code",
      "source": [
        "# Now let's create our custom dense layer\n",
        "class MyDense(tf.keras.layers.Layer):\n",
        "  def __init__(self, units, activation=None, **kwargs):\n",
        "    super().__init__(**kwargs)\n",
        "    self.units = units\n",
        "    self.activation = tf.keras.activations.get(activation)\n",
        "\n",
        "  def build(self, input_shape):\n",
        "    self.kernel = self.add_weight(\"kernel\", shape=[input_shape[-1], self.units],\n",
        "                                  initializer=\"glorot_normal\", dtype=tf.float32)\n",
        "    self.bias = self.add_weight(\"bias\", shape=[self.units],\n",
        "                                initializer=\"zeros\", dtype=tf.float32)\n",
        "\n",
        "  def call(self, inputs):\n",
        "    return self.activation(inputs @ self.kernel + self.bias)"
      ],
      "metadata": {
        "id": "bSxJPMtUdStc"
      },
      "execution_count": 229,
      "outputs": []
    },
    {
      "cell_type": "code",
      "source": [
        "# We will also add data augmentation to our model architecture\n",
        "data_augmentation = tf.keras.Sequential([\n",
        "    tf.keras.layers.RandomFlip(mode=\"horizontal\"),\n",
        "    tf.keras.layers.RandomRotation(factor=0.2),\n",
        "    tf.keras.layers.RandomContrast(factor=0.2)\n",
        "])\n",
        "\n",
        "data_preprocessing = tf.keras.Sequential([\n",
        "    tf.keras.layers.Lambda(lambda x: tf.expand_dims(x, axis=-1)),\n",
        "    tf.keras.layers.Rescaling(scale=1./255)\n",
        "])\n",
        "\n",
        "classifier_model = tf.keras.Sequential([\n",
        "    tf.keras.layers.Conv2D(32, 3, padding=\"same\",\n",
        "                           activation=\"relu\"),\n",
        "    tf.keras.layers.MaxPool2D(),\n",
        "    tf.keras.layers.Conv2D(64, 3, padding=\"same\",\n",
        "                           activation=\"relu\"),\n",
        "    tf.keras.layers.Conv2D(64, 3, padding=\"same\",\n",
        "                           activation=\"relu\"),\n",
        "    tf.keras.layers.GlobalMaxPooling2D(),\n",
        "    MyDense(10, activation=\"softmax\")\n",
        "])\n",
        "\n",
        "# Construct final model\n",
        "model = tf.keras.Sequential([\n",
        "    data_preprocessing,\n",
        "    data_augmentation,\n",
        "    classifier_model\n",
        "])\n",
        "\n",
        "model"
      ],
      "metadata": {
        "colab": {
          "base_uri": "https://localhost:8080/"
        },
        "id": "7icp5sD_w5E5",
        "outputId": "d188d461-df5d-43e4-9afe-230c8a33b333"
      },
      "execution_count": 230,
      "outputs": [
        {
          "output_type": "execute_result",
          "data": {
            "text/plain": [
              "<keras.src.engine.sequential.Sequential at 0x7cfeafd94160>"
            ]
          },
          "metadata": {},
          "execution_count": 230
        }
      ]
    },
    {
      "cell_type": "markdown",
      "source": [
        "## Creating custom training loop"
      ],
      "metadata": {
        "id": "wQYSdqQCxFtt"
      }
    },
    {
      "cell_type": "code",
      "source": [
        "# Define parameters\n",
        "n_epochs = 10\n",
        "\n",
        "# Define optimizer and loss function\n",
        "optimizer = tf.keras.optimizers.Adam()\n",
        "loss_func = tf.keras.losses.SparseCategoricalCrossentropy()\n",
        "\n",
        "# Define train and validation metrics\n",
        "train_metric = tf.keras.metrics.SparseCategoricalAccuracy()\n",
        "valid_metric = tf.keras.metrics.SparseCategoricalAccuracy()"
      ],
      "metadata": {
        "id": "a2FvflYHzVLH"
      },
      "execution_count": 231,
      "outputs": []
    },
    {
      "cell_type": "code",
      "source": [
        "def apply_gradients(model, x, y, loss_func, optimizer):\n",
        "  \"\"\"\n",
        "  We are going to call this function when preprocessing each training batch.\n",
        "  \"\"\"\n",
        "  with tf.GradientTape() as tape:\n",
        "\n",
        "    # Make predictions during forward pass\n",
        "    logits = model(x)\n",
        "\n",
        "    # Calculate loss\n",
        "    loss = loss_func(y, logits)\n",
        "\n",
        "  # Calculate the gradients\n",
        "  gradients = tape.gradient(loss, model.trainable_variables)\n",
        "\n",
        "  # Perform gradient descent step\n",
        "  optimizer.apply_gradients(zip(gradients, model.trainable_variables))\n",
        "\n",
        "  # Return loss and logits\n",
        "  return loss, logits"
      ],
      "metadata": {
        "id": "BRnuZ5KPzzwg"
      },
      "execution_count": 232,
      "outputs": []
    },
    {
      "cell_type": "code",
      "source": [
        "from tqdm import tqdm"
      ],
      "metadata": {
        "id": "voIolByoTeG5"
      },
      "execution_count": 233,
      "outputs": []
    },
    {
      "cell_type": "code",
      "source": [
        "def train_one_epoch(model, train_data, loss_func, optimizer):\n",
        "  \"\"\"\n",
        "  Trains our model for one epoch.\n",
        "  \"\"\"\n",
        "  # We will track of training and validation losses\n",
        "  train_losses = []\n",
        "  valid_losses = []\n",
        "\n",
        "  pbar = tqdm(total=len(list(enumerate(train_set))), position=0, leave=True, bar_format='{l_bar}{bar}| {n_fmt}/{total_fmt} ')\n",
        "\n",
        "  # Loop through each batch in our dataset\n",
        "  for step, (X_batch_train, y_batch_train) in enumerate(train_data):\n",
        "\n",
        "    # Get training loss and logits\n",
        "    train_loss, train_logits = apply_gradients(model, X_batch_train, y_batch_train, loss_func, optimizer)\n",
        "\n",
        "    # Update losses array\n",
        "    train_losses.append(train_loss)\n",
        "\n",
        "    # Update train metric\n",
        "    train_metric.update_state(y_true=y_batch_train, y_pred=train_logits)\n",
        "\n",
        "    # Update loading bar\n",
        "    pbar.set_description(\"Training loss for step %s: %.4f\" % (int(step), float(train_loss)))\n",
        "    pbar.update()\n",
        "\n",
        "  return train_losses"
      ],
      "metadata": {
        "id": "ZLjC1BHF0sOG"
      },
      "execution_count": 234,
      "outputs": []
    },
    {
      "cell_type": "code",
      "source": [
        "def calculate_validation_loss_accuracy(model, valid_data, loss_func):\n",
        "  losses = []\n",
        "  for X_batch_valid, y_batch_valid in valid_data:\n",
        "\n",
        "    # Make predictions\n",
        "    logits = model(X_batch_valid)\n",
        "\n",
        "    # Calculate the loss\n",
        "    loss = loss_func(y_true=y_batch_valid, y_pred=logits)\n",
        "\n",
        "    # Update losses array\n",
        "    losses.append(loss)\n",
        "\n",
        "    # Update validation metric\n",
        "    valid_metric.update_state(y_true=y_batch_valid, y_pred=logits)\n",
        "\n",
        "  return losses"
      ],
      "metadata": {
        "id": "xxY6Y_0oRLBc"
      },
      "execution_count": 235,
      "outputs": []
    },
    {
      "cell_type": "code",
      "source": [
        "def train(model, train_data, valid_data, loss_func, optimizer, n_epochs=n_epochs):\n",
        "\n",
        "  train_losses = []\n",
        "  valid_losses = []\n",
        "\n",
        "  for epoch in range(n_epochs):\n",
        "    print(f\"Epoch {epoch+1}/{n_epochs}\")\n",
        "\n",
        "    # Get the training loss\n",
        "    train_loss = train_one_epoch(model, train_set, loss_func, optimizer)\n",
        "\n",
        "    # Get the validation loss\n",
        "    valid_loss = calculate_validation_loss_accuracy(model, valid_data, loss_func)\n",
        "\n",
        "    # Get the mean of our losses\n",
        "    train_loss_mean = np.mean(train_loss)\n",
        "    valid_loss_mean = np.mean(valid_loss)\n",
        "\n",
        "    # Display losses and accuracy metrics\n",
        "    print(f\"Train loss: {train_loss_mean:.4f}, Train accuracy: {train_metric.result()}, Validation loss: {valid_loss_mean:.4f}, Validation accuracy: {valid_metric.result():.4f}\")\n",
        "\n",
        "    # Reset metrics after each epoch\n",
        "    train_metric.reset_state()\n",
        "    valid_metric.reset_state()\n",
        "\n",
        "    # Update losses array\n",
        "    train_losses.append(train_loss_mean)\n",
        "    valid_losses.append(valid_loss_mean)\n",
        "\n",
        "  return train_losses, valid_losses"
      ],
      "metadata": {
        "id": "1m92W7ENzi34"
      },
      "execution_count": 236,
      "outputs": []
    },
    {
      "cell_type": "code",
      "source": [
        "train_losses, valid_losses = train(model, train_set, valid_set, loss_func, optimizer)"
      ],
      "metadata": {
        "colab": {
          "base_uri": "https://localhost:8080/"
        },
        "id": "Fv3mPE59KTjI",
        "outputId": "09b6ba69-c0b7-4552-fd27-7d36ea417b90"
      },
      "execution_count": 237,
      "outputs": [
        {
          "output_type": "stream",
          "name": "stdout",
          "text": [
            "Epoch 1/10\n"
          ]
        },
        {
          "output_type": "stream",
          "name": "stderr",
          "text": [
            "Training loss for step 1687: 0.7748: 100%|██████████| 1688/1688 \n"
          ]
        },
        {
          "output_type": "stream",
          "name": "stdout",
          "text": [
            "Train loss: 1.0581, Train accuracy: 0.6317036747932434, Validation loss: 0.7895, Validation accuracy: 0.7127\n",
            "Epoch 2/10\n"
          ]
        },
        {
          "output_type": "stream",
          "name": "stderr",
          "text": [
            "Training loss for step 1687: 0.6337: 100%|██████████| 1688/1688 \n"
          ]
        },
        {
          "output_type": "stream",
          "name": "stdout",
          "text": [
            "Train loss: 0.6970, Train accuracy: 0.7522777915000916, Validation loss: 0.6350, Validation accuracy: 0.7748\n",
            "Epoch 3/10\n"
          ]
        },
        {
          "output_type": "stream",
          "name": "stderr",
          "text": [
            "Training loss for step 1687: 0.5614: 100%|██████████| 1688/1688 \n"
          ]
        },
        {
          "output_type": "stream",
          "name": "stdout",
          "text": [
            "Train loss: 0.6215, Train accuracy: 0.7795740962028503, Validation loss: 0.6138, Validation accuracy: 0.7837\n",
            "Epoch 4/10\n"
          ]
        },
        {
          "output_type": "stream",
          "name": "stderr",
          "text": [
            "Training loss for step 1687: 0.1495: 100%|██████████| 1688/1688 \n"
          ]
        },
        {
          "output_type": "stream",
          "name": "stdout",
          "text": [
            "Train loss: 0.5742, Train accuracy: 0.7962222099304199, Validation loss: 0.5583, Validation accuracy: 0.8040\n",
            "Epoch 5/10\n"
          ]
        },
        {
          "output_type": "stream",
          "name": "stderr",
          "text": [
            "Training loss for step 1687: 0.3288: 100%|██████████| 1688/1688 \n"
          ]
        },
        {
          "output_type": "stream",
          "name": "stdout",
          "text": [
            "Train loss: 0.5412, Train accuracy: 0.8068703413009644, Validation loss: 0.5738, Validation accuracy: 0.7997\n",
            "Epoch 6/10\n"
          ]
        },
        {
          "output_type": "stream",
          "name": "stderr",
          "text": [
            "Training loss for step 1687: 0.3914: 100%|██████████| 1688/1688 \n"
          ]
        },
        {
          "output_type": "stream",
          "name": "stdout",
          "text": [
            "Train loss: 0.5158, Train accuracy: 0.8167222142219543, Validation loss: 0.5227, Validation accuracy: 0.8122\n",
            "Epoch 7/10\n"
          ]
        },
        {
          "output_type": "stream",
          "name": "stderr",
          "text": [
            "Training loss for step 1687: 0.3370: 100%|██████████| 1688/1688 \n"
          ]
        },
        {
          "output_type": "stream",
          "name": "stdout",
          "text": [
            "Train loss: 0.4979, Train accuracy: 0.8217962980270386, Validation loss: 0.5081, Validation accuracy: 0.8200\n",
            "Epoch 8/10\n"
          ]
        },
        {
          "output_type": "stream",
          "name": "stderr",
          "text": [
            "Training loss for step 1687: 0.1409: 100%|██████████| 1688/1688 \n"
          ]
        },
        {
          "output_type": "stream",
          "name": "stdout",
          "text": [
            "Train loss: 0.4852, Train accuracy: 0.8269444704055786, Validation loss: 0.5156, Validation accuracy: 0.8143\n",
            "Epoch 9/10\n"
          ]
        },
        {
          "output_type": "stream",
          "name": "stderr",
          "text": [
            "Training loss for step 1687: 0.5466: 100%|██████████| 1688/1688 \n"
          ]
        },
        {
          "output_type": "stream",
          "name": "stdout",
          "text": [
            "Train loss: 0.4701, Train accuracy: 0.8319629430770874, Validation loss: 0.4699, Validation accuracy: 0.8383\n",
            "Epoch 10/10\n"
          ]
        },
        {
          "output_type": "stream",
          "name": "stderr",
          "text": [
            "Training loss for step 1687: 0.6134: 100%|██████████| 1688/1688 \n"
          ]
        },
        {
          "output_type": "stream",
          "name": "stdout",
          "text": [
            "Train loss: 0.4601, Train accuracy: 0.8344259262084961, Validation loss: 0.5019, Validation accuracy: 0.8185\n"
          ]
        }
      ]
    },
    {
      "cell_type": "markdown",
      "source": [
        "## Let's visualize our losses"
      ],
      "metadata": {
        "id": "IwzBnRpqiQQV"
      }
    },
    {
      "cell_type": "code",
      "source": [
        "fig = plt.figure(figsize=(10, 5))\n",
        "\n",
        "plt.plot(np.arange(n_epochs), train_losses, label=\"Training loss\")\n",
        "plt.plot(np.arange(n_epochs), valid_losses, label=\"Validation loss\")\n",
        "plt.title(\"Training and Validation losses\")\n",
        "plt.legend()\n",
        "plt.show()"
      ],
      "metadata": {
        "colab": {
          "base_uri": "https://localhost:8080/",
          "height": 468
        },
        "id": "XMktuY3HiTGh",
        "outputId": "40ce11f1-3490-4721-f330-44f8ec1b765b"
      },
      "execution_count": 238,
      "outputs": [
        {
          "output_type": "display_data",
          "data": {
            "text/plain": [
              "<Figure size 1000x500 with 1 Axes>"
            ],
            "image/png": "[encoded data removed]"
          },
          "metadata": {}
        }
      ]
    },
    {
      "cell_type": "markdown",
      "source": [
        "## Making predictions"
      ],
      "metadata": {
        "id": "R3xVkiz8U6Av"
      }
    },
    {
      "cell_type": "code",
      "source": [
        "class MyAccuracy(tf.keras.metrics.Metric):\n",
        "  def __init__(self, num_classes=10, **kwargs):\n",
        "    super().__init__(**kwargs)\n",
        "    self.num_classes = num_classes\n",
        "    self.correct = tf.Variable(0)\n",
        "\n",
        "  def update_state(self, y_true, y_pred):\n",
        "    for idx, prediction in enumerate(y_pred):\n",
        "      if y_true[idx] == prediction:\n",
        "        self.correct.assign_add(1)\n",
        "\n",
        "    self.correct = self.correct / len(y_true)\n",
        "\n",
        "  def result(self):\n",
        "    return self.correct\n",
        "\n",
        "  def reset_state(self):\n",
        "    self.correct = 0"
      ],
      "metadata": {
        "id": "LtWVaWijU8D7"
      },
      "execution_count": 239,
      "outputs": []
    },
    {
      "cell_type": "code",
      "source": [
        "def make_predictions(model, test_features, test_labels, num_classes=10):\n",
        "\n",
        "  # Make predictions\n",
        "  y_pred = np.argmax(model.predict(test_features), axis=-1)\n",
        "\n",
        "  # Use our custom metric to calculate accuracy score\n",
        "  accuracy_metric = MyAccuracy(num_classes=num_classes)\n",
        "  accuracy_metric.update_state(y_true=test_labels, y_pred=y_pred)\n",
        "  accuracy_score = accuracy_metric.result()\n",
        "\n",
        "  # Print the accuracy score\n",
        "  print(f\"Accuracy score of our model on fashion MNIST dataset: {accuracy_score*100:.4f}%\")\n",
        "\n",
        "  # Reset the metric\n",
        "  accuracy_metric.reset_state()\n",
        "\n",
        "  return accuracy_score"
      ],
      "metadata": {
        "id": "uDPbmqDUPHZz"
      },
      "execution_count": 240,
      "outputs": []
    },
    {
      "cell_type": "code",
      "source": [
        "accuracy = make_predictions(model, test_set, y_test)"
      ],
      "metadata": {
        "colab": {
          "base_uri": "https://localhost:8080/"
        },
        "id": "kqb2FDxTYEUw",
        "outputId": "033f5d33-c23f-42f3-ac1a-8230f237b415"
      },
      "execution_count": 241,
      "outputs": [
        {
          "output_type": "stream",
          "name": "stdout",
          "text": [
            "313/313 [==============================] - 1s 2ms/step\n",
            "Accuracy score of our model on fashion MNIST dataset: 82.7200%\n"
          ]
        }
      ]
    },
    {
      "cell_type": "code",
      "source": [
        "# Check if our custom metric works properly\n",
        "from sklearn.metrics import accuracy_score\n",
        "\n",
        "model_pred = model.predict(test_set)\n",
        "model_pred = np.argmax(model_pred, axis=-1)\n",
        "\n",
        "accuracy_score(y_test, model_pred)"
      ],
      "metadata": {
        "colab": {
          "base_uri": "https://localhost:8080/"
        },
        "id": "hLjyv3qdYMM-",
        "outputId": "dc856940-04c5-479e-a96b-7f2f7a632cd6"
      },
      "execution_count": 242,
      "outputs": [
        {
          "output_type": "stream",
          "name": "stdout",
          "text": [
            "313/313 [==============================] - 1s 2ms/step\n"
          ]
        },
        {
          "output_type": "execute_result",
          "data": {
            "text/plain": [
              "0.8272"
            ]
          },
          "metadata": {},
          "execution_count": 242
        }
      ]
    },
    {
      "cell_type": "markdown",
      "source": [
        "## Creating Confusion Matrix to visualize our model predictions"
      ],
      "metadata": {
        "id": "udDJtQx0bin8"
      }
    },
    {
      "cell_type": "code",
      "source": [
        "from sklearn.metrics import confusion_matrix\n",
        "\n",
        "cm = confusion_matrix(y_test, model_pred)\n",
        "pd.DataFrame(cm)"
      ],
      "metadata": {
        "colab": {
          "base_uri": "https://localhost:8080/",
          "height": 363
        },
        "id": "z5pNBgsEi9-B",
        "outputId": "cc972839-2105-433e-f32e-e667367dc487"
      },
      "execution_count": 243,
      "outputs": [
        {
          "output_type": "execute_result",
          "data": {
            "text/plain": [
              "     0    1    2    3    4    5    6    7    8    9\n",
              "0  677    1   14   56   21    4  201    0   26    0\n",
              "1    0  966    1   17    7    1    5    1    2    0\n",
              "2   11    3  610   12  174    0  185    0    5    0\n",
              "3   42   11    6  803   42   11   76    2    7    0\n",
              "4    1    1   15   30  868    0   79    0    6    0\n",
              "5    0    0    0    0    0  938    0   43   19    0\n",
              "6   81    3   40   28  152    3  665    0   28    0\n",
              "7    0    0    0    0    0   24    0  969    1    6\n",
              "8    0    1    1    1    6   13   17    6  955    0\n",
              "9    0    1    0    0    0   22    0  154    2  821"
            ],
            "text/html": [
              "\n",
              "  <div id=\"df-31acb053-5120-4447-85c7-bc392c1cfbb8\" class=\"colab-df-container\">\n",
              "    <div>\n",
              "<style scoped>\n",
              "    .dataframe tbody tr th:only-of-type {\n",
              "        vertical-align: middle;\n",
              "    }\n",
              "\n",
              "    .dataframe tbody tr th {\n",
              "        vertical-align: top;\n",
              "    }\n",
              "\n",
              "    .dataframe thead th {\n",
              "        text-align: right;\n",
              "    }\n",
              "</style>\n",
              "<table border=\"1\" class=\"dataframe\">\n",
              "  <thead>\n",
              "    <tr style=\"text-align: right;\">\n",
              "      <th></th>\n",
              "      <th>0</th>\n",
              "      <th>1</th>\n",
              "      <th>2</th>\n",
              "      <th>3</th>\n",
              "      <th>4</th>\n",
              "      <th>5</th>\n",
              "      <th>6</th>\n",
              "      <th>7</th>\n",
              "      <th>8</th>\n",
              "      <th>9</th>\n",
              "    </tr>\n",
              "  </thead>\n",
              "  <tbody>\n",
              "    <tr>\n",
              "      <th>0</th>\n",
              "      <td>677</td>\n",
              "      <td>1</td>\n",
              "      <td>14</td>\n",
              "      <td>56</td>\n",
              "      <td>21</td>\n",
              "      <td>4</td>\n",
              "      <td>201</td>\n",
              "      <td>0</td>\n",
              "      <td>26</td>\n",
              "      <td>0</td>\n",
              "    </tr>\n",
              "    <tr>\n",
              "      <th>1</th>\n",
              "      <td>0</td>\n",
              "      <td>966</td>\n",
              "      <td>1</td>\n",
              "      <td>17</td>\n",
              "      <td>7</td>\n",
              "      <td>1</td>\n",
              "      <td>5</td>\n",
              "      <td>1</td>\n",
              "      <td>2</td>\n",
              "      <td>0</td>\n",
              "    </tr>\n",
              "    <tr>\n",
              "      <th>2</th>\n",
              "      <td>11</td>\n",
              "      <td>3</td>\n",
              "      <td>610</td>\n",
              "      <td>12</td>\n",
              "      <td>174</td>\n",
              "      <td>0</td>\n",
              "      <td>185</td>\n",
              "      <td>0</td>\n",
              "      <td>5</td>\n",
              "      <td>0</td>\n",
              "    </tr>\n",
              "    <tr>\n",
              "      <th>3</th>\n",
              "      <td>42</td>\n",
              "      <td>11</td>\n",
              "      <td>6</td>\n",
              "      <td>803</td>\n",
              "      <td>42</td>\n",
              "      <td>11</td>\n",
              "      <td>76</td>\n",
              "      <td>2</td>\n",
              "      <td>7</td>\n",
              "      <td>0</td>\n",
              "    </tr>\n",
              "    <tr>\n",
              "      <th>4</th>\n",
              "      <td>1</td>\n",
              "      <td>1</td>\n",
              "      <td>15</td>\n",
              "      <td>30</td>\n",
              "      <td>868</td>\n",
              "      <td>0</td>\n",
              "      <td>79</td>\n",
              "      <td>0</td>\n",
              "      <td>6</td>\n",
              "      <td>0</td>\n",
              "    </tr>\n",
              "    <tr>\n",
              "      <th>5</th>\n",
              "      <td>0</td>\n",
              "      <td>0</td>\n",
              "      <td>0</td>\n",
              "      <td>0</td>\n",
              "      <td>0</td>\n",
              "      <td>938</td>\n",
              "      <td>0</td>\n",
              "      <td>43</td>\n",
              "      <td>19</td>\n",
              "      <td>0</td>\n",
              "    </tr>\n",
              "    <tr>\n",
              "      <th>6</th>\n",
              "      <td>81</td>\n",
              "      <td>3</td>\n",
              "      <td>40</td>\n",
              "      <td>28</td>\n",
              "      <td>152</td>\n",
              "      <td>3</td>\n",
              "      <td>665</td>\n",
              "      <td>0</td>\n",
              "      <td>28</td>\n",
              "      <td>0</td>\n",
              "    </tr>\n",
              "    <tr>\n",
              "      <th>7</th>\n",
              "      <td>0</td>\n",
              "      <td>0</td>\n",
              "      <td>0</td>\n",
              "      <td>0</td>\n",
              "      <td>0</td>\n",
              "      <td>24</td>\n",
              "      <td>0</td>\n",
              "      <td>969</td>\n",
              "      <td>1</td>\n",
              "      <td>6</td>\n",
              "    </tr>\n",
              "    <tr>\n",
              "      <th>8</th>\n",
              "      <td>0</td>\n",
              "      <td>1</td>\n",
              "      <td>1</td>\n",
              "      <td>1</td>\n",
              "      <td>6</td>\n",
              "      <td>13</td>\n",
              "      <td>17</td>\n",
              "      <td>6</td>\n",
              "      <td>955</td>\n",
              "      <td>0</td>\n",
              "    </tr>\n",
              "    <tr>\n",
              "      <th>9</th>\n",
              "      <td>0</td>\n",
              "      <td>1</td>\n",
              "      <td>0</td>\n",
              "      <td>0</td>\n",
              "      <td>0</td>\n",
              "      <td>22</td>\n",
              "      <td>0</td>\n",
              "      <td>154</td>\n",
              "      <td>2</td>\n",
              "      <td>821</td>\n",
              "    </tr>\n",
              "  </tbody>\n",
              "</table>\n",
              "</div>\n",
              "    <div class=\"colab-df-buttons\">\n",
              "\n",
              "  <div class=\"colab-df-container\">\n",
              "    <button class=\"colab-df-convert\" onclick=\"convertToInteractive('df-31acb053-5120-4447-85c7-bc392c1cfbb8')\"\n",
              "            title=\"Convert this dataframe to an interactive table.\"\n",
              "            style=\"display:none;\">\n",
              "\n",
              "  <svg xmlns=\"http://www.w3.org/2000/svg\" height=\"24px\" viewBox=\"0 -960 960 960\">\n",
              "    <path d=\"M120-120v-720h720v720H120Zm60-500h600v-160H180v160Zm220 220h160v-160H400v160Zm0 220h160v-160H400v160ZM180-400h160v-160H180v160Zm440 0h160v-160H620v160ZM180-180h160v-160H180v160Zm440 0h160v-160H620v160Z\"/>\n",
              "  </svg>\n",
              "    </button>\n",
              "\n",
              "  <style>\n",
              "    .colab-df-container {\n",
              "      display:flex;\n",
              "      gap: 12px;\n",
              "    }\n",
              "\n",
              "    .colab-df-convert {\n",
              "      background-color: #E8F0FE;\n",
              "      border: none;\n",
              "      border-radius: 50%;\n",
              "      cursor: pointer;\n",
              "      display: none;\n",
              "      fill: #1967D2;\n",
              "      height: 32px;\n",
              "      padding: 0 0 0 0;\n",
              "      width: 32px;\n",
              "    }\n",
              "\n",
              "    .colab-df-convert:hover {\n",
              "      background-color: #E2EBFA;\n",
              "      box-shadow: 0px 1px 2px rgba(60, 64, 67, 0.3), 0px 1px 3px 1px rgba(60, 64, 67, 0.15);\n",
              "      fill: #174EA6;\n",
              "    }\n",
              "\n",
              "    .colab-df-buttons div {\n",
              "      margin-bottom: 4px;\n",
              "    }\n",
              "\n",
              "    [theme=dark] .colab-df-convert {\n",
              "      background-color: #3B4455;\n",
              "      fill: #D2E3FC;\n",
              "    }\n",
              "\n",
              "    [theme=dark] .colab-df-convert:hover {\n",
              "      background-color: #434B5C;\n",
              "      box-shadow: 0px 1px 3px 1px rgba(0, 0, 0, 0.15);\n",
              "      filter: drop-shadow(0px 1px 2px rgba(0, 0, 0, 0.3));\n",
              "      fill: #FFFFFF;\n",
              "    }\n",
              "  </style>\n",
              "\n",
              "    <script>\n",
              "      const buttonEl =\n",
              "        document.querySelector('#df-31acb053-5120-4447-85c7-bc392c1cfbb8 button.colab-df-convert');\n",
              "      buttonEl.style.display =\n",
              "        google.colab.kernel.accessAllowed ? 'block' : 'none';\n",
              "\n",
              "      async function convertToInteractive(key) {\n",
              "        const element = document.querySelector('#df-31acb053-5120-4447-85c7-bc392c1cfbb8');\n",
              "        const dataTable =\n",
              "          await google.colab.kernel.invokeFunction('convertToInteractive',\n",
              "                                                    [key], {});\n",
              "        if (!dataTable) return;\n",
              "\n",
              "        const docLinkHtml = 'Like what you see? Visit the ' +\n",
              "          '<a target=\"_blank\" href=https://colab.research.google.com/notebooks/data_table.ipynb>data table notebook</a>'\n",
              "          + ' to learn more about interactive tables.';\n",
              "        element.innerHTML = '';\n",
              "        dataTable['output_type'] = 'display_data';\n",
              "        await google.colab.output.renderOutput(dataTable, element);\n",
              "        const docLink = document.createElement('div');\n",
              "        docLink.innerHTML = docLinkHtml;\n",
              "        element.appendChild(docLink);\n",
              "      }\n",
              "    </script>\n",
              "  </div>\n",
              "\n",
              "\n",
              "<div id=\"df-2ce2a230-0d4d-4164-acff-97d4688c03a7\">\n",
              "  <button class=\"colab-df-quickchart\" onclick=\"quickchart('df-2ce2a230-0d4d-4164-acff-97d4688c03a7')\"\n",
              "            title=\"Suggest charts.\"\n",
              "            style=\"display:none;\">\n",
              "\n",
              "<svg xmlns=\"http://www.w3.org/2000/svg\" height=\"24px\"viewBox=\"0 0 24 24\"\n",
              "     width=\"24px\">\n",
              "    <g>\n",
              "        <path d=\"M19 3H5c-1.1 0-2 .9-2 2v14c0 1.1.9 2 2 2h14c1.1 0 2-.9 2-2V5c0-1.1-.9-2-2-2zM9 17H7v-7h2v7zm4 0h-2V7h2v10zm4 0h-2v-4h2v4z\"/>\n",
              "    </g>\n",
              "</svg>\n",
              "  </button>\n",
              "\n",
              "<style>\n",
              "  .colab-df-quickchart {\n",
              "      --bg-color: #E8F0FE;\n",
              "      --fill-color: #1967D2;\n",
              "      --hover-bg-color: #E2EBFA;\n",
              "      --hover-fill-color: #174EA6;\n",
              "      --disabled-fill-color: #AAA;\n",
              "      --disabled-bg-color: #DDD;\n",
              "  }\n",
              "\n",
              "  [theme=dark] .colab-df-quickchart {\n",
              "      --bg-color: #3B4455;\n",
              "      --fill-color: #D2E3FC;\n",
              "      --hover-bg-color: #434B5C;\n",
              "      --hover-fill-color: #FFFFFF;\n",
              "      --disabled-bg-color: #3B4455;\n",
              "      --disabled-fill-color: #666;\n",
              "  }\n",
              "\n",
              "  .colab-df-quickchart {\n",
              "    background-color: var(--bg-color);\n",
              "    border: none;\n",
              "    border-radius: 50%;\n",
              "    cursor: pointer;\n",
              "    display: none;\n",
              "    fill: var(--fill-color);\n",
              "    height: 32px;\n",
              "    padding: 0;\n",
              "    width: 32px;\n",
              "  }\n",
              "\n",
              "  .colab-df-quickchart:hover {\n",
              "    background-color: var(--hover-bg-color);\n",
              "    box-shadow: 0 1px 2px rgba(60, 64, 67, 0.3), 0 1px 3px 1px rgba(60, 64, 67, 0.15);\n",
              "    fill: var(--button-hover-fill-color);\n",
              "  }\n",
              "\n",
              "  .colab-df-quickchart-complete:disabled,\n",
              "  .colab-df-quickchart-complete:disabled:hover {\n",
              "    background-color: var(--disabled-bg-color);\n",
              "    fill: var(--disabled-fill-color);\n",
              "    box-shadow: none;\n",
              "  }\n",
              "\n",
              "  .colab-df-spinner {\n",
              "    border: 2px solid var(--fill-color);\n",
              "    border-color: transparent;\n",
              "    border-bottom-color: var(--fill-color);\n",
              "    animation:\n",
              "      spin 1s steps(1) infinite;\n",
              "  }\n",
              "\n",
              "  @keyframes spin {\n",
              "    0% {\n",
              "      border-color: transparent;\n",
              "      border-bottom-color: var(--fill-color);\n",
              "      border-left-color: var(--fill-color);\n",
              "    }\n",
              "    20% {\n",
              "      border-color: transparent;\n",
              "      border-left-color: var(--fill-color);\n",
              "      border-top-color: var(--fill-color);\n",
              "    }\n",
              "    30% {\n",
              "      border-color: transparent;\n",
              "      border-left-color: var(--fill-color);\n",
              "      border-top-color: var(--fill-color);\n",
              "      border-right-color: var(--fill-color);\n",
              "    }\n",
              "    40% {\n",
              "      border-color: transparent;\n",
              "      border-right-color: var(--fill-color);\n",
              "      border-top-color: var(--fill-color);\n",
              "    }\n",
              "    60% {\n",
              "      border-color: transparent;\n",
              "      border-right-color: var(--fill-color);\n",
              "    }\n",
              "    80% {\n",
              "      border-color: transparent;\n",
              "      border-right-color: var(--fill-color);\n",
              "      border-bottom-color: var(--fill-color);\n",
              "    }\n",
              "    90% {\n",
              "      border-color: transparent;\n",
              "      border-bottom-color: var(--fill-color);\n",
              "    }\n",
              "  }\n",
              "</style>\n",
              "\n",
              "  <script>\n",
              "    async function quickchart(key) {\n",
              "      const quickchartButtonEl =\n",
              "        document.querySelector('#' + key + ' button');\n",
              "      quickchartButtonEl.disabled = true;  // To prevent multiple clicks.\n",
              "      quickchartButtonEl.classList.add('colab-df-spinner');\n",
              "      try {\n",
              "        const charts = await google.colab.kernel.invokeFunction(\n",
              "            'suggestCharts', [key], {});\n",
              "      } catch (error) {\n",
              "        console.error('Error during call to suggestCharts:', error);\n",
              "      }\n",
              "      quickchartButtonEl.classList.remove('colab-df-spinner');\n",
              "      quickchartButtonEl.classList.add('colab-df-quickchart-complete');\n",
              "    }\n",
              "    (() => {\n",
              "      let quickchartButtonEl =\n",
              "        document.querySelector('#df-2ce2a230-0d4d-4164-acff-97d4688c03a7 button');\n",
              "      quickchartButtonEl.style.display =\n",
              "        google.colab.kernel.accessAllowed ? 'block' : 'none';\n",
              "    })();\n",
              "  </script>\n",
              "</div>\n",
              "    </div>\n",
              "  </div>\n"
            ]
          },
          "metadata": {},
          "execution_count": 243
        }
      ]
    },
    {
      "cell_type": "code",
      "source": [
        "import seaborn as sns\n",
        "\n",
        "sns.heatmap(data=cm,\n",
        "            annot=True,\n",
        "            fmt=\".0f\",\n",
        "            cbar=True);"
      ],
      "metadata": {
        "colab": {
          "base_uri": "https://localhost:8080/",
          "height": 430
        },
        "id": "xeXtvZDSjgsd",
        "outputId": "4a2ce06b-2349-4cfa-ce52-ba575b0ed802"
      },
      "execution_count": 245,
      "outputs": [
        {
          "output_type": "display_data",
          "data": {
            "text/plain": [
              "<Figure size 640x480 with 2 Axes>"
            ],
            "image/png": "[encoded data removed]"
          },
          "metadata": {}
        }
      ]
    },
    {
      "cell_type": "code",
      "source": [],
      "metadata": {
        "id": "6Hnhh7NDnomX"
      },
      "execution_count": null,
      "outputs": []
    }
  ]
}