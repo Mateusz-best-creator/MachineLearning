{
  "nbformat": 4,
  "nbformat_minor": 0,
  "metadata": {
    "colab": {
      "provenance": [],
      "mount_file_id": "1BIoY5Hi5aa7D3Zf1F10IMP_wvIxNNkga",
      "authorship_tag": "ABX9TyMPK8v8GnJwZCd7pzqePNxl",
      "include_colab_link": true
    },
    "kernelspec": {
      "name": "python3",
      "display_name": "Python 3"
    },
    "language_info": {
      "name": "python"
    }
  },
  "cells": [
    {
      "cell_type": "markdown",
      "metadata": {
        "id": "view-in-github",
        "colab_type": "text"
      },
      "source": [
        "<a href=\"https://colab.research.google.com/github/Mateusz-best-creator/SkimLit/blob/main/SkimLit_milestone.ipynb\" target=\"_parent\"><img src=\"https://colab.research.google.com/assets/colab-badge.svg\" alt=\"Open In Colab\"/></a>"
      ]
    },
    {
      "cell_type": "code",
      "execution_count": 1,
      "metadata": {
        "id": "0riUe3HNpHzV"
      },
      "outputs": [],
      "source": [
        "# Import necessary liblaries\n",
        "import tensorflow as tf\n",
        "import pandas as pd\n",
        "import numpy as np\n",
        "import matplotlib.pyplot as plt"
      ]
    },
    {
      "cell_type": "markdown",
      "source": [
        "# Create some helper functions that are going to be useful later"
      ],
      "metadata": {
        "id": "dH5-wIoSJ8pM"
      }
    },
    {
      "cell_type": "code",
      "source": [
        "from sklearn.metrics import accuracy_score, precision_recall_fscore_support\n",
        "\n",
        "def calculate_results(y_true, y_pred):\n",
        "  results = {}\n",
        "  results[\"accuracy_score\"] = accuracy_score(y_true, y_pred)\n",
        "  results[\"precision_score\"], results[\"recall_score\"], results[\"f1_score\"], _ = precision_recall_fscore_support(y_true, y_pred, average=\"weighted\", zero_division=\"warn\")\n",
        "  return results\n",
        "\n",
        "# Check if our function is working on some random samples\n",
        "calculate_results([1,1,1, 0, 0,1,1,1,0], [0,1,1, 0, 1,1,1,1, 1])"
      ],
      "metadata": {
        "colab": {
          "base_uri": "https://localhost:8080/"
        },
        "id": "RY1n4sthKA6-",
        "outputId": "898f908c-1d51-4777-9bac-3f1a846a5478"
      },
      "execution_count": 2,
      "outputs": [
        {
          "output_type": "execute_result",
          "data": {
            "text/plain": [
              "{'accuracy_score': 0.6666666666666666,\n",
              " 'precision_score': 0.6428571428571428,\n",
              " 'recall_score': 0.6666666666666666,\n",
              " 'f1_score': 0.6461538461538461}"
            ]
          },
          "metadata": {},
          "execution_count": 2
        }
      ]
    },
    {
      "cell_type": "code",
      "source": [
        "from pathlib import Path\n",
        "\n",
        "def save_model(model, model_name, log_path=\"/content/saved_models\"):\n",
        "  save_path = Path(log_path) / model_name\n",
        "  model.save(save_path, save_format=\"tf\")\n",
        "\n",
        "def load_model(model_name, log_path=\"/content/saved_models\"):\n",
        "  full_path = Path(log_path) / model_name\n",
        "  return tf.keras.models.load_model(full_path)"
      ],
      "metadata": {
        "id": "Y-u4oIIoLVS7"
      },
      "execution_count": 3,
      "outputs": []
    },
    {
      "cell_type": "code",
      "source": [
        "# Check if predictions are the same\n",
        "def compare_predictions(model_1, model_2, data):\n",
        "  preds_1 = model_1.predict(data)\n",
        "  preds_2 = model_2.predict(data)\n",
        "  if np.all(preds_1 == preds_2):\n",
        "    print(f\"We have correctly saved our model, predictions are the same.\")\n",
        "  else:\n",
        "    print(f\"Predictions are different we incorrectly saved our model.\")\n",
        "  assert np.all(preds_1 == preds_2)"
      ],
      "metadata": {
        "id": "2s0nv8w5amJW"
      },
      "execution_count": 4,
      "outputs": []
    },
    {
      "cell_type": "code",
      "source": [
        "import datetime\n",
        "\n",
        "def create_early_stopping_callback(patience=10, monitor_value=\"val_accuracy\"):\n",
        "  return tf.keras.callbacks.EarlyStopping(monitor=monitor_value,\n",
        "                                          patience=patience)\n",
        "\n",
        "def create_tensorboard_callback(experiment_name, log_path=\"/content/tensorboard_callback\"):\n",
        "  tensorboard_path = Path(log_path) / experiment_name / datetime.datetime.now().strftime(\"run_%Y_%m_%d_%H_%M_%S\")\n",
        "  print(f\"Saving tensorboard callback to: {tensorboard_path}\")\n",
        "  return tf.keras.callbacks.TensorBoard(log_dir=tensorboard_path)\n",
        "\n",
        "def create_modelcheckpoint_callback(experiment_name, checkpoints_dir, monitor_value=\"val_accuracy\"):\n",
        "    modelcheckpoint_dir = Path(checkpoints_dir) / experiment_name\n",
        "    print(f\"Saving model checkpoints to: {modelcheckpoint_dir}\")\n",
        "    return tf.keras.callbacks.ModelCheckpoint(filepath=modelcheckpoint_dir,\n",
        "                                              monitor=monitor_value,\n",
        "                                              save_best_only=True,\n",
        "                                              save_weights_only=True)"
      ],
      "metadata": {
        "id": "uLGTTTUTL_3O"
      },
      "execution_count": 5,
      "outputs": []
    },
    {
      "cell_type": "markdown",
      "source": [
        "# 09. Milestone Project 2: SkimLit 📄🔥\n",
        "In the previous notebook (NLP fundamentals in TensorFlow), we went through some fundamental natural lanuage processing concepts. The main ones being tokenization (turning words into numbers) and creating embeddings (creating a numerical representation of words).\n",
        "\n",
        "In this project, we're going to be putting what we've learned into practice.\n",
        "\n",
        "More specificially, we're going to be replicating the deep learning model behind the 2017 paper PubMed 200k: RCT:https://arxiv.org/abs/1710.06071, https://arxiv.org/pdf/1612.05251.pdf.\n",
        "\n",
        "When it was released, the paper presented a new dataset called PubMed 200k RCT which consists of ~200,000 labelled Randomized Controlled Trial (RCT) abstracts.\n",
        "\n",
        "The goal of the dataset was to explore the ability for NLP models to classify sentences which appear in sequential order.\n",
        "\n",
        "In other words, given the abstract of a RCT, what role does each sentence serve in the abstract?"
      ],
      "metadata": {
        "id": "XYHA3cRBpavG"
      }
    },
    {
      "cell_type": "code",
      "source": [
        "!git clone https://github.com/Franck-Dernoncourt/pubmed-rct.git"
      ],
      "metadata": {
        "colab": {
          "base_uri": "https://localhost:8080/"
        },
        "id": "ZHgfvEcsptc5",
        "outputId": "7b321aa6-01a7-4b6f-dd65-259b0438e3a4"
      },
      "execution_count": 6,
      "outputs": [
        {
          "output_type": "stream",
          "name": "stdout",
          "text": [
            "Cloning into 'pubmed-rct'...\n",
            "remote: Enumerating objects: 33, done.\u001b[K\n",
            "remote: Counting objects: 100% (8/8), done.\u001b[K\n",
            "remote: Compressing objects: 100% (3/3), done.\u001b[K\n",
            "remote: Total 33 (delta 5), reused 5 (delta 5), pack-reused 25\u001b[K\n",
            "Receiving objects: 100% (33/33), 177.08 MiB | 19.43 MiB/s, done.\n",
            "Resolving deltas: 100% (12/12), done.\n",
            "Updating files: 100% (13/13), done.\n"
          ]
        }
      ]
    },
    {
      "cell_type": "code",
      "source": [
        "!ls pubmed-rct/PubMed_20k_RCT_numbers_replaced_with_at_sign"
      ],
      "metadata": {
        "colab": {
          "base_uri": "https://localhost:8080/"
        },
        "id": "6w-tUvosqis7",
        "outputId": "363a12d7-564a-4d15-cad1-ea7aa3d5a178"
      },
      "execution_count": 7,
      "outputs": [
        {
          "output_type": "stream",
          "name": "stdout",
          "text": [
            "dev.txt  test.txt  train.txt\n"
          ]
        }
      ]
    },
    {
      "cell_type": "markdown",
      "source": [
        "**Note:** another name for the validation set is \"dev\" set."
      ],
      "metadata": {
        "id": "pi7vwvQ4ql7s"
      }
    },
    {
      "cell_type": "markdown",
      "source": [
        "## Getting the data from files"
      ],
      "metadata": {
        "id": "yhaoKEMUqqTE"
      }
    },
    {
      "cell_type": "code",
      "source": [
        "def read_file(filename):\n",
        "  with open(filename) as f:\n",
        "    return f.readlines()"
      ],
      "metadata": {
        "id": "Mt8i8zasrwmP"
      },
      "execution_count": 8,
      "outputs": []
    },
    {
      "cell_type": "code",
      "source": [
        "filenames = [\"pubmed-rct/PubMed_20k_RCT_numbers_replaced_with_at_sign/train.txt\",\n",
        "             \"pubmed-rct/PubMed_20k_RCT_numbers_replaced_with_at_sign/dev.txt\",\n",
        "             \"pubmed-rct/PubMed_20k_RCT_numbers_replaced_with_at_sign/test.txt\"]\n",
        "\n",
        "read_file(filenames[1])[:15]"
      ],
      "metadata": {
        "colab": {
          "base_uri": "https://localhost:8080/"
        },
        "id": "zfDcb3Glr2aC",
        "outputId": "e24f8224-4029-4f62-d179-7e7d35ff056a"
      },
      "execution_count": 9,
      "outputs": [
        {
          "output_type": "execute_result",
          "data": {
            "text/plain": [
              "['###24290286\\n',\n",
              " 'BACKGROUND\\tIgE sensitization to Aspergillus fumigatus and a positive sputum fungal culture result are common in patients with refractory asthma .\\n',\n",
              " 'BACKGROUND\\tIt is not clear whether these patients would benefit from antifungal treatment .\\n',\n",
              " 'OBJECTIVE\\tWe sought to determine whether a @-month course of voriconazole improved asthma-related outcomes in patients with asthma who are IgE sensitized to A fumigatus .\\n',\n",
              " 'METHODS\\tAsthmatic patients who were IgE sensitized to A fumigatus with a history of at least @ severe exacerbations in the previous @ months were treated for @ months with @ mg of voriconazole twice daily , followed by observation for @ months , in a double-blind , placebo-controlled , randomized design .\\n',\n",
              " 'METHODS\\tPrimary outcomes were improvement in quality of life at the end of the treatment period and a reduction in the number of severe exacerbations over the @ months of the study .\\n',\n",
              " 'RESULTS\\tSixty-five patients were randomized .\\n',\n",
              " 'RESULTS\\tFifty-nine patients started treatment ( @ receiving voriconazole and @ receiving placebo ) and were included in an intention-to-treat analysis .\\n',\n",
              " 'RESULTS\\tFifty-six patients took the full @ months of medication .\\n',\n",
              " 'RESULTS\\tBetween the voriconazole and placebo groups , there were no significant differences in the number of severe exacerbations ( @ vs @ per patient per year , respectively ; mean difference , @ ; @ % CI , @-@ @ ) , quality of life ( change in Asthma Quality of Life Questionnaire score , @ vs @ ; mean difference between groups , @ ; @ % CI , -@ to -@ ) , or any of our secondary outcome measures .\\n',\n",
              " 'CONCLUSIONS\\tWe were unable to show a beneficial effect of @ months of treatment with voriconazole in patients with moderate-to-severe asthma who were IgE sensitized to A fumigatus on either the rate of severe exacerbations , quality of life , or other markers of asthma control .\\n',\n",
              " '\\n',\n",
              " '###24464531\\n',\n",
              " 'BACKGROUND\\tOpioid antagonists ( e.g. , naltrexone ) and positive modulators of - aminobutyric-acidA ( GABAA ) receptors ( e.g. , alprazolam ) modestly attenuate the abuse-related effects of stimulants like amphetamine .\\n',\n",
              " 'BACKGROUND\\tThe use of higher doses to achieve greater efficacy is precluded by side effects .\\n']"
            ]
          },
          "metadata": {},
          "execution_count": 9
        }
      ]
    },
    {
      "cell_type": "code",
      "source": [
        "def preprocess_file(filename):\n",
        "  \"\"\"\n",
        "  Using this function we are going to extract the most\n",
        "  important informations from our files and atfer that\n",
        "  use pandas data structures to make them more visual.\n",
        "\n",
        "  The format of output array is going to be:\n",
        "\n",
        "  [\n",
        "    {\n",
        "      \"target\": \"CONCLUSIONS\",\n",
        "      \"text\": \"Elevated MELD-XI scores are associated with poor outcomes among patients admitted with ADHF.\",\n",
        "      \"number_line\": 10,\n",
        "      \"total_lines\": 12\n",
        "    }\n",
        "  ]\n",
        "  \"\"\"\n",
        "  final_result = []\n",
        "  sentences = \"\"\n",
        "  lines = read_file(filename)\n",
        "  for line in lines:\n",
        "    if line.startswith(\"###\"):\n",
        "      sentences = \"\"\n",
        "    elif line.isspace():\n",
        "      single_sentences = sentences.splitlines()\n",
        "      for line_idx, single_sentence in enumerate(single_sentences):\n",
        "        target_text = single_sentence.split(\"\\t\")\n",
        "        sentence_dictionary = {}\n",
        "        sentence_dictionary[\"target\"] = target_text[0]\n",
        "        sentence_dictionary[\"text\"] = target_text[1]\n",
        "        sentence_dictionary[\"line_number\"] = line_idx\n",
        "        sentence_dictionary[\"total_lines\"] = len(single_sentences) - 1\n",
        "        # Add above dictionary to the output dictionary\n",
        "        final_result.append(sentence_dictionary)\n",
        "\n",
        "    else:\n",
        "      sentences += line\n",
        "\n",
        "  return final_result"
      ],
      "metadata": {
        "id": "He6m9MABqx5w"
      },
      "execution_count": 10,
      "outputs": []
    },
    {
      "cell_type": "code",
      "source": [
        "preprocessed_train_set = preprocess_file(filenames[0])\n",
        "preprocessed_valid_set = preprocess_file(filenames[1])\n",
        "preprocessed_test_set = preprocess_file(filenames[2])\n",
        "\n",
        "# Check if worked\n",
        "preprocessed_train_set[:2], preprocessed_test_set[:2]"
      ],
      "metadata": {
        "colab": {
          "base_uri": "https://localhost:8080/"
        },
        "id": "WlJrcvHBterx",
        "outputId": "ab4cd3d5-8cb6-4b4b-b1df-4807ffacecb2"
      },
      "execution_count": 11,
      "outputs": [
        {
          "output_type": "execute_result",
          "data": {
            "text/plain": [
              "([{'target': 'OBJECTIVE',\n",
              "   'text': 'To investigate the efficacy of @ weeks of daily low-dose oral prednisolone in improving pain , mobility , and systemic low-grade inflammation in the short term and whether the effect would be sustained at @ weeks in older adults with moderate to severe knee osteoarthritis ( OA ) .',\n",
              "   'line_number': 0,\n",
              "   'total_lines': 11},\n",
              "  {'target': 'METHODS',\n",
              "   'text': 'A total of @ patients with primary knee OA were randomized @:@ ; @ received @ mg/day of prednisolone and @ received placebo for @ weeks .',\n",
              "   'line_number': 1,\n",
              "   'total_lines': 11}],\n",
              " [{'target': 'BACKGROUND',\n",
              "   'text': 'This study analyzed liver function abnormalities in heart failure patients admitted with severe acute decompensated heart failure ( ADHF ) .',\n",
              "   'line_number': 0,\n",
              "   'total_lines': 8},\n",
              "  {'target': 'RESULTS',\n",
              "   'text': 'A post hoc analysis was conducted with the use of data from the Evaluation Study of Congestive Heart Failure and Pulmonary Artery Catheterization Effectiveness ( ESCAPE ) .',\n",
              "   'line_number': 1,\n",
              "   'total_lines': 8}])"
            ]
          },
          "metadata": {},
          "execution_count": 11
        }
      ]
    },
    {
      "cell_type": "markdown",
      "source": [
        "## Using pandas to visualize our datasets"
      ],
      "metadata": {
        "id": "XODmtOPT23GY"
      }
    },
    {
      "cell_type": "code",
      "source": [
        "train_df = pd.DataFrame(preprocessed_train_set)\n",
        "valid_df = pd.DataFrame(preprocessed_valid_set)\n",
        "test_df = pd.DataFrame(preprocessed_test_set)\n",
        "\n",
        "train_df.head(15)"
      ],
      "metadata": {
        "colab": {
          "base_uri": "https://localhost:8080/",
          "height": 520
        },
        "id": "Ynbu25Qa28TT",
        "outputId": "81a7cee8-3027-462a-986f-2eba78ebdf8a"
      },
      "execution_count": 12,
      "outputs": [
        {
          "output_type": "execute_result",
          "data": {
            "text/plain": [
              "         target                                               text  \\\n",
              "0     OBJECTIVE  To investigate the efficacy of @ weeks of dail...   \n",
              "1       METHODS  A total of @ patients with primary knee OA wer...   \n",
              "2       METHODS  Outcome measures included pain reduction and i...   \n",
              "3       METHODS  Pain was assessed using the visual analog pain...   \n",
              "4       METHODS  Secondary outcome measures included the Wester...   \n",
              "5       METHODS  Serum levels of interleukin @ ( IL-@ ) , IL-@ ...   \n",
              "6       RESULTS  There was a clinically relevant reduction in t...   \n",
              "7       RESULTS  The mean difference between treatment arms ( @...   \n",
              "8       RESULTS  Further , there was a clinically relevant redu...   \n",
              "9       RESULTS  These differences remained significant at @ we...   \n",
              "10      RESULTS  The Outcome Measures in Rheumatology Clinical ...   \n",
              "11  CONCLUSIONS  Low-dose oral prednisolone had both a short-te...   \n",
              "12   BACKGROUND  Emotional eating is associated with overeating...   \n",
              "13   BACKGROUND  Yet , empirical evidence for individual ( trai...   \n",
              "14    OBJECTIVE  The aim of this study was to test if attention...   \n",
              "\n",
              "    line_number  total_lines  \n",
              "0             0           11  \n",
              "1             1           11  \n",
              "2             2           11  \n",
              "3             3           11  \n",
              "4             4           11  \n",
              "5             5           11  \n",
              "6             6           11  \n",
              "7             7           11  \n",
              "8             8           11  \n",
              "9             9           11  \n",
              "10           10           11  \n",
              "11           11           11  \n",
              "12            0           10  \n",
              "13            1           10  \n",
              "14            2           10  "
            ],
            "text/html": [
              "\n",
              "\n",
              "  <div id=\"df-e3bfa4ca-ed12-45b0-917d-0302b3449095\">\n",
              "    <div class=\"colab-df-container\">\n",
              "      <div>\n",
              "<style scoped>\n",
              "    .dataframe tbody tr th:only-of-type {\n",
              "        vertical-align: middle;\n",
              "    }\n",
              "\n",
              "    .dataframe tbody tr th {\n",
              "        vertical-align: top;\n",
              "    }\n",
              "\n",
              "    .dataframe thead th {\n",
              "        text-align: right;\n",
              "    }\n",
              "</style>\n",
              "<table border=\"1\" class=\"dataframe\">\n",
              "  <thead>\n",
              "    <tr style=\"text-align: right;\">\n",
              "      <th></th>\n",
              "      <th>target</th>\n",
              "      <th>text</th>\n",
              "      <th>line_number</th>\n",
              "      <th>total_lines</th>\n",
              "    </tr>\n",
              "  </thead>\n",
              "  <tbody>\n",
              "    <tr>\n",
              "      <th>0</th>\n",
              "      <td>OBJECTIVE</td>\n",
              "      <td>To investigate the efficacy of @ weeks of dail...</td>\n",
              "      <td>0</td>\n",
              "      <td>11</td>\n",
              "    </tr>\n",
              "    <tr>\n",
              "      <th>1</th>\n",
              "      <td>METHODS</td>\n",
              "      <td>A total of @ patients with primary knee OA wer...</td>\n",
              "      <td>1</td>\n",
              "      <td>11</td>\n",
              "    </tr>\n",
              "    <tr>\n",
              "      <th>2</th>\n",
              "      <td>METHODS</td>\n",
              "      <td>Outcome measures included pain reduction and i...</td>\n",
              "      <td>2</td>\n",
              "      <td>11</td>\n",
              "    </tr>\n",
              "    <tr>\n",
              "      <th>3</th>\n",
              "      <td>METHODS</td>\n",
              "      <td>Pain was assessed using the visual analog pain...</td>\n",
              "      <td>3</td>\n",
              "      <td>11</td>\n",
              "    </tr>\n",
              "    <tr>\n",
              "      <th>4</th>\n",
              "      <td>METHODS</td>\n",
              "      <td>Secondary outcome measures included the Wester...</td>\n",
              "      <td>4</td>\n",
              "      <td>11</td>\n",
              "    </tr>\n",
              "    <tr>\n",
              "      <th>5</th>\n",
              "      <td>METHODS</td>\n",
              "      <td>Serum levels of interleukin @ ( IL-@ ) , IL-@ ...</td>\n",
              "      <td>5</td>\n",
              "      <td>11</td>\n",
              "    </tr>\n",
              "    <tr>\n",
              "      <th>6</th>\n",
              "      <td>RESULTS</td>\n",
              "      <td>There was a clinically relevant reduction in t...</td>\n",
              "      <td>6</td>\n",
              "      <td>11</td>\n",
              "    </tr>\n",
              "    <tr>\n",
              "      <th>7</th>\n",
              "      <td>RESULTS</td>\n",
              "      <td>The mean difference between treatment arms ( @...</td>\n",
              "      <td>7</td>\n",
              "      <td>11</td>\n",
              "    </tr>\n",
              "    <tr>\n",
              "      <th>8</th>\n",
              "      <td>RESULTS</td>\n",
              "      <td>Further , there was a clinically relevant redu...</td>\n",
              "      <td>8</td>\n",
              "      <td>11</td>\n",
              "    </tr>\n",
              "    <tr>\n",
              "      <th>9</th>\n",
              "      <td>RESULTS</td>\n",
              "      <td>These differences remained significant at @ we...</td>\n",
              "      <td>9</td>\n",
              "      <td>11</td>\n",
              "    </tr>\n",
              "    <tr>\n",
              "      <th>10</th>\n",
              "      <td>RESULTS</td>\n",
              "      <td>The Outcome Measures in Rheumatology Clinical ...</td>\n",
              "      <td>10</td>\n",
              "      <td>11</td>\n",
              "    </tr>\n",
              "    <tr>\n",
              "      <th>11</th>\n",
              "      <td>CONCLUSIONS</td>\n",
              "      <td>Low-dose oral prednisolone had both a short-te...</td>\n",
              "      <td>11</td>\n",
              "      <td>11</td>\n",
              "    </tr>\n",
              "    <tr>\n",
              "      <th>12</th>\n",
              "      <td>BACKGROUND</td>\n",
              "      <td>Emotional eating is associated with overeating...</td>\n",
              "      <td>0</td>\n",
              "      <td>10</td>\n",
              "    </tr>\n",
              "    <tr>\n",
              "      <th>13</th>\n",
              "      <td>BACKGROUND</td>\n",
              "      <td>Yet , empirical evidence for individual ( trai...</td>\n",
              "      <td>1</td>\n",
              "      <td>10</td>\n",
              "    </tr>\n",
              "    <tr>\n",
              "      <th>14</th>\n",
              "      <td>OBJECTIVE</td>\n",
              "      <td>The aim of this study was to test if attention...</td>\n",
              "      <td>2</td>\n",
              "      <td>10</td>\n",
              "    </tr>\n",
              "  </tbody>\n",
              "</table>\n",
              "</div>\n",
              "      <button class=\"colab-df-convert\" onclick=\"convertToInteractive('df-e3bfa4ca-ed12-45b0-917d-0302b3449095')\"\n",
              "              title=\"Convert this dataframe to an interactive table.\"\n",
              "              style=\"display:none;\">\n",
              "\n",
              "  <svg xmlns=\"http://www.w3.org/2000/svg\" height=\"24px\"viewBox=\"0 0 24 24\"\n",
              "       width=\"24px\">\n",
              "    <path d=\"M0 0h24v24H0V0z\" fill=\"none\"/>\n",
              "    <path d=\"M18.56 5.44l.94 2.06.94-2.06 2.06-.94-2.06-.94-.94-2.06-.94 2.06-2.06.94zm-11 1L8.5 8.5l.94-2.06 2.06-.94-2.06-.94L8.5 2.5l-.94 2.06-2.06.94zm10 10l.94 2.06.94-2.06 2.06-.94-2.06-.94-.94-2.06-.94 2.06-2.06.94z\"/><path d=\"M17.41 7.96l-1.37-1.37c-.4-.4-.92-.59-1.43-.59-.52 0-1.04.2-1.43.59L10.3 9.45l-7.72 7.72c-.78.78-.78 2.05 0 2.83L4 21.41c.39.39.9.59 1.41.59.51 0 1.02-.2 1.41-.59l7.78-7.78 2.81-2.81c.8-.78.8-2.07 0-2.86zM5.41 20L4 18.59l7.72-7.72 1.47 1.35L5.41 20z\"/>\n",
              "  </svg>\n",
              "      </button>\n",
              "\n",
              "\n",
              "\n",
              "    <div id=\"df-7344d897-5ad5-4be6-a828-7e8d0ee83070\">\n",
              "      <button class=\"colab-df-quickchart\" onclick=\"quickchart('df-7344d897-5ad5-4be6-a828-7e8d0ee83070')\"\n",
              "              title=\"Suggest charts.\"\n",
              "              style=\"display:none;\">\n",
              "\n",
              "<svg xmlns=\"http://www.w3.org/2000/svg\" height=\"24px\"viewBox=\"0 0 24 24\"\n",
              "     width=\"24px\">\n",
              "    <g>\n",
              "        <path d=\"M19 3H5c-1.1 0-2 .9-2 2v14c0 1.1.9 2 2 2h14c1.1 0 2-.9 2-2V5c0-1.1-.9-2-2-2zM9 17H7v-7h2v7zm4 0h-2V7h2v10zm4 0h-2v-4h2v4z\"/>\n",
              "    </g>\n",
              "</svg>\n",
              "      </button>\n",
              "    </div>\n",
              "\n",
              "<style>\n",
              "  .colab-df-quickchart {\n",
              "    background-color: #E8F0FE;\n",
              "    border: none;\n",
              "    border-radius: 50%;\n",
              "    cursor: pointer;\n",
              "    display: none;\n",
              "    fill: #1967D2;\n",
              "    height: 32px;\n",
              "    padding: 0 0 0 0;\n",
              "    width: 32px;\n",
              "  }\n",
              "\n",
              "  .colab-df-quickchart:hover {\n",
              "    background-color: #E2EBFA;\n",
              "    box-shadow: 0px 1px 2px rgba(60, 64, 67, 0.3), 0px 1px 3px 1px rgba(60, 64, 67, 0.15);\n",
              "    fill: #174EA6;\n",
              "  }\n",
              "\n",
              "  [theme=dark] .colab-df-quickchart {\n",
              "    background-color: #3B4455;\n",
              "    fill: #D2E3FC;\n",
              "  }\n",
              "\n",
              "  [theme=dark] .colab-df-quickchart:hover {\n",
              "    background-color: #434B5C;\n",
              "    box-shadow: 0px 1px 3px 1px rgba(0, 0, 0, 0.15);\n",
              "    filter: drop-shadow(0px 1px 2px rgba(0, 0, 0, 0.3));\n",
              "    fill: #FFFFFF;\n",
              "  }\n",
              "</style>\n",
              "\n",
              "    <script>\n",
              "      async function quickchart(key) {\n",
              "        const containerElement = document.querySelector('#' + key);\n",
              "        const charts = await google.colab.kernel.invokeFunction(\n",
              "            'suggestCharts', [key], {});\n",
              "      }\n",
              "    </script>\n",
              "\n",
              "      <script>\n",
              "\n",
              "function displayQuickchartButton(domScope) {\n",
              "  let quickchartButtonEl =\n",
              "    domScope.querySelector('#df-7344d897-5ad5-4be6-a828-7e8d0ee83070 button.colab-df-quickchart');\n",
              "  quickchartButtonEl.style.display =\n",
              "    google.colab.kernel.accessAllowed ? 'block' : 'none';\n",
              "}\n",
              "\n",
              "        displayQuickchartButton(document);\n",
              "      </script>\n",
              "      <style>\n",
              "    .colab-df-container {\n",
              "      display:flex;\n",
              "      flex-wrap:wrap;\n",
              "      gap: 12px;\n",
              "    }\n",
              "\n",
              "    .colab-df-convert {\n",
              "      background-color: #E8F0FE;\n",
              "      border: none;\n",
              "      border-radius: 50%;\n",
              "      cursor: pointer;\n",
              "      display: none;\n",
              "      fill: #1967D2;\n",
              "      height: 32px;\n",
              "      padding: 0 0 0 0;\n",
              "      width: 32px;\n",
              "    }\n",
              "\n",
              "    .colab-df-convert:hover {\n",
              "      background-color: #E2EBFA;\n",
              "      box-shadow: 0px 1px 2px rgba(60, 64, 67, 0.3), 0px 1px 3px 1px rgba(60, 64, 67, 0.15);\n",
              "      fill: #174EA6;\n",
              "    }\n",
              "\n",
              "    [theme=dark] .colab-df-convert {\n",
              "      background-color: #3B4455;\n",
              "      fill: #D2E3FC;\n",
              "    }\n",
              "\n",
              "    [theme=dark] .colab-df-convert:hover {\n",
              "      background-color: #434B5C;\n",
              "      box-shadow: 0px 1px 3px 1px rgba(0, 0, 0, 0.15);\n",
              "      filter: drop-shadow(0px 1px 2px rgba(0, 0, 0, 0.3));\n",
              "      fill: #FFFFFF;\n",
              "    }\n",
              "  </style>\n",
              "\n",
              "      <script>\n",
              "        const buttonEl =\n",
              "          document.querySelector('#df-e3bfa4ca-ed12-45b0-917d-0302b3449095 button.colab-df-convert');\n",
              "        buttonEl.style.display =\n",
              "          google.colab.kernel.accessAllowed ? 'block' : 'none';\n",
              "\n",
              "        async function convertToInteractive(key) {\n",
              "          const element = document.querySelector('#df-e3bfa4ca-ed12-45b0-917d-0302b3449095');\n",
              "          const dataTable =\n",
              "            await google.colab.kernel.invokeFunction('convertToInteractive',\n",
              "                                                     [key], {});\n",
              "          if (!dataTable) return;\n",
              "\n",
              "          const docLinkHtml = 'Like what you see? Visit the ' +\n",
              "            '<a target=\"_blank\" href=https://colab.research.google.com/notebooks/data_table.ipynb>data table notebook</a>'\n",
              "            + ' to learn more about interactive tables.';\n",
              "          element.innerHTML = '';\n",
              "          dataTable['output_type'] = 'display_data';\n",
              "          await google.colab.output.renderOutput(dataTable, element);\n",
              "          const docLink = document.createElement('div');\n",
              "          docLink.innerHTML = docLinkHtml;\n",
              "          element.appendChild(docLink);\n",
              "        }\n",
              "      </script>\n",
              "    </div>\n",
              "  </div>\n"
            ]
          },
          "metadata": {},
          "execution_count": 12
        }
      ]
    },
    {
      "cell_type": "code",
      "source": [
        "CLASS_NAMES = np.unique(train_df[\"target\"])\n",
        "CLASS_NAMES"
      ],
      "metadata": {
        "colab": {
          "base_uri": "https://localhost:8080/"
        },
        "id": "FRs6waitScBe",
        "outputId": "cbf9ff32-bc84-4c79-a923-2511d89bda87"
      },
      "execution_count": 13,
      "outputs": [
        {
          "output_type": "execute_result",
          "data": {
            "text/plain": [
              "array(['BACKGROUND', 'CONCLUSIONS', 'METHODS', 'OBJECTIVE', 'RESULTS'],\n",
              "      dtype=object)"
            ]
          },
          "metadata": {},
          "execution_count": 13
        }
      ]
    },
    {
      "cell_type": "code",
      "source": [
        "train_df[\"target\"].value_counts() / len(train_df)"
      ],
      "metadata": {
        "colab": {
          "base_uri": "https://localhost:8080/"
        },
        "id": "yQ-IzoaSGto3",
        "outputId": "e676c605-315c-4fef-946b-cb9c15cb3823"
      },
      "execution_count": 14,
      "outputs": [
        {
          "output_type": "execute_result",
          "data": {
            "text/plain": [
              "METHODS        0.329666\n",
              "RESULTS        0.321890\n",
              "CONCLUSIONS    0.150900\n",
              "BACKGROUND     0.120679\n",
              "OBJECTIVE      0.076866\n",
              "Name: target, dtype: float64"
            ]
          },
          "metadata": {},
          "execution_count": 14
        }
      ]
    },
    {
      "cell_type": "code",
      "source": [
        "train_df[\"target\"].value_counts().plot(kind=\"barh\");"
      ],
      "metadata": {
        "colab": {
          "base_uri": "https://localhost:8080/",
          "height": 430
        },
        "id": "MgzG6B-L3VtD",
        "outputId": "856d2026-d884-4f7a-84cf-87260a5c9642"
      },
      "execution_count": 15,
      "outputs": [
        {
          "output_type": "display_data",
          "data": {
            "text/plain": [
              "<Figure size 640x480 with 1 Axes>"
            ],
            "image/png": "[encoded data removed]"
          },
          "metadata": {}
        }
      ]
    },
    {
      "cell_type": "code",
      "source": [
        "lengths_of_sentences = [len(sentence.split(\" \")) for sentence in np.array(train_df[\"text\"])]\n",
        "pd.Series(lengths_of_sentences).plot(kind=\"hist\", bins=100)\n",
        "plt.xlabel(\"Number of tokens (words) per sentence\");"
      ],
      "metadata": {
        "colab": {
          "base_uri": "https://localhost:8080/",
          "height": 449
        },
        "id": "nbXl5xK13h8S",
        "outputId": "32a5c95a-8c9e-4c3f-c348-e4488b44319c"
      },
      "execution_count": 16,
      "outputs": [
        {
          "output_type": "display_data",
          "data": {
            "text/plain": [
              "<Figure size 640x480 with 1 Axes>"
            ],
            "image/png": "[encoded data removed]"
          },
          "metadata": {}
        }
      ]
    },
    {
      "cell_type": "code",
      "source": [
        "# Check how some sentence looks like\n",
        "train_df[\"text\"][3].split(\" \")"
      ],
      "metadata": {
        "colab": {
          "base_uri": "https://localhost:8080/"
        },
        "id": "qjKiTF2rKPA7",
        "outputId": "9ecaa09d-abfb-4c18-f483-20ac484db57f"
      },
      "execution_count": 17,
      "outputs": [
        {
          "output_type": "execute_result",
          "data": {
            "text/plain": [
              "['Pain',\n",
              " 'was',\n",
              " 'assessed',\n",
              " 'using',\n",
              " 'the',\n",
              " 'visual',\n",
              " 'analog',\n",
              " 'pain',\n",
              " 'scale',\n",
              " '(',\n",
              " '@-@',\n",
              " 'mm',\n",
              " ')',\n",
              " '.']"
            ]
          },
          "metadata": {},
          "execution_count": 17
        }
      ]
    },
    {
      "cell_type": "code",
      "source": [
        "representative_output_sequence_length = int(np.percentile(lengths_of_sentences, 95))\n",
        "print(representative_output_sequence_length)"
      ],
      "metadata": {
        "colab": {
          "base_uri": "https://localhost:8080/"
        },
        "id": "MGZVAx_yKDL2",
        "outputId": "8891dfea-572a-43fe-bf8c-0390cc3c526d"
      },
      "execution_count": 18,
      "outputs": [
        {
          "output_type": "stream",
          "name": "stdout",
          "text": [
            "55\n"
          ]
        }
      ]
    },
    {
      "cell_type": "markdown",
      "source": [
        "## Extract text and labels from our dataset"
      ],
      "metadata": {
        "id": "rPOaK_ZJth25"
      }
    },
    {
      "cell_type": "code",
      "source": [
        "train_sentences = np.array(train_df[\"text\"])\n",
        "valid_sentences = np.array(valid_df[\"text\"])\n",
        "test_sentences = np.array(test_df[\"text\"])\n",
        "\n",
        "train_labels = np.array(train_df[\"target\"])\n",
        "valid_labels = np.array(valid_df[\"target\"])\n",
        "test_labels = np.array(test_df[\"target\"])\n",
        "\n",
        "train_sentences[:2], valid_labels[:2], test_labels[:2]"
      ],
      "metadata": {
        "colab": {
          "base_uri": "https://localhost:8080/"
        },
        "id": "gAPtdcXnHWDE",
        "outputId": "72b9d2a3-8060-449f-d6f0-078199de26ea"
      },
      "execution_count": 19,
      "outputs": [
        {
          "output_type": "execute_result",
          "data": {
            "text/plain": [
              "(array(['To investigate the efficacy of @ weeks of daily low-dose oral prednisolone in improving pain , mobility , and systemic low-grade inflammation in the short term and whether the effect would be sustained at @ weeks in older adults with moderate to severe knee osteoarthritis ( OA ) .',\n",
              "        'A total of @ patients with primary knee OA were randomized @:@ ; @ received @ mg/day of prednisolone and @ received placebo for @ weeks .'],\n",
              "       dtype=object),\n",
              " array(['BACKGROUND', 'BACKGROUND'], dtype=object),\n",
              " array(['BACKGROUND', 'RESULTS'], dtype=object))"
            ]
          },
          "metadata": {},
          "execution_count": 19
        }
      ]
    },
    {
      "cell_type": "code",
      "source": [
        "NUM_CLASSES = len(np.unique(train_df[\"target\"]))\n",
        "NUM_CLASSES"
      ],
      "metadata": {
        "colab": {
          "base_uri": "https://localhost:8080/"
        },
        "id": "IPdvEmCROeWD",
        "outputId": "cf6ed045-d4d4-43be-d54f-fd2d5d0c8b7b"
      },
      "execution_count": 20,
      "outputs": [
        {
          "output_type": "execute_result",
          "data": {
            "text/plain": [
              "5"
            ]
          },
          "metadata": {},
          "execution_count": 20
        }
      ]
    },
    {
      "cell_type": "markdown",
      "source": [
        "## Preprocessing labels (one-hot-encoding and categorical encoding)"
      ],
      "metadata": {
        "id": "JPKkbCFWHzK4"
      }
    },
    {
      "cell_type": "code",
      "source": [
        "from sklearn.preprocessing import OneHotEncoder, LabelEncoder\n",
        "\n",
        "one_hot_encoder = OneHotEncoder(sparse_output=False)\n",
        "label_encoder = LabelEncoder()\n",
        "\n",
        "# One hot encode labels\n",
        "train_labels_one_hot = one_hot_encoder.fit_transform(train_labels.reshape(-1, 1))\n",
        "valid_labels_one_hot = one_hot_encoder.transform(valid_labels.reshape(-1, 1))\n",
        "test_labels_one_hot = one_hot_encoder.transform(test_labels.reshape(-1, 1))\n",
        "\n",
        "# Encode labels to numbers\n",
        "train_labels_encoded = label_encoder.fit_transform(train_labels)\n",
        "valid_labels_encoded = label_encoder.transform(valid_labels)\n",
        "test_labels_encoded = label_encoder.transform(test_labels)\n",
        "\n",
        "train_labels_one_hot[:2], valid_labels_encoded[:2], test_labels_one_hot[:2]"
      ],
      "metadata": {
        "colab": {
          "base_uri": "https://localhost:8080/"
        },
        "id": "KV059qVnHyy4",
        "outputId": "d83a2387-fc95-4a36-eec3-e47b4eac67f1"
      },
      "execution_count": 21,
      "outputs": [
        {
          "output_type": "execute_result",
          "data": {
            "text/plain": [
              "(array([[0., 0., 0., 1., 0.],\n",
              "        [0., 0., 1., 0., 0.]]),\n",
              " array([0, 0]),\n",
              " array([[1., 0., 0., 0., 0.],\n",
              "        [0., 0., 0., 0., 1.]]))"
            ]
          },
          "metadata": {},
          "execution_count": 21
        }
      ]
    },
    {
      "cell_type": "markdown",
      "source": [
        "# Start running series of experiments"
      ],
      "metadata": {
        "id": "jAF1LLGGHlWG"
      }
    },
    {
      "cell_type": "markdown",
      "source": [
        "## Model 0: baseline"
      ],
      "metadata": {
        "id": "e-yY4UVJHmIk"
      }
    },
    {
      "cell_type": "code",
      "source": [
        "from sklearn.pipeline import Pipeline\n",
        "from sklearn.naive_bayes import MultinomialNB\n",
        "from sklearn.feature_extraction.text import TfidfVectorizer\n",
        "\n",
        "model_0 = Pipeline([\n",
        "    (\"Tf-idf\", TfidfVectorizer()),\n",
        "    (\"Naive-bayes\", MultinomialNB())\n",
        "])\n",
        "\n",
        "model_0.fit(train_sentences,\n",
        "            train_labels_encoded);"
      ],
      "metadata": {
        "id": "4ST6wHBwHneS"
      },
      "execution_count": null,
      "outputs": []
    },
    {
      "cell_type": "markdown",
      "source": [
        "### Evaluate baseline model"
      ],
      "metadata": {
        "id": "lJKka-BkIULy"
      }
    },
    {
      "cell_type": "code",
      "source": [
        "model_0_preds = model_0.predict(valid_sentences)\n",
        "model_0_preds"
      ],
      "metadata": {
        "colab": {
          "base_uri": "https://localhost:8080/"
        },
        "id": "F-H2s5D2JgxW",
        "outputId": "e07d8990-4918-46d8-ec0c-1c20723077c4"
      },
      "execution_count": null,
      "outputs": [
        {
          "output_type": "execute_result",
          "data": {
            "text/plain": [
              "array([4, 1, 3, ..., 4, 4, 1])"
            ]
          },
          "metadata": {},
          "execution_count": 75
        }
      ]
    },
    {
      "cell_type": "code",
      "source": [
        "model_0_results = calculate_results(valid_labels_encoded, model_0_preds)\n",
        "model_0_results"
      ],
      "metadata": {
        "colab": {
          "base_uri": "https://localhost:8080/"
        },
        "id": "yxdHlDNjJx6Z",
        "outputId": "bf10db3b-2aed-42f5-9061-88fa8a159b00"
      },
      "execution_count": null,
      "outputs": [
        {
          "output_type": "execute_result",
          "data": {
            "text/plain": [
              "{'accuracy_score': 0.7218323844829869,\n",
              " 'precision_score': 0.7186466952323352,\n",
              " 'recall_score': 0.7218323844829869,\n",
              " 'f1_score': 0.6989250353450294}"
            ]
          },
          "metadata": {},
          "execution_count": 76
        }
      ]
    },
    {
      "cell_type": "markdown",
      "source": [
        "## Preprocess text using Vectorization and Embddings for deep models"
      ],
      "metadata": {
        "id": "WdwOedTWJRF2"
      }
    },
    {
      "cell_type": "code",
      "source": [
        "VOCAB_SIZE = 68_000 # From original paper\n",
        "\n",
        "token_vectorizer = tf.keras.layers.TextVectorization(max_tokens=VOCAB_SIZE,\n",
        "                                                     output_sequence_length=representative_output_sequence_length)\n",
        "token_embedding = tf.keras.layers.Embedding(input_dim=VOCAB_SIZE,\n",
        "                                            output_dim=256, # 300 is an original number from the paper\n",
        "                                            mask_zero=True, # For efficiency\n",
        "                                            input_length=representative_output_sequence_length)\n",
        "token_vectorizer.adapt(train_sentences)"
      ],
      "metadata": {
        "id": "qEiNRCBzJSxn"
      },
      "execution_count": 22,
      "outputs": []
    },
    {
      "cell_type": "markdown",
      "source": [
        "## Create efficient pipelines using tf.data API"
      ],
      "metadata": {
        "id": "f9P9REW9JYkX"
      }
    },
    {
      "cell_type": "code",
      "source": [
        "BATCH_SIZE = 32\n",
        "\n",
        "def create_dataset(X, y, batch_size=BATCH_SIZE):\n",
        "  dataset = tf.data.Dataset.from_tensor_slices((X, y)).cache()\n",
        "  return  dataset.batch(batch_size).prefetch(tf.data.AUTOTUNE)"
      ],
      "metadata": {
        "id": "O6K09oAR1iUW"
      },
      "execution_count": 23,
      "outputs": []
    },
    {
      "cell_type": "code",
      "source": [
        "train_token_dataset = create_dataset(train_sentences, train_labels_one_hot)\n",
        "valid_token_dataset = create_dataset(valid_sentences, valid_labels_one_hot)\n",
        "test_token_dataset = create_dataset(test_sentences, test_labels_one_hot)\n",
        "# Check if worked\n",
        "train_token_dataset"
      ],
      "metadata": {
        "colab": {
          "base_uri": "https://localhost:8080/"
        },
        "id": "0QDz3t631-O8",
        "outputId": "299c499f-698f-4175-cecf-a5a1970d2c1b"
      },
      "execution_count": 24,
      "outputs": [
        {
          "output_type": "execute_result",
          "data": {
            "text/plain": [
              "<_PrefetchDataset element_spec=(TensorSpec(shape=(None,), dtype=tf.string, name=None), TensorSpec(shape=(None, 5), dtype=tf.float64, name=None))>"
            ]
          },
          "metadata": {},
          "execution_count": 24
        }
      ]
    },
    {
      "cell_type": "markdown",
      "source": [
        "## Model 1: Conv1D"
      ],
      "metadata": {
        "id": "tMkfIUm4Noum"
      }
    },
    {
      "cell_type": "code",
      "source": [
        "model_1_inputs = tf.keras.layers.Input(shape=[1,], dtype=tf.string)\n",
        "x = token_vectorizer(model_1_inputs)\n",
        "x = token_embedding(x)\n",
        "x = tf.keras.layers.Conv1D(filters=128, kernel_size=5, padding=\"same\")(x)\n",
        "x = tf.keras.layers.GlobalMaxPooling1D()(x)\n",
        "x = tf.keras.layers.Dense(128, activation=\"swish\",\n",
        "                          kernel_initializer=\"he_normal\")(x)\n",
        "model_1_outputs = tf.keras.layers.Dense(NUM_CLASSES, activation=\"softmax\")(x)\n",
        "model_1 = tf.keras.Model(model_1_inputs, model_1_outputs)\n",
        "model_1.summary()"
      ],
      "metadata": {
        "colab": {
          "base_uri": "https://localhost:8080/"
        },
        "id": "9jIwYFfWN4WU",
        "outputId": "dd7723ce-57fd-4048-b542-3a9e6e26a566"
      },
      "execution_count": null,
      "outputs": [
        {
          "output_type": "stream",
          "name": "stdout",
          "text": [
            "Model: \"model_3\"\n",
            "_________________________________________________________________\n",
            " Layer (type)                Output Shape              Param #   \n",
            "=================================================================\n",
            " input_1 (InputLayer)        [(None, 1)]               0         \n",
            "                                                                 \n",
            " text_vectorization (TextVec  (None, 55)               0         \n",
            " torization)                                                     \n",
            "                                                                 \n",
            " embedding (Embedding)       (None, 55, 256)           17408000  \n",
            "                                                                 \n",
            " conv1d (Conv1D)             (None, 55, 128)           163968    \n",
            "                                                                 \n",
            " global_max_pooling1d (Globa  (None, 128)              0         \n",
            " lMaxPooling1D)                                                  \n",
            "                                                                 \n",
            " dense_2 (Dense)             (None, 128)               16512     \n",
            "                                                                 \n",
            " dense_3 (Dense)             (None, 5)                 645       \n",
            "                                                                 \n",
            "=================================================================\n",
            "Total params: 17,589,125\n",
            "Trainable params: 17,589,125\n",
            "Non-trainable params: 0\n",
            "_________________________________________________________________\n"
          ]
        }
      ]
    },
    {
      "cell_type": "markdown",
      "source": [
        "### Compile & train model_1"
      ],
      "metadata": {
        "id": "uFKcqLw4O9iJ"
      }
    },
    {
      "cell_type": "code",
      "source": [
        "model_1.compile(loss=tf.keras.losses.categorical_crossentropy,\n",
        "                optimizer=tf.keras.optimizers.AdamW(),\n",
        "                metrics=[\"accuracy\"])\n",
        "# Train a model\n",
        "history_1 = model_1.fit(train_token_dataset,\n",
        "                        epochs=5,\n",
        "                        steps_per_epoch=int(0.1 * len(train_token_dataset)),\n",
        "                        validation_data=(valid_token_dataset),\n",
        "                        validation_steps=int(0.1 * len(valid_token_dataset)))"
      ],
      "metadata": {
        "colab": {
          "base_uri": "https://localhost:8080/"
        },
        "id": "z6EVOKiTO_75",
        "outputId": "e8f855f4-73a2-461d-c905-37b94aa2a906"
      },
      "execution_count": null,
      "outputs": [
        {
          "output_type": "stream",
          "name": "stdout",
          "text": [
            "Epoch 1/5\n",
            "562/562 [==============================] - 33s 56ms/step - loss: 0.7506 - accuracy: 0.7086 - val_loss: 0.5584 - val_accuracy: 0.7982\n",
            "Epoch 2/5\n",
            "562/562 [==============================] - 11s 20ms/step - loss: 0.5626 - accuracy: 0.7928 - val_loss: 0.5381 - val_accuracy: 0.8042\n",
            "Epoch 3/5\n",
            "562/562 [==============================] - 8s 14ms/step - loss: 0.5309 - accuracy: 0.8041 - val_loss: 0.5024 - val_accuracy: 0.8185\n",
            "Epoch 4/5\n",
            "562/562 [==============================] - 7s 13ms/step - loss: 0.5131 - accuracy: 0.8104 - val_loss: 0.5062 - val_accuracy: 0.8049\n",
            "Epoch 5/5\n",
            "562/562 [==============================] - 8s 14ms/step - loss: 0.5212 - accuracy: 0.8073 - val_loss: 0.4894 - val_accuracy: 0.8225\n"
          ]
        }
      ]
    },
    {
      "cell_type": "markdown",
      "source": [
        "### Evaluate model_1"
      ],
      "metadata": {
        "id": "FPKFgy0XOrjS"
      }
    },
    {
      "cell_type": "code",
      "source": [
        "model_1_preds_probs = model_1.predict(valid_sentences)\n",
        "model_1_preds = np.argmax(model_1_preds_probs, axis=-1)\n",
        "model_1_results = calculate_results(valid_labels_encoded, model_1_preds)\n",
        "model_1_results"
      ],
      "metadata": {
        "colab": {
          "base_uri": "https://localhost:8080/"
        },
        "id": "IVNJl8xlOttw",
        "outputId": "02b70c1d-2e08-4734-8588-d85200628b7f"
      },
      "execution_count": null,
      "outputs": [
        {
          "output_type": "stream",
          "name": "stdout",
          "text": [
            "945/945 [==============================] - 4s 4ms/step\n"
          ]
        },
        {
          "output_type": "execute_result",
          "data": {
            "text/plain": [
              "{'accuracy_score': 0.8142459949688865,\n",
              " 'precision_score': 0.8262645843953871,\n",
              " 'recall_score': 0.8142459949688865,\n",
              " 'f1_score': 0.8131966066564843}"
            ]
          },
          "metadata": {},
          "execution_count": 82
        }
      ]
    },
    {
      "cell_type": "markdown",
      "source": [
        "## Model 2: LSTM (long-short term memory)"
      ],
      "metadata": {
        "id": "37TraiDsRZVW"
      }
    },
    {
      "cell_type": "code",
      "source": [
        "model_2_inputs = tf.keras.layers.Input(shape=[1,], dtype=tf.string)\n",
        "x = token_vectorizer(model_2_inputs)\n",
        "x = token_embedding(x)\n",
        "x = tf.keras.layers.LSTM(units=64)(x)\n",
        "model_2_outputs = tf.keras.layers.Dense(NUM_CLASSES, activation=\"softmax\")(x)\n",
        "model_2 = tf.keras.Model(model_2_inputs, model_2_outputs)\n",
        "model_2.summary()"
      ],
      "metadata": {
        "colab": {
          "base_uri": "https://localhost:8080/"
        },
        "id": "e8gMwR4ORltK",
        "outputId": "791a27c6-aaf7-4573-d2b9-79d6ce569660"
      },
      "execution_count": null,
      "outputs": [
        {
          "output_type": "stream",
          "name": "stdout",
          "text": [
            "Model: \"model_4\"\n",
            "_________________________________________________________________\n",
            " Layer (type)                Output Shape              Param #   \n",
            "=================================================================\n",
            " input_2 (InputLayer)        [(None, 1)]               0         \n",
            "                                                                 \n",
            " text_vectorization (TextVec  (None, 55)               0         \n",
            " torization)                                                     \n",
            "                                                                 \n",
            " embedding (Embedding)       (None, 55, 256)           17408000  \n",
            "                                                                 \n",
            " lstm_1 (LSTM)               (None, 64)                82176     \n",
            "                                                                 \n",
            " dense_4 (Dense)             (None, 5)                 325       \n",
            "                                                                 \n",
            "=================================================================\n",
            "Total params: 17,490,501\n",
            "Trainable params: 17,490,501\n",
            "Non-trainable params: 0\n",
            "_________________________________________________________________\n"
          ]
        }
      ]
    },
    {
      "cell_type": "markdown",
      "source": [
        "### Compile and train model_2"
      ],
      "metadata": {
        "id": "4vVBdviZSTIV"
      }
    },
    {
      "cell_type": "code",
      "source": [
        "model_2.compile(loss=tf.keras.losses.categorical_crossentropy,\n",
        "                optimizer=tf.keras.optimizers.AdamW(),\n",
        "                metrics=[\"accuracy\"])\n",
        "# Train a model\n",
        "history_2 = model_2.fit(train_token_dataset,\n",
        "                        epochs=5,\n",
        "                        steps_per_epoch=int(0.1 * len(train_token_dataset)),\n",
        "                        validation_data=(valid_token_dataset),\n",
        "                        validation_steps=int(0.1 * len(valid_token_dataset)))"
      ],
      "metadata": {
        "colab": {
          "base_uri": "https://localhost:8080/"
        },
        "id": "oxG7jrW2Saph",
        "outputId": "11bb5109-ef21-421d-a7d3-490539752ce9"
      },
      "execution_count": null,
      "outputs": [
        {
          "output_type": "stream",
          "name": "stdout",
          "text": [
            "Epoch 1/5\n",
            "562/562 [==============================] - 39s 62ms/step - loss: 0.6511 - accuracy: 0.7575 - val_loss: 0.6014 - val_accuracy: 0.7806\n",
            "Epoch 2/5\n",
            "562/562 [==============================] - 17s 30ms/step - loss: 0.5134 - accuracy: 0.8172 - val_loss: 0.6017 - val_accuracy: 0.7723\n",
            "Epoch 3/5\n",
            "562/562 [==============================] - 19s 34ms/step - loss: 0.4856 - accuracy: 0.8252 - val_loss: 0.5499 - val_accuracy: 0.7959\n",
            "Epoch 4/5\n",
            "562/562 [==============================] - 18s 33ms/step - loss: 0.4668 - accuracy: 0.8330 - val_loss: 0.5337 - val_accuracy: 0.8055\n",
            "Epoch 5/5\n",
            "562/562 [==============================] - 11s 20ms/step - loss: 0.4726 - accuracy: 0.8314 - val_loss: 0.5178 - val_accuracy: 0.8098\n"
          ]
        }
      ]
    },
    {
      "cell_type": "markdown",
      "source": [
        "### Evaluate model_2"
      ],
      "metadata": {
        "id": "uq1HFO_iSr9C"
      }
    },
    {
      "cell_type": "code",
      "source": [
        "model_2_preds_probs = model_2.predict(valid_sentences)\n",
        "model_2_preds = np.argmax(model_2_preds_probs, axis=-1)\n",
        "model_2_results = calculate_results(valid_labels_encoded, model_2_preds)\n",
        "model_2_results"
      ],
      "metadata": {
        "colab": {
          "base_uri": "https://localhost:8080/"
        },
        "id": "UVcesGkxSuIS",
        "outputId": "07945bb6-17c5-4739-87cf-f3de624928b1"
      },
      "execution_count": null,
      "outputs": [
        {
          "output_type": "stream",
          "name": "stdout",
          "text": [
            "945/945 [==============================] - 6s 5ms/step\n"
          ]
        },
        {
          "output_type": "execute_result",
          "data": {
            "text/plain": [
              "{'accuracy_score': 0.8067655236329935,\n",
              " 'precision_score': 0.8100327539066503,\n",
              " 'recall_score': 0.8067655236329935,\n",
              " 'f1_score': 0.8053774902969707}"
            ]
          },
          "metadata": {},
          "execution_count": 85
        }
      ]
    },
    {
      "cell_type": "markdown",
      "source": [
        "## Model_3: pretrained embeddings from TensorFlow Hub"
      ],
      "metadata": {
        "id": "Dr-w0THzTL8t"
      }
    },
    {
      "cell_type": "code",
      "source": [
        "import tensorflow_hub as hub"
      ],
      "metadata": {
        "id": "Sk39qYU3TSXY"
      },
      "execution_count": null,
      "outputs": []
    },
    {
      "cell_type": "markdown",
      "source": [
        "**Note:** the Universal Sentence Encoder encodes text into high-dimensional vectors that can be used for text classification, semantic similarity, clustering and other natural language tasks."
      ],
      "metadata": {
        "id": "D7EUFWMgT3j8"
      }
    },
    {
      "cell_type": "code",
      "source": [
        "USE_url = \"https://tfhub.dev/google/universal-sentence-encoder/4\"\n",
        "pretrained_embeddings_tf_hub_layer = hub.KerasLayer(USE_url, name=\"Universal_sentence_encoder_TF_HUB\")"
      ],
      "metadata": {
        "id": "lFPx3mnwTT_q"
      },
      "execution_count": null,
      "outputs": []
    },
    {
      "cell_type": "code",
      "source": [
        "model_3_inputs = tf.keras.layers.Input(shape=[], dtype=tf.string)\n",
        "x = pretrained_embeddings_tf_hub_layer(model_3_inputs)\n",
        "x = tf.keras.layers.Dense(128, activation=\"swish\",\n",
        "                          kernel_initializer=\"he_normal\")(x)\n",
        "model_3_outputs = tf.keras.layers.Dense(NUM_CLASSES, activation=\"softmax\")(x)\n",
        "model_3 = tf.keras.Model(model_3_inputs, model_3_outputs)\n",
        "model_3.summary()"
      ],
      "metadata": {
        "colab": {
          "base_uri": "https://localhost:8080/"
        },
        "id": "O9l5DQnZTwxI",
        "outputId": "f790c521-f2e6-4944-d3e5-9138bddd1544"
      },
      "execution_count": null,
      "outputs": [
        {
          "output_type": "stream",
          "name": "stdout",
          "text": [
            "Model: \"model_5\"\n",
            "_________________________________________________________________\n",
            " Layer (type)                Output Shape              Param #   \n",
            "=================================================================\n",
            " input_3 (InputLayer)        [(None,)]                 0         \n",
            "                                                                 \n",
            " Universal_sentence_encoder_  (None, 512)              256797824 \n",
            " TF_HUB (KerasLayer)                                             \n",
            "                                                                 \n",
            " dense_5 (Dense)             (None, 128)               65664     \n",
            "                                                                 \n",
            " dense_6 (Dense)             (None, 5)                 645       \n",
            "                                                                 \n",
            "=================================================================\n",
            "Total params: 256,864,133\n",
            "Trainable params: 66,309\n",
            "Non-trainable params: 256,797,824\n",
            "_________________________________________________________________\n"
          ]
        }
      ]
    },
    {
      "cell_type": "markdown",
      "source": [
        "### Compile and train model_3"
      ],
      "metadata": {
        "id": "RMKdcrSxUAKP"
      }
    },
    {
      "cell_type": "code",
      "source": [
        "model_3.compile(loss=tf.keras.losses.categorical_crossentropy,\n",
        "                optimizer=tf.keras.optimizers.AdamW(),\n",
        "                metrics=[\"accuracy\"])\n",
        "# Train a model\n",
        "history_3 = model_3.fit(train_token_dataset,\n",
        "                        epochs=5,\n",
        "                        steps_per_epoch=int(0.1 * len(train_token_dataset)),\n",
        "                        validation_data=(valid_token_dataset),\n",
        "                        validation_steps=int(0.1 * len(valid_token_dataset)))"
      ],
      "metadata": {
        "colab": {
          "base_uri": "https://localhost:8080/"
        },
        "id": "D5tcX6cpUrVS",
        "outputId": "cc9b4cfe-4235-443d-b5ab-2e79e8c4c7d3"
      },
      "execution_count": null,
      "outputs": [
        {
          "output_type": "stream",
          "name": "stdout",
          "text": [
            "Epoch 1/5\n",
            "562/562 [==============================] - 12s 16ms/step - loss: 0.9404 - accuracy: 0.6422 - val_loss: 0.8088 - val_accuracy: 0.6885\n",
            "Epoch 2/5\n",
            "562/562 [==============================] - 10s 17ms/step - loss: 0.7848 - accuracy: 0.6941 - val_loss: 0.7784 - val_accuracy: 0.6955\n",
            "Epoch 3/5\n",
            "562/562 [==============================] - 7s 13ms/step - loss: 0.7814 - accuracy: 0.7004 - val_loss: 0.7770 - val_accuracy: 0.7011\n",
            "Epoch 4/5\n",
            "562/562 [==============================] - 9s 16ms/step - loss: 0.7590 - accuracy: 0.7063 - val_loss: 0.7638 - val_accuracy: 0.7078\n",
            "Epoch 5/5\n",
            "562/562 [==============================] - 8s 14ms/step - loss: 0.7800 - accuracy: 0.6997 - val_loss: 0.7544 - val_accuracy: 0.7091\n"
          ]
        }
      ]
    },
    {
      "cell_type": "markdown",
      "source": [
        "### Evaluate model_3"
      ],
      "metadata": {
        "id": "-SawZGLRU45P"
      }
    },
    {
      "cell_type": "code",
      "source": [
        "model_3_preds_probs = model_3.predict(valid_sentences)\n",
        "model_3_preds = np.argmax(model_3_preds_probs, axis=-1)\n",
        "model_3_results = calculate_results(valid_labels_encoded, model_3_preds)\n",
        "model_3_results"
      ],
      "metadata": {
        "colab": {
          "base_uri": "https://localhost:8080/"
        },
        "id": "d--0_DzvU7Fi",
        "outputId": "902d938f-6a07-4f56-aa70-b2eea95080e5"
      },
      "execution_count": null,
      "outputs": [
        {
          "output_type": "stream",
          "name": "stdout",
          "text": [
            "945/945 [==============================] - 10s 10ms/step\n"
          ]
        },
        {
          "output_type": "execute_result",
          "data": {
            "text/plain": [
              "{'accuracy_score': 0.711306765523633,\n",
              " 'precision_score': 0.7073758348330992,\n",
              " 'recall_score': 0.711306765523633,\n",
              " 'f1_score': 0.7056078390808834}"
            ]
          },
          "metadata": {},
          "execution_count": 90
        }
      ]
    },
    {
      "cell_type": "markdown",
      "source": [
        "## Character embeddings\n",
        "\n",
        "Previously we used token(word) embeddings to train our models. Now we are going to try character embeddings, so instead of splitting our sentences by entire words we are going to split them by letters.\n",
        "\n",
        "Example text:*kursywa* \"Hello friends. \"\n",
        "\n",
        ">* Token embeddings: [\"Hello\", \"friends\", \".\"].\n",
        "* Characeter embeddings: [\"H\", \"e\", \"l\", \"l\", \"o\", \"f\", \"r\", \"i\", \"e\", \"n\", \"d\", \"s\", \".\"]"
      ],
      "metadata": {
        "id": "9KUZhjbFVWur"
      }
    },
    {
      "cell_type": "code",
      "source": [
        "def split_sentence_into_characters(sentence):\n",
        "  return \" \".join(list(sentence))\n",
        "\n",
        "# Check of our function is working\n",
        "some_sentence = train_sentences[1]\n",
        "split_sentence_into_characters(some_sentence)"
      ],
      "metadata": {
        "colab": {
          "base_uri": "https://localhost:8080/",
          "height": 70
        },
        "id": "YrfdZ6xHWku2",
        "outputId": "4a84dcb9-c8bf-4aaa-e626-e82bd1fe6ac3"
      },
      "execution_count": null,
      "outputs": [
        {
          "output_type": "execute_result",
          "data": {
            "text/plain": [
              "'A   t o t a l   o f   @   p a t i e n t s   w i t h   p r i m a r y   k n e e   O A   w e r e   r a n d o m i z e d   @ : @   ;   @   r e c e i v e d   @   m g / d a y   o f   p r e d n i s o l o n e   a n d   @   r e c e i v e d   p l a c e b o   f o r   @   w e e k s   .'"
            ],
            "application/vnd.google.colaboratory.intrinsic+json": {
              "type": "string"
            }
          },
          "metadata": {},
          "execution_count": 30
        }
      ]
    },
    {
      "cell_type": "code",
      "source": [
        "char_train_sentences = [split_sentence_into_characters(sentence) for sentence in train_sentences]\n",
        "char_valid_sentences = [split_sentence_into_characters(sentence) for sentence in valid_sentences]\n",
        "char_test_sentences = [split_sentence_into_characters(sentence) for sentence in test_sentences]\n",
        "# Check if it worked\n",
        "char_test_sentences[:2]"
      ],
      "metadata": {
        "colab": {
          "base_uri": "https://localhost:8080/"
        },
        "id": "FCc38si6Wu-K",
        "outputId": "54ce8016-68f8-4e8d-d8b3-b705b672f9df"
      },
      "execution_count": null,
      "outputs": [
        {
          "output_type": "execute_result",
          "data": {
            "text/plain": [
              "['T h i s   s t u d y   a n a l y z e d   l i v e r   f u n c t i o n   a b n o r m a l i t i e s   i n   h e a r t   f a i l u r e   p a t i e n t s   a d m i t t e d   w i t h   s e v e r e   a c u t e   d e c o m p e n s a t e d   h e a r t   f a i l u r e   (   A D H F   )   .',\n",
              " 'A   p o s t   h o c   a n a l y s i s   w a s   c o n d u c t e d   w i t h   t h e   u s e   o f   d a t a   f r o m   t h e   E v a l u a t i o n   S t u d y   o f   C o n g e s t i v e   H e a r t   F a i l u r e   a n d   P u l m o n a r y   A r t e r y   C a t h e t e r i z a t i o n   E f f e c t i v e n e s s   (   E S C A P E   )   .']"
            ]
          },
          "metadata": {},
          "execution_count": 31
        }
      ]
    },
    {
      "cell_type": "markdown",
      "source": [
        "### Create efficient data pipelines for character embeddings"
      ],
      "metadata": {
        "id": "q-xRP_t6ZUps"
      }
    },
    {
      "cell_type": "code",
      "source": [
        "char_train_dataset = create_dataset(char_train_sentences, train_labels_one_hot)\n",
        "char_valid_dataset = create_dataset(char_valid_sentences, valid_labels_one_hot)\n",
        "char_test_dataset = create_dataset(char_test_sentences, test_labels_one_hot)\n",
        "# Check if our dataset are correct\n",
        "char_train_dataset, char_test_dataset"
      ],
      "metadata": {
        "colab": {
          "base_uri": "https://localhost:8080/"
        },
        "id": "YhCNLCoJaL_O",
        "outputId": "c9c7e980-496b-4907-96cb-6db89c708cde"
      },
      "execution_count": null,
      "outputs": [
        {
          "output_type": "execute_result",
          "data": {
            "text/plain": [
              "(<_PrefetchDataset element_spec=(TensorSpec(shape=(None,), dtype=tf.string, name=None), TensorSpec(shape=(None, 5), dtype=tf.float64, name=None))>,\n",
              " <_PrefetchDataset element_spec=(TensorSpec(shape=(None,), dtype=tf.string, name=None), TensorSpec(shape=(None, 5), dtype=tf.float64, name=None))>)"
            ]
          },
          "metadata": {},
          "execution_count": 32
        }
      ]
    },
    {
      "cell_type": "markdown",
      "source": [
        "### Creating character vectorizer and embedding layers"
      ],
      "metadata": {
        "id": "nT_VBrFsa7bP"
      }
    },
    {
      "cell_type": "code",
      "source": [
        "# Use string python module to get all keyboard letters\n",
        "import string\n",
        "\n",
        "alphabet = string.ascii_lowercase + string.punctuation + string.digits\n",
        "CHAR_VOCAB_SIZE = len(alphabet) + 2 # We add one for spaces and one for OOV\n",
        "print(f\"Alphabet: {alphabet}\\nLength of an alphabeth: {CHAR_VOCAB_SIZE}\")"
      ],
      "metadata": {
        "colab": {
          "base_uri": "https://localhost:8080/"
        },
        "id": "_P6Z-KQwbD1n",
        "outputId": "27808dab-9522-4ce9-91dc-8e147ce81cb3"
      },
      "execution_count": null,
      "outputs": [
        {
          "output_type": "stream",
          "name": "stdout",
          "text": [
            "Alphabet: abcdefghijklmnopqrstuvwxyz!\"#$%&'()*+,-./:;<=>?@[\\]^_`{|}~0123456789\n",
            "Length of an alphabeth: 70\n"
          ]
        }
      ]
    },
    {
      "cell_type": "code",
      "source": [
        "char_sequences_lengths = [len(sentence.split()) for sentence in char_train_sentences]\n",
        "char_sequences_means = np.mean(char_sequences_lengths)\n",
        "char_sequences_means"
      ],
      "metadata": {
        "colab": {
          "base_uri": "https://localhost:8080/"
        },
        "id": "14vHMVZ_cDmP",
        "outputId": "a38cf3c3-232a-47a8-f035-123675243d8e"
      },
      "execution_count": null,
      "outputs": [
        {
          "output_type": "execute_result",
          "data": {
            "text/plain": [
              "124.02798822483892"
            ]
          },
          "metadata": {},
          "execution_count": 34
        }
      ]
    },
    {
      "cell_type": "code",
      "source": [
        "# Visualize above lengths\n",
        "pd.Series(char_sequences_lengths).plot(kind=\"hist\", bins=100)\n",
        "plt.xlabel(\"Number of letters in a sequence\");"
      ],
      "metadata": {
        "colab": {
          "base_uri": "https://localhost:8080/",
          "height": 449
        },
        "id": "jWP5oEYvcoJx",
        "outputId": "a716764d-1390-4c77-99c6-793c2e3d9cc8"
      },
      "execution_count": null,
      "outputs": [
        {
          "output_type": "display_data",
          "data": {
            "text/plain": [
              "<Figure size 640x480 with 1 Axes>"
            ],
            "image/png": "[encoded data removed]"
          },
          "metadata": {}
        }
      ]
    },
    {
      "cell_type": "code",
      "source": [
        "representative_number_of_chars = int(np.percentile(char_sequences_lengths, 98))\n",
        "representative_number_of_chars"
      ],
      "metadata": {
        "colab": {
          "base_uri": "https://localhost:8080/"
        },
        "id": "kgnQZFmecxnI",
        "outputId": "7004d52b-a283-4b81-9f64-85d3436ea0fc"
      },
      "execution_count": null,
      "outputs": [
        {
          "output_type": "execute_result",
          "data": {
            "text/plain": [
              "285"
            ]
          },
          "metadata": {},
          "execution_count": 36
        }
      ]
    },
    {
      "cell_type": "code",
      "source": [
        "char_text_vectorizer = tf.keras.layers.TextVectorization(max_tokens=CHAR_VOCAB_SIZE,\n",
        "                                                      output_sequence_length=representative_number_of_chars)\n",
        "char_embedding = tf.keras.layers.Embedding(input_dim=CHAR_VOCAB_SIZE,\n",
        "                                           output_dim=25,\n",
        "                                           mask_zero=True,\n",
        "                                           input_length=representative_number_of_chars)\n",
        "# Call vectorizer adapt method\n",
        "char_text_vectorizer.adapt(char_train_sentences)"
      ],
      "metadata": {
        "id": "FpLj8GkxbpSh"
      },
      "execution_count": null,
      "outputs": []
    },
    {
      "cell_type": "markdown",
      "source": [
        "## Model 4: character embeddings with bidirectional layer"
      ],
      "metadata": {
        "id": "OwHAvB8YaftI"
      }
    },
    {
      "cell_type": "code",
      "source": [
        "model_4_inputs = tf.keras.layers.Input(shape=[1,], dtype=tf.string)\n",
        "x = char_text_vectorizer(model_4_inputs)\n",
        "x = char_embedding(x)\n",
        "x = tf.keras.layers.Bidirectional(layer=tf.keras.layers.LSTM(units=256))(x)\n",
        "x = tf.keras.layers.Dense(128, activation=\"relu\",\n",
        "                          kernel_initializer=\"he_normal\")(x)\n",
        "model_4_outputs = tf.keras.layers.Dense(NUM_CLASSES, activation=\"softmax\")(x)\n",
        "model_4 = tf.keras.Model(model_4_inputs, model_4_outputs)\n",
        "model_4.summary()"
      ],
      "metadata": {
        "colab": {
          "base_uri": "https://localhost:8080/"
        },
        "id": "Sjbtj9-vamlJ",
        "outputId": "040e5575-d7e1-4622-fe74-53ae89168ed1"
      },
      "execution_count": null,
      "outputs": [
        {
          "output_type": "stream",
          "name": "stdout",
          "text": [
            "Model: \"model_6\"\n",
            "_________________________________________________________________\n",
            " Layer (type)                Output Shape              Param #   \n",
            "=================================================================\n",
            " input_4 (InputLayer)        [(None, 1)]               0         \n",
            "                                                                 \n",
            " text_vectorization_1 (TextV  (None, 285)              0         \n",
            " ectorization)                                                   \n",
            "                                                                 \n",
            " embedding_1 (Embedding)     (None, 285, 25)           1750      \n",
            "                                                                 \n",
            " bidirectional_1 (Bidirectio  (None, 512)              577536    \n",
            " nal)                                                            \n",
            "                                                                 \n",
            " dense_7 (Dense)             (None, 128)               65664     \n",
            "                                                                 \n",
            " dense_8 (Dense)             (None, 5)                 645       \n",
            "                                                                 \n",
            "=================================================================\n",
            "Total params: 645,595\n",
            "Trainable params: 645,595\n",
            "Non-trainable params: 0\n",
            "_________________________________________________________________\n"
          ]
        }
      ]
    },
    {
      "cell_type": "markdown",
      "source": [
        "### Compile and train model_4"
      ],
      "metadata": {
        "id": "IqFqxKLLeaph"
      }
    },
    {
      "cell_type": "code",
      "source": [
        "model_4.compile(loss=tf.keras.losses.categorical_crossentropy,\n",
        "                optimizer=tf.keras.optimizers.AdamW(),\n",
        "                metrics=[\"accuracy\"])\n",
        "# Train a model\n",
        "history_4 = model_4.fit(char_train_dataset,\n",
        "                        epochs=5,\n",
        "                        steps_per_epoch=int(0.1 * len(char_train_dataset)),\n",
        "                        validation_data=(char_valid_dataset),\n",
        "                        validation_steps=int(0.1 * len(char_valid_dataset)))"
      ],
      "metadata": {
        "colab": {
          "base_uri": "https://localhost:8080/"
        },
        "id": "14c-nVTdemmc",
        "outputId": "9807a5af-b28d-4291-fc30-00068b0c1bcb"
      },
      "execution_count": null,
      "outputs": [
        {
          "output_type": "stream",
          "name": "stdout",
          "text": [
            "Epoch 1/5\n",
            "562/562 [==============================] - 37s 51ms/step - loss: 1.3661 - accuracy: 0.4207 - val_loss: 1.2762 - val_accuracy: 0.4781\n",
            "Epoch 2/5\n",
            "562/562 [==============================] - 26s 45ms/step - loss: 1.2113 - accuracy: 0.4931 - val_loss: 1.1706 - val_accuracy: 0.5206\n",
            "Epoch 3/5\n",
            "562/562 [==============================] - 24s 43ms/step - loss: 1.1698 - accuracy: 0.5209 - val_loss: 1.1771 - val_accuracy: 0.5120\n",
            "Epoch 4/5\n",
            "562/562 [==============================] - 26s 47ms/step - loss: 1.0907 - accuracy: 0.5474 - val_loss: 1.0555 - val_accuracy: 0.5648\n",
            "Epoch 5/5\n",
            "562/562 [==============================] - 24s 43ms/step - loss: 1.0782 - accuracy: 0.5560 - val_loss: 1.0303 - val_accuracy: 0.5718\n"
          ]
        }
      ]
    },
    {
      "cell_type": "markdown",
      "source": [
        "### Evaluate model_4"
      ],
      "metadata": {
        "id": "-zpd_grTempd"
      }
    },
    {
      "cell_type": "code",
      "source": [
        "model_4_preds_probs = model_4.predict(char_valid_sentences)\n",
        "model_4_preds = np.argmax(model_4_preds_probs, axis=-1)\n",
        "model_4_results = calculate_results(valid_labels_encoded, model_4_preds)\n",
        "model_4_results"
      ],
      "metadata": {
        "colab": {
          "base_uri": "https://localhost:8080/"
        },
        "id": "FjHG6XR6epy5",
        "outputId": "37bf9045-77d3-4190-8a42-36e77482d663"
      },
      "execution_count": null,
      "outputs": [
        {
          "output_type": "stream",
          "name": "stdout",
          "text": [
            "945/945 [==============================] - 15s 14ms/step\n"
          ]
        },
        {
          "output_type": "execute_result",
          "data": {
            "text/plain": [
              "{'accuracy_score': 0.5811598040513704,\n",
              " 'precision_score': 0.5955406424394569,\n",
              " 'recall_score': 0.5811598040513704,\n",
              " 'f1_score': 0.5744679259244583}"
            ]
          },
          "metadata": {},
          "execution_count": 101
        }
      ]
    },
    {
      "cell_type": "markdown",
      "source": [
        "## Model 5: replicating original model from the paper"
      ],
      "metadata": {
        "id": "smkfLyCHez_L"
      }
    },
    {
      "cell_type": "code",
      "source": [
        "# Clear keras backend and make our code reproducible\n",
        "tf.random.set_seed(42)\n",
        "tf.keras.backend.clear_session()\n",
        "\n",
        "# Create char model\n",
        "char_inputs = tf.keras.layers.Input(shape=[1,], dtype=tf.string, name=\"char_input\")\n",
        "char_vectorizer = char_text_vectorizer(char_inputs)\n",
        "char_embeddings = char_embedding(char_vectorizer)\n",
        "char_bi_lstm = tf.keras.layers.Bidirectional(layer=tf.keras.layers.LSTM(units=64))(char_embeddings)\n",
        "char_model = tf.keras.Model(char_inputs, char_bi_lstm)\n",
        "\n",
        "# Create token model\n",
        "token_inputs = tf.keras.layers.Input(shape=[], dtype=tf.string, name=\"token_input\")\n",
        "token_embedded = pretrained_embeddings_tf_hub_layer(token_inputs)\n",
        "token_outputs = tf.keras.layers.Dense(256, activation=\"relu\",\n",
        "                                      kernel_initializer=\"he_normal\")(token_embedded)\n",
        "token_model = tf.keras.Model(token_inputs, token_outputs)\n",
        "\n",
        "# Concatenate 2 above models\n",
        "hybrid_embeddings = tf.keras.layers.Concatenate()([char_model.output, token_model.output])\n",
        "\n",
        "# Add another droput and dense layers on top\n",
        "dropout_1 = tf.keras.layers.Dropout(0.5)(hybrid_embeddings)\n",
        "hybrid_dense_1 = tf.keras.layers.Dense(256, activation=\"relu\",\n",
        "                                      kernel_initializer=\"he_normal\")(dropout_1)\n",
        "dropout_2 = tf.keras.layers.Dropout(0.5)(hybrid_dense_1)\n",
        "hybrid_outputs = tf.keras.layers.Dense(NUM_CLASSES, activation=\"softmax\", name=\"final_output\")(dropout_2)\n",
        "\n",
        "# Construct final model\n",
        "model_5 = tf.keras.Model(inputs=[char_inputs, token_inputs], outputs=hybrid_outputs)\n",
        "model_5.summary()"
      ],
      "metadata": {
        "colab": {
          "base_uri": "https://localhost:8080/"
        },
        "id": "nQK8HP3he6Hm",
        "outputId": "dec23fc5-b9a3-4b36-dfcb-58335fe4aa22"
      },
      "execution_count": null,
      "outputs": [
        {
          "output_type": "stream",
          "name": "stdout",
          "text": [
            "Model: \"model_2\"\n",
            "__________________________________________________________________________________________________\n",
            " Layer (type)                   Output Shape         Param #     Connected to                     \n",
            "==================================================================================================\n",
            " char_input (InputLayer)        [(None, 1)]          0           []                               \n",
            "                                                                                                  \n",
            " text_vectorization_1 (TextVect  (None, 285)         0           ['char_input[0][0]']             \n",
            " orization)                                                                                       \n",
            "                                                                                                  \n",
            " token_input (InputLayer)       [(None,)]            0           []                               \n",
            "                                                                                                  \n",
            " embedding_1 (Embedding)        (None, 285, 25)      1750        ['text_vectorization_1[1][0]']   \n",
            "                                                                                                  \n",
            " Universal_sentence_encoder_TF_  (None, 512)         256797824   ['token_input[0][0]']            \n",
            " HUB (KerasLayer)                                                                                 \n",
            "                                                                                                  \n",
            " bidirectional (Bidirectional)  (None, 128)          46080       ['embedding_1[1][0]']            \n",
            "                                                                                                  \n",
            " dense (Dense)                  (None, 256)          131328      ['Universal_sentence_encoder_TF_H\n",
            "                                                                 UB[1][0]']                       \n",
            "                                                                                                  \n",
            " concatenate (Concatenate)      (None, 384)          0           ['bidirectional[0][0]',          \n",
            "                                                                  'dense[0][0]']                  \n",
            "                                                                                                  \n",
            " dropout (Dropout)              (None, 384)          0           ['concatenate[0][0]']            \n",
            "                                                                                                  \n",
            " dense_1 (Dense)                (None, 256)          98560       ['dropout[0][0]']                \n",
            "                                                                                                  \n",
            " dropout_1 (Dropout)            (None, 256)          0           ['dense_1[0][0]']                \n",
            "                                                                                                  \n",
            " final_output (Dense)           (None, 5)            1285        ['dropout_1[0][0]']              \n",
            "                                                                                                  \n",
            "==================================================================================================\n",
            "Total params: 257,076,827\n",
            "Trainable params: 279,003\n",
            "Non-trainable params: 256,797,824\n",
            "__________________________________________________________________________________________________\n"
          ]
        }
      ]
    },
    {
      "cell_type": "code",
      "source": [
        "tf.keras.utils.plot_model(model_5)"
      ],
      "metadata": {
        "colab": {
          "base_uri": "https://localhost:8080/",
          "height": 856
        },
        "id": "mqnhfjHPk3WL",
        "outputId": "6e1967d6-bfa2-408b-dbe9-1dac1f10090e"
      },
      "execution_count": null,
      "outputs": [
        {
          "output_type": "execute_result",
          "data": {
            "image/png": "[encoded data removed]",
            "text/plain": [
              "<IPython.core.display.Image object>"
            ]
          },
          "metadata": {},
          "execution_count": 103
        }
      ]
    },
    {
      "cell_type": "markdown",
      "source": [
        "### Create efficient data pipelines for our model_5"
      ],
      "metadata": {
        "id": "-2riy3K1nXsu"
      }
    },
    {
      "cell_type": "code",
      "source": [
        "# Combine characters and tokens datasets into one dataset\n",
        "token_char_train_dataset_  = tf.data.Dataset.from_tensor_slices((char_train_sentences, train_sentences))\n",
        "token_char_train_labels = tf.data.Dataset.from_tensor_slices(train_labels_one_hot)\n",
        "token_char_train_dataset = tf.data.Dataset.zip((token_char_train_dataset_, token_char_train_labels)).batch(BATCH_SIZE).prefetch(tf.data.AUTOTUNE)\n",
        "\n",
        "# Do exact same as above but now with validation dataset\n",
        "token_char_valid_dataset_  = tf.data.Dataset.from_tensor_slices((char_valid_sentences, valid_sentences))\n",
        "token_char_valid_labels = tf.data.Dataset.from_tensor_slices(valid_labels_one_hot)\n",
        "token_char_valid_dataset = tf.data.Dataset.zip((token_char_valid_dataset_, token_char_valid_labels)).batch(BATCH_SIZE).prefetch(tf.data.AUTOTUNE)\n",
        "\n",
        "# Check if our datasets are prefetched\n",
        "token_char_train_dataset, token_char_valid_dataset"
      ],
      "metadata": {
        "colab": {
          "base_uri": "https://localhost:8080/"
        },
        "id": "_mffbqRAn01e",
        "outputId": "4487bcf4-61b7-4869-c52c-865aa43b7cdb"
      },
      "execution_count": null,
      "outputs": [
        {
          "output_type": "execute_result",
          "data": {
            "text/plain": [
              "(<_PrefetchDataset element_spec=((TensorSpec(shape=(None,), dtype=tf.string, name=None), TensorSpec(shape=(None,), dtype=tf.string, name=None)), TensorSpec(shape=(None, 5), dtype=tf.float64, name=None))>,\n",
              " <_PrefetchDataset element_spec=((TensorSpec(shape=(None,), dtype=tf.string, name=None), TensorSpec(shape=(None,), dtype=tf.string, name=None)), TensorSpec(shape=(None, 5), dtype=tf.float64, name=None))>)"
            ]
          },
          "metadata": {},
          "execution_count": 104
        }
      ]
    },
    {
      "cell_type": "markdown",
      "source": [
        "### Compile and train model_5"
      ],
      "metadata": {
        "id": "0zDLASYqnGia"
      }
    },
    {
      "cell_type": "code",
      "source": [
        "model_5.compile(loss=tf.keras.losses.categorical_crossentropy,\n",
        "                optimizer=tf.keras.optimizers.AdamW(),\n",
        "                metrics=[\"accuracy\"])\n",
        "# Train a model\n",
        "history_5 = model_5.fit(token_char_train_dataset,\n",
        "                        epochs=5,\n",
        "                        steps_per_epoch=int(0.1 * len(token_char_train_dataset)),\n",
        "                        validation_data=(token_char_valid_dataset),\n",
        "                        validation_steps=int(0.1 * len(token_char_valid_dataset)))"
      ],
      "metadata": {
        "colab": {
          "base_uri": "https://localhost:8080/"
        },
        "id": "Zb7dEOKenO_v",
        "outputId": "ca933fe7-5d69-4054-e9c8-9ffd60a87494"
      },
      "execution_count": null,
      "outputs": [
        {
          "output_type": "stream",
          "name": "stdout",
          "text": [
            "Epoch 1/5\n",
            "562/562 [==============================] - 46s 59ms/step - loss: 0.9200 - accuracy: 0.6368 - val_loss: 0.7549 - val_accuracy: 0.7131\n",
            "Epoch 2/5\n",
            "562/562 [==============================] - 31s 55ms/step - loss: 0.7614 - accuracy: 0.7090 - val_loss: 0.6988 - val_accuracy: 0.7394\n",
            "Epoch 3/5\n",
            "562/562 [==============================] - 27s 48ms/step - loss: 0.7363 - accuracy: 0.7155 - val_loss: 0.6708 - val_accuracy: 0.7467\n",
            "Epoch 4/5\n",
            "562/562 [==============================] - 33s 59ms/step - loss: 0.7084 - accuracy: 0.7332 - val_loss: 0.6434 - val_accuracy: 0.7600\n",
            "Epoch 5/5\n",
            "562/562 [==============================] - 29s 52ms/step - loss: 0.7126 - accuracy: 0.7295 - val_loss: 0.6326 - val_accuracy: 0.7600\n"
          ]
        }
      ]
    },
    {
      "cell_type": "code",
      "source": [
        "model_5_preds_probs = model_5.predict(token_char_valid_dataset)\n",
        "model_5_preds = np.argmax(model_5_preds_probs, axis=-1)\n",
        "model_5_results = calculate_results(valid_labels_encoded, model_5_preds)\n",
        "model_5_results"
      ],
      "metadata": {
        "id": "1npuVZmXW3ST",
        "colab": {
          "base_uri": "https://localhost:8080/"
        },
        "outputId": "a37d6b58-2bb4-4d39-d3b0-13fc85f4928e"
      },
      "execution_count": null,
      "outputs": [
        {
          "output_type": "stream",
          "name": "stdout",
          "text": [
            "945/945 [==============================] - 30s 32ms/step\n"
          ]
        },
        {
          "output_type": "execute_result",
          "data": {
            "text/plain": [
              "{'accuracy_score': 0.7552297100489872,\n",
              " 'precision_score': 0.7511414728374031,\n",
              " 'recall_score': 0.7552297100489872,\n",
              " 'f1_score': 0.7498917266813884}"
            ]
          },
          "metadata": {},
          "execution_count": 107
        }
      ]
    },
    {
      "cell_type": "code",
      "source": [
        "pd.Series(model_0_results).to_csv(\"drive/MyDrive/projects/SkimLit/csv_files\" + \"model_0_results\")\n",
        "pd.Series(model_1_results).to_csv(\"drive/MyDrive/projects/SkimLit/csv_files\" + \"model_1_results\")\n",
        "pd.Series(model_2_results).to_csv(\"drive/MyDrive/projects/SkimLit/csv_files\" + \"model_2_results\")\n",
        "pd.Series(model_3_results).to_csv(\"drive/MyDrive/projects/SkimLit/csv_files\" + \"model_3_results\")\n",
        "pd.Series(model_4_results).to_csv(\"drive/MyDrive/projects/SkimLit/csv_files\" + \"model_4_results\")\n",
        "pd.Series(model_5_results).to_csv(\"drive/MyDrive/projects/SkimLit/csv_files\" + \"model_5_results\")"
      ],
      "metadata": {
        "id": "iqYpFQPxfKo3"
      },
      "execution_count": null,
      "outputs": []
    },
    {
      "cell_type": "markdown",
      "source": [
        "## Prepare line_number and total_lines features for model_6"
      ],
      "metadata": {
        "id": "ryvzbZDuqRyO"
      }
    },
    {
      "cell_type": "code",
      "source": [
        "# Extract line_number and total_lines from train_df\n",
        "train_line_number = np.array(train_df[\"line_number\"])\n",
        "train_total_lines = np.array(train_df[\"total_lines\"])\n",
        "train_line_number[:15], train_total_lines[:15]"
      ],
      "metadata": {
        "colab": {
          "base_uri": "https://localhost:8080/"
        },
        "id": "HXaFIn9vsR78",
        "outputId": "f3ce801d-af0d-440d-84d1-1fe75e10cc47"
      },
      "execution_count": null,
      "outputs": [
        {
          "output_type": "execute_result",
          "data": {
            "text/plain": [
              "(array([ 0,  1,  2,  3,  4,  5,  6,  7,  8,  9, 10, 11,  0,  1,  2]),\n",
              " array([11, 11, 11, 11, 11, 11, 11, 11, 11, 11, 11, 11, 10, 10, 10]))"
            ]
          },
          "metadata": {},
          "execution_count": 40
        }
      ]
    },
    {
      "cell_type": "code",
      "source": [
        "# Same as above but now for validation dataset\n",
        "valid_line_number = np.array(valid_df[\"line_number\"])\n",
        "valid_total_lines = np.array(valid_df[\"total_lines\"])\n",
        "valid_line_number[:15], valid_total_lines[:15]"
      ],
      "metadata": {
        "colab": {
          "base_uri": "https://localhost:8080/"
        },
        "id": "DK8GiyTjKZkp",
        "outputId": "079c2790-cab6-4d39-a006-9ef692636a59"
      },
      "execution_count": null,
      "outputs": [
        {
          "output_type": "execute_result",
          "data": {
            "text/plain": [
              "(array([0, 1, 2, 3, 4, 5, 6, 7, 8, 9, 0, 1, 2, 3, 4]),\n",
              " array([ 9,  9,  9,  9,  9,  9,  9,  9,  9,  9, 10, 10, 10, 10, 10]))"
            ]
          },
          "metadata": {},
          "execution_count": 41
        }
      ]
    },
    {
      "cell_type": "code",
      "source": [
        "fig = plt.figure(figsize=(15, 5))\n",
        "fig.add_subplot(1, 2, 1)\n",
        "plt.hist(pd.Series(train_line_number), bins=15)\n",
        "plt.xlabel(\"line numbers\")\n",
        "plt.title(\"Training dataset\")\n",
        "fig.add_subplot(1, 2, 2)\n",
        "plt.hist(pd.Series(valid_line_number), bins=15)\n",
        "plt.xlabel(\"line numbers\")\n",
        "plt.title(\"Validation dataset\");"
      ],
      "metadata": {
        "colab": {
          "base_uri": "https://localhost:8080/",
          "height": 306
        },
        "id": "WgRMYmdQs70w",
        "outputId": "3496b7ce-dafb-4ca3-e9be-c2e126769e12"
      },
      "execution_count": null,
      "outputs": [
        {
          "output_type": "display_data",
          "data": {
            "text/plain": [
              "<Figure size 1500x500 with 2 Axes>"
            ],
            "image/png": "[encoded data removed]"
          },
          "metadata": {}
        }
      ]
    },
    {
      "cell_type": "code",
      "source": [
        "representative_line_number_number = int(np.percentile(train_line_number, 98))\n",
        "representative_line_number_number"
      ],
      "metadata": {
        "colab": {
          "base_uri": "https://localhost:8080/"
        },
        "id": "1RGxF0IztPRf",
        "outputId": "9ea6913c-cf71-4fb2-da32-624115f37a19"
      },
      "execution_count": null,
      "outputs": [
        {
          "output_type": "execute_result",
          "data": {
            "text/plain": [
              "15"
            ]
          },
          "metadata": {},
          "execution_count": 43
        }
      ]
    },
    {
      "cell_type": "code",
      "source": [
        "pd.Series(train_total_lines).plot(kind=\"hist\", bins=20)\n",
        "plt.xlabel(\"total lines numbers\");"
      ],
      "metadata": {
        "colab": {
          "base_uri": "https://localhost:8080/",
          "height": 451
        },
        "id": "c7r9iTuEtY-N",
        "outputId": "7b540595-be46-450f-8833-c48fafc2e0c2"
      },
      "execution_count": null,
      "outputs": [
        {
          "output_type": "display_data",
          "data": {
            "text/plain": [
              "<Figure size 640x480 with 1 Axes>"
            ],
            "image/png": "[encoded data removed]"
          },
          "metadata": {}
        }
      ]
    },
    {
      "cell_type": "code",
      "source": [
        "representative_total_line_number = int(np.percentile(train_total_lines, 98))\n",
        "representative_total_line_number"
      ],
      "metadata": {
        "colab": {
          "base_uri": "https://localhost:8080/"
        },
        "id": "y-E6XLb0tg3v",
        "outputId": "06b68567-3bc6-474e-8dea-bc6796f94565"
      },
      "execution_count": null,
      "outputs": [
        {
          "output_type": "execute_result",
          "data": {
            "text/plain": [
              "20"
            ]
          },
          "metadata": {},
          "execution_count": 45
        }
      ]
    },
    {
      "cell_type": "markdown",
      "source": [
        "### Create one-hot-representation of line_number and total_lines features"
      ],
      "metadata": {
        "id": "BW4xf5zLsTaN"
      }
    },
    {
      "cell_type": "code",
      "source": [
        "train_line_number_one_hot = tf.one_hot(train_line_number, depth=representative_line_number_number)\n",
        "train_total_lines_one_hot = tf.one_hot(train_total_lines, depth=representative_total_line_number)\n",
        "# Check if featurs are properly one-hot encoded\n",
        "train_line_number_one_hot, train_total_lines_one_hot"
      ],
      "metadata": {
        "colab": {
          "base_uri": "https://localhost:8080/"
        },
        "id": "81vOn6GosaI1",
        "outputId": "2d89723f-97bd-4b47-d464-5eebbe0ae965"
      },
      "execution_count": null,
      "outputs": [
        {
          "output_type": "execute_result",
          "data": {
            "text/plain": [
              "(<tf.Tensor: shape=(180040, 15), dtype=float32, numpy=\n",
              " array([[1., 0., 0., ..., 0., 0., 0.],\n",
              "        [0., 1., 0., ..., 0., 0., 0.],\n",
              "        [0., 0., 1., ..., 0., 0., 0.],\n",
              "        ...,\n",
              "        [0., 0., 0., ..., 0., 0., 0.],\n",
              "        [0., 0., 0., ..., 0., 0., 0.],\n",
              "        [0., 0., 0., ..., 0., 0., 0.]], dtype=float32)>,\n",
              " <tf.Tensor: shape=(180040, 20), dtype=float32, numpy=\n",
              " array([[0., 0., 0., ..., 0., 0., 0.],\n",
              "        [0., 0., 0., ..., 0., 0., 0.],\n",
              "        [0., 0., 0., ..., 0., 0., 0.],\n",
              "        ...,\n",
              "        [0., 0., 0., ..., 0., 0., 0.],\n",
              "        [0., 0., 0., ..., 0., 0., 0.],\n",
              "        [0., 0., 0., ..., 0., 0., 0.]], dtype=float32)>)"
            ]
          },
          "metadata": {},
          "execution_count": 46
        }
      ]
    },
    {
      "cell_type": "code",
      "source": [
        "# Now for the validation dataset\n",
        "valid_line_number_one_hot = tf.one_hot(valid_line_number, depth=15)\n",
        "valid_total_lines_one_hot = tf.one_hot(valid_total_lines, depth=20)\n",
        "# Check if featurs are properly one-hot encoded\n",
        "valid_line_number_one_hot, valid_total_lines_one_hot"
      ],
      "metadata": {
        "colab": {
          "base_uri": "https://localhost:8080/"
        },
        "id": "Kwc_6ddTKJOx",
        "outputId": "3d19cad3-3462-4bfb-8b29-37bd95a4da1c"
      },
      "execution_count": null,
      "outputs": [
        {
          "output_type": "execute_result",
          "data": {
            "text/plain": [
              "(<tf.Tensor: shape=(30212, 15), dtype=float32, numpy=\n",
              " array([[1., 0., 0., ..., 0., 0., 0.],\n",
              "        [0., 1., 0., ..., 0., 0., 0.],\n",
              "        [0., 0., 1., ..., 0., 0., 0.],\n",
              "        ...,\n",
              "        [0., 0., 0., ..., 0., 0., 0.],\n",
              "        [0., 0., 0., ..., 1., 0., 0.],\n",
              "        [0., 0., 0., ..., 0., 1., 0.]], dtype=float32)>,\n",
              " <tf.Tensor: shape=(30212, 20), dtype=float32, numpy=\n",
              " array([[0., 0., 0., ..., 0., 0., 0.],\n",
              "        [0., 0., 0., ..., 0., 0., 0.],\n",
              "        [0., 0., 0., ..., 0., 0., 0.],\n",
              "        ...,\n",
              "        [0., 0., 0., ..., 0., 0., 0.],\n",
              "        [0., 0., 0., ..., 0., 0., 0.],\n",
              "        [0., 0., 0., ..., 0., 0., 0.]], dtype=float32)>)"
            ]
          },
          "metadata": {},
          "execution_count": 47
        }
      ]
    },
    {
      "cell_type": "markdown",
      "source": [
        "## Model 6: in this model we are going to use 2 additional features: total_lines, line_number"
      ],
      "metadata": {
        "id": "2xAlhUxft1tT"
      }
    },
    {
      "cell_type": "code",
      "source": [
        "# Clear keras backend and make our code reproducible\n",
        "tf.random.set_seed(42)\n",
        "tf.keras.backend.clear_session()\n",
        "\n",
        "# Create char model\n",
        "char_inputs = tf.keras.layers.Input(shape=[1,], dtype=tf.string, name=\"char_input\")\n",
        "char_vectorizer = char_text_vectorizer(char_inputs)\n",
        "char_embeddings = char_embedding(char_vectorizer)\n",
        "char_bi_lstm = tf.keras.layers.Bidirectional(layer=tf.keras.layers.LSTM(units=64))(char_embeddings)\n",
        "char_model = tf.keras.Model(char_inputs, char_bi_lstm)\n",
        "\n",
        "# Create token model\n",
        "token_inputs = tf.keras.layers.Input(shape=[], dtype=tf.string, name=\"token_input\")\n",
        "token_embedded = pretrained_embeddings_tf_hub_layer(token_inputs)\n",
        "token_outputs = tf.keras.layers.Dense(256, activation=\"relu\",\n",
        "                                      kernel_initializer=\"he_normal\")(token_embedded)\n",
        "token_model = tf.keras.Model(token_inputs, token_outputs)\n",
        "\n",
        "# Create line_number model (we can treat one-hot represenatation as and embedding arleady)\n",
        "line_number_inputs = tf.keras.layers.Input(shape=[15,], dtype=tf.float32, name=\"line_number_input\")\n",
        "line_number_outputs = tf.keras.layers.Dense(32, activation=\"relu\",\n",
        "                                          kernel_initializer=\"he_normal\")(line_number_inputs)\n",
        "line_number_model = tf.keras.Model(line_number_inputs, line_number_outputs)\n",
        "\n",
        "# Create total_lines model\n",
        "total_lines_inputs = tf.keras.layers.Input(shape=[20,], dtype=tf.float32, name=\"total_line_number_input\")\n",
        "total_lines_outputs = tf.keras.layers.Dense(32, activation=\"relu\",\n",
        "                                          kernel_initializer=\"he_normal\")(total_lines_inputs)\n",
        "total_lines_model = tf.keras.Model(total_lines_inputs, total_lines_outputs)\n",
        "\n",
        "# Concatenate token and char models\n",
        "char_token_embeddings = tf.keras.layers.Concatenate()([char_model.output, token_model.output])\n",
        "char_token_dense = tf.keras.layers.Dense(256, activation=\"relu\",\n",
        "                                          kernel_initializer=\"he_normal\")(char_token_embeddings)\n",
        "dropout_1 = tf.keras.layers.Dropout(0.5)(char_token_dense)\n",
        "\n",
        "# Concatenate all 3 models (token_char, line_number, total_lines)\n",
        "hybrid_embeddings = tf.keras.layers.Concatenate()([dropout_1, line_number_model.output, total_lines_model.output])\n",
        "\n",
        "# Add some dropout and dense layers on top\n",
        "hybrid_dense_1 = tf.keras.layers.Dense(256, activation=\"relu\",\n",
        "                                       kernel_initializer=\"he_normal\")(hybrid_embeddings)\n",
        "dropout_2 = tf.keras.layers.Dropout(0.5)(hybrid_dense_1)\n",
        "final_outputs = tf.keras.layers.Dense(NUM_CLASSES, activation=\"softmax\", name=\"final_softmax_output\")(hybrid_dense_1)\n",
        "\n",
        "# Construct final model with all kinds of inputs\n",
        "model_6 = tf.keras.Model(inputs=[char_inputs, token_inputs, line_number_inputs, total_lines_inputs],\n",
        "                         outputs=[final_outputs],\n",
        "                         name=\"tribrid_embedding_model_5\")\n",
        "# Check the summary\n",
        "model_6.summary()"
      ],
      "metadata": {
        "colab": {
          "base_uri": "https://localhost:8080/"
        },
        "id": "yM1Vs7pTvJUl",
        "outputId": "51acc2a4-ffec-41f5-8399-ddced1555378"
      },
      "execution_count": null,
      "outputs": [
        {
          "output_type": "stream",
          "name": "stdout",
          "text": [
            "Model: \"tribrid_embedding_model_5\"\n",
            "__________________________________________________________________________________________________\n",
            " Layer (type)                   Output Shape         Param #     Connected to                     \n",
            "==================================================================================================\n",
            " char_input (InputLayer)        [(None, 1)]          0           []                               \n",
            "                                                                                                  \n",
            " text_vectorization_1 (TextVect  (None, 285)         0           ['char_input[0][0]']             \n",
            " orization)                                                                                       \n",
            "                                                                                                  \n",
            " token_input (InputLayer)       [(None,)]            0           []                               \n",
            "                                                                                                  \n",
            " embedding_1 (Embedding)        (None, 285, 25)      1750        ['text_vectorization_1[1][0]']   \n",
            "                                                                                                  \n",
            " Universal_sentence_encoder_TF_  (None, 512)         256797824   ['token_input[0][0]']            \n",
            " HUB (KerasLayer)                                                                                 \n",
            "                                                                                                  \n",
            " bidirectional (Bidirectional)  (None, 128)          46080       ['embedding_1[1][0]']            \n",
            "                                                                                                  \n",
            " dense (Dense)                  (None, 256)          131328      ['Universal_sentence_encoder_TF_H\n",
            "                                                                 UB[0][0]']                       \n",
            "                                                                                                  \n",
            " concatenate (Concatenate)      (None, 384)          0           ['bidirectional[0][0]',          \n",
            "                                                                  'dense[0][0]']                  \n",
            "                                                                                                  \n",
            " dense_3 (Dense)                (None, 256)          98560       ['concatenate[0][0]']            \n",
            "                                                                                                  \n",
            " line_number_input (InputLayer)  [(None, 15)]        0           []                               \n",
            "                                                                                                  \n",
            " total_line_number_input (Input  [(None, 20)]        0           []                               \n",
            " Layer)                                                                                           \n",
            "                                                                                                  \n",
            " dropout (Dropout)              (None, 256)          0           ['dense_3[0][0]']                \n",
            "                                                                                                  \n",
            " dense_1 (Dense)                (None, 32)           512         ['line_number_input[0][0]']      \n",
            "                                                                                                  \n",
            " dense_2 (Dense)                (None, 32)           672         ['total_line_number_input[0][0]']\n",
            "                                                                                                  \n",
            " concatenate_1 (Concatenate)    (None, 320)          0           ['dropout[0][0]',                \n",
            "                                                                  'dense_1[0][0]',                \n",
            "                                                                  'dense_2[0][0]']                \n",
            "                                                                                                  \n",
            " dense_4 (Dense)                (None, 256)          82176       ['concatenate_1[0][0]']          \n",
            "                                                                                                  \n",
            " final_softmax_output (Dense)   (None, 5)            1285        ['dense_4[0][0]']                \n",
            "                                                                                                  \n",
            "==================================================================================================\n",
            "Total params: 257,160,187\n",
            "Trainable params: 362,363\n",
            "Non-trainable params: 256,797,824\n",
            "__________________________________________________________________________________________________\n"
          ]
        }
      ]
    },
    {
      "cell_type": "code",
      "source": [
        "# Check the architecture of model_6\n",
        "tf.keras.utils.plot_model(model_6, show_shapes=True)"
      ],
      "metadata": {
        "colab": {
          "base_uri": "https://localhost:8080/",
          "height": 631
        },
        "id": "gavy9bZ5xdx9",
        "outputId": "ffc3992f-ef13-43c0-d376-538c42813915"
      },
      "execution_count": null,
      "outputs": [
        {
          "output_type": "execute_result",
          "data": {
            "image/png": "[encoded data removed]",
            "text/plain": [
              "<IPython.core.display.Image object>"
            ]
          },
          "metadata": {},
          "execution_count": 65
        }
      ]
    },
    {
      "cell_type": "markdown",
      "source": [
        "### Create efficient data pipelines for model_6"
      ],
      "metadata": {
        "id": "G5BfLshqyOl3"
      }
    },
    {
      "cell_type": "code",
      "source": [
        "train_token_char_line_number_total_dataset_ = tf.data.Dataset.from_tensor_slices((char_train_sentences,\n",
        "                                                                                  train_sentences,\n",
        "                                                                                  train_line_number_one_hot,\n",
        "                                                                                  train_total_lines_one_hot)).cache()\n",
        "# Dataset for labels\n",
        "train_token_char_line_number_total_labels = tf.data.Dataset.from_tensor_slices(train_labels_one_hot)\n",
        "# Combined sentences, line_numbers, total_lines and one-hot encoded labels\n",
        "train_token_char_line_number_total_dataset = tf.data.Dataset.zip((train_token_char_line_number_total_dataset_,\n",
        "                                                                  train_token_char_line_number_total_labels)).batch(BATCH_SIZE).prefetch(tf.data.AUTOTUNE)\n",
        "# Check if our dataset is correctly prefetched\n",
        "train_token_char_line_number_total_dataset"
      ],
      "metadata": {
        "colab": {
          "base_uri": "https://localhost:8080/"
        },
        "id": "H6MW8AyKy-4D",
        "outputId": "41b9a8c3-a697-422e-d77d-2212a66f2dba"
      },
      "execution_count": null,
      "outputs": [
        {
          "output_type": "execute_result",
          "data": {
            "text/plain": [
              "<_PrefetchDataset element_spec=((TensorSpec(shape=(None,), dtype=tf.string, name=None), TensorSpec(shape=(None,), dtype=tf.string, name=None), TensorSpec(shape=(None, 15), dtype=tf.float32, name=None), TensorSpec(shape=(None, 20), dtype=tf.float32, name=None)), TensorSpec(shape=(None, 5), dtype=tf.float64, name=None))>"
            ]
          },
          "metadata": {},
          "execution_count": 66
        }
      ]
    },
    {
      "cell_type": "code",
      "source": [
        "# Do the same as in above cell, but now for validation dataset\n",
        "valid_token_char_line_number_total_dataset_ = tf.data.Dataset.from_tensor_slices((char_valid_sentences,\n",
        "                                                                                  valid_sentences,\n",
        "                                                                                  valid_line_number_one_hot,\n",
        "                                                                                  valid_total_lines_one_hot)).cache()\n",
        "# Dataset for labels\n",
        "valid_token_char_line_number_total_labels = tf.data.Dataset.from_tensor_slices(valid_labels_one_hot)\n",
        "# Combined sentences, line_numbers, total_lines and one-hot encoded labels\n",
        "valid_token_char_line_number_total_dataset = tf.data.Dataset.zip((valid_token_char_line_number_total_dataset_,\n",
        "                                                                  valid_token_char_line_number_total_labels)).batch(BATCH_SIZE).prefetch(tf.data.AUTOTUNE)\n",
        "# Check if our dataset is correctly prefetched\n",
        "valid_token_char_line_number_total_dataset"
      ],
      "metadata": {
        "colab": {
          "base_uri": "https://localhost:8080/"
        },
        "id": "z7Zr9yzoJad2",
        "outputId": "091d4188-2002-4161-d962-f651f40f4ce3"
      },
      "execution_count": null,
      "outputs": [
        {
          "output_type": "execute_result",
          "data": {
            "text/plain": [
              "<_PrefetchDataset element_spec=((TensorSpec(shape=(None,), dtype=tf.string, name=None), TensorSpec(shape=(None,), dtype=tf.string, name=None), TensorSpec(shape=(None, 15), dtype=tf.float32, name=None), TensorSpec(shape=(None, 20), dtype=tf.float32, name=None)), TensorSpec(shape=(None, 5), dtype=tf.float64, name=None))>"
            ]
          },
          "metadata": {},
          "execution_count": 67
        }
      ]
    },
    {
      "cell_type": "code",
      "source": [
        "# # Do the same as in above cell, but now for the test dataset\n",
        "# test_token_char_line_number_total_dataset_ = tf.data.Dataset.from_tensor_slices((char_test_sentences,\n",
        "#                                                                                  test_sentences,\n",
        "#                                                                                  test_line_number_one_hot,\n",
        "#                                                                                  test_total_lines_one_hot)).cache()\n",
        "# # Dataset for labels\n",
        "# test_token_char_line_number_total_labels = tf.data.Dataset.from_tensor_slices(test_labels_one_hot)\n",
        "# # Combined sentences, line_numbers, total_lines and one-hot encoded labels\n",
        "# test_token_char_line_number_total_dataset = tf.data.Dataset.zip((test_token_char_line_number_total_dataset_,\n",
        "#                                                                  test_token_char_line_number_total_labels)).batch(BATCH_SIZE).prefetch(tf.data.AUTOTUNE)\n",
        "# # Check if our dataset is correctly prefetched\n",
        "# test_token_char_line_number_total_dataset"
      ],
      "metadata": {
        "id": "qIdVhPgqg6Q8"
      },
      "execution_count": null,
      "outputs": []
    },
    {
      "cell_type": "markdown",
      "source": [
        "### Compile and fit model_6"
      ],
      "metadata": {
        "id": "tI3OTeCWy9M-"
      }
    },
    {
      "cell_type": "markdown",
      "source": [
        "**What is label smoothing?**\n",
        "\n",
        "For example if our model gets too confident on a single class  (it's prediction probability is really high), it may get stuck on that class and not consider other classes.\n",
        "\n",
        "Really confident: `[0., 0., 0., 1., 0.]`\n",
        "\n",
        "What label smoothing does is it assigns some of the value from the highest prediction probability to other classes , in turn, hopefully improving generalization: `[0.01, 0.01, 0.01, 0.96, 0.01]`."
      ],
      "metadata": {
        "id": "C51uepe68_Bp"
      }
    },
    {
      "cell_type": "code",
      "source": [
        "# Compile our model :)\n",
        "model_6.compile(loss=tf.keras.losses.CategoricalCrossentropy(label_smoothing=0.2), # It helps to prevent overfitting\n",
        "                optimizer=tf.keras.optimizers.AdamW(),\n",
        "                metrics=[\"accuracy\"])"
      ],
      "metadata": {
        "id": "RQ7ISjb-ys_6"
      },
      "execution_count": null,
      "outputs": []
    },
    {
      "cell_type": "code",
      "source": [
        "# Train a model\n",
        "history_6 = model_6.fit(train_token_char_line_number_total_dataset,\n",
        "                        epochs=5,\n",
        "                        steps_per_epoch=int(0.1 * len(train_token_char_line_number_total_dataset)),\n",
        "                        validation_data=(valid_token_char_line_number_total_dataset),\n",
        "                        validation_steps=int(0.1 * len(valid_token_char_line_number_total_dataset)),\n",
        "                        callbacks=[create_early_stopping_callback(patience=7),\n",
        "                                   create_tensorboard_callback(\"model_6_10_percent_data\", \"drive/MyDrive/projects/SkimLit/tensorboard\")])"
      ],
      "metadata": {
        "id": "Auxw5Bx3y0Mu",
        "colab": {
          "base_uri": "https://localhost:8080/"
        },
        "outputId": "fedd4d02-2260-4f6e-86f0-9ef564ce13a6"
      },
      "execution_count": null,
      "outputs": [
        {
          "output_type": "stream",
          "name": "stdout",
          "text": [
            "Saving tensorboard callback to: drive/MyDrive/projects/SkimLit/tensorboard/model_6_10_percent_data/run_2023_08_12_11_29_16\n",
            "Epoch 1/5\n",
            "562/562 [==============================] - 92s 59ms/step - loss: 1.0314 - accuracy: 0.7647 - val_loss: 0.9354 - val_accuracy: 0.8285\n",
            "Epoch 2/5\n",
            "562/562 [==============================] - 45s 80ms/step - loss: 0.9211 - accuracy: 0.8360 - val_loss: 0.9007 - val_accuracy: 0.8477\n",
            "Epoch 3/5\n",
            "562/562 [==============================] - 34s 60ms/step - loss: 0.9006 - accuracy: 0.8446 - val_loss: 0.8846 - val_accuracy: 0.8597\n",
            "Epoch 4/5\n",
            "562/562 [==============================] - 32s 57ms/step - loss: 0.8916 - accuracy: 0.8539 - val_loss: 0.8829 - val_accuracy: 0.8561\n",
            "Epoch 5/5\n",
            "562/562 [==============================] - 33s 60ms/step - loss: 0.8864 - accuracy: 0.8554 - val_loss: 0.8739 - val_accuracy: 0.8594\n"
          ]
        }
      ]
    },
    {
      "cell_type": "markdown",
      "source": [
        "### Evaluating model_6"
      ],
      "metadata": {
        "id": "_pfsfjEvLiSz"
      }
    },
    {
      "cell_type": "code",
      "source": [
        "model_6_preds_probs = model_6.predict(valid_token_char_line_number_total_dataset)\n",
        "model_6_preds = np.argmax(model_6_preds_probs, axis=-1)\n",
        "model_6_preds[:10]"
      ],
      "metadata": {
        "colab": {
          "base_uri": "https://localhost:8080/"
        },
        "id": "yj3TpuBhODrc",
        "outputId": "3d2b4498-e338-43cc-a64e-8685571d0e75"
      },
      "execution_count": null,
      "outputs": [
        {
          "output_type": "stream",
          "name": "stdout",
          "text": [
            "945/945 [==============================] - 24s 22ms/step\n"
          ]
        },
        {
          "output_type": "execute_result",
          "data": {
            "text/plain": [
              "array([0, 0, 3, 2, 2, 4, 4, 4, 4, 1])"
            ]
          },
          "metadata": {},
          "execution_count": 133
        }
      ]
    },
    {
      "cell_type": "code",
      "source": [
        "model_6_results = calculate_results(valid_labels_encoded, model_6_preds)\n",
        "model_6_results"
      ],
      "metadata": {
        "colab": {
          "base_uri": "https://localhost:8080/"
        },
        "id": "Xyk3n9aDORBp",
        "outputId": "55633ea0-a16c-4788-b03c-3df7fede3e97"
      },
      "execution_count": null,
      "outputs": [
        {
          "output_type": "execute_result",
          "data": {
            "text/plain": [
              "{'accuracy_score': 0.8623725671918443,\n",
              " 'precision_score': 0.8669735122265203,\n",
              " 'recall_score': 0.8623725671918443,\n",
              " 'f1_score': 0.8590754611913429}"
            ]
          },
          "metadata": {},
          "execution_count": 134
        }
      ]
    },
    {
      "cell_type": "code",
      "source": [
        "pd.Series(model_6_results).to_csv(\"drive/MyDrive/projects/SkimLit/csv_files\" + \"model_6_10_percent_data\")"
      ],
      "metadata": {
        "id": "xU6hpd5lf_Tq"
      },
      "execution_count": null,
      "outputs": []
    },
    {
      "cell_type": "markdown",
      "source": [
        "## Saving our best model (trained on 10% of the data)"
      ],
      "metadata": {
        "id": "x0l4h9nmZ4ST"
      }
    },
    {
      "cell_type": "code",
      "source": [
        "save_model(model_6, \"model_6_10_percent\")\n",
        "loaded_model = load_model(\"model_6_10_percent\")"
      ],
      "metadata": {
        "id": "7lJFKjaDZ6b5"
      },
      "execution_count": null,
      "outputs": []
    },
    {
      "cell_type": "code",
      "source": [
        "# Check if predictions are the same\n",
        "compare_predictions(model_6, loaded_model, valid_token_char_line_number_total_dataset.take(100))"
      ],
      "metadata": {
        "id": "eowTUHxIZ6gu"
      },
      "execution_count": null,
      "outputs": []
    },
    {
      "cell_type": "markdown",
      "source": [
        "## Training our model on 100% of the data"
      ],
      "metadata": {
        "id": "JuNOxeLJWPsG"
      }
    },
    {
      "cell_type": "code",
      "source": [
        "# Train a model\n",
        "history_6_100_percent_data = model_6.fit(train_token_char_line_number_total_dataset,\n",
        "                                         epochs=50,\n",
        "                                         validation_data=(valid_token_char_line_number_total_dataset),\n",
        "                                         callbacks=[create_early_stopping_callback(patience=7),\n",
        "                                                    create_tensorboard_callback(\"model_6_100_percent_data\", \"drive/MyDrive/projects/SkimLit/tensorboard\"),\n",
        "                                                    create_modelcheckpoint_callback(\"model_6_100_percent_data\", \"drive/MyDrive/projects/SkimLit/model_checkpoint\")])"
      ],
      "metadata": {
        "colab": {
          "base_uri": "https://localhost:8080/"
        },
        "id": "zB0QbxWtWUQH",
        "outputId": "b1c9d8e3-3bf0-4549-89e1-c35349e5b4a6"
      },
      "execution_count": null,
      "outputs": [
        {
          "output_type": "stream",
          "name": "stdout",
          "text": [
            "Saving tensorboard callback to: drive/MyDrive/projects/SkimLit/tensorboard/model_6_100_percent_data/run_2023_08_12_11_39_19\n",
            "Saving model checkpoints to: drive/MyDrive/projects/SkimLit/model_checkpoint/model_6_100_percent_data\n",
            "Epoch 1/50\n",
            "5627/5627 [==============================] - 352s 62ms/step - loss: 0.8678 - accuracy: 0.8663 - val_loss: 0.8547 - val_accuracy: 0.8721\n",
            "Epoch 2/50\n",
            "5627/5627 [==============================] - 332s 59ms/step - loss: 0.8490 - accuracy: 0.8783 - val_loss: 0.8499 - val_accuracy: 0.8750\n",
            "Epoch 3/50\n",
            "5627/5627 [==============================] - 339s 60ms/step - loss: 0.8355 - accuracy: 0.8877 - val_loss: 0.8441 - val_accuracy: 0.8795\n",
            "Epoch 4/50\n",
            "5627/5627 [==============================] - 323s 57ms/step - loss: 0.8248 - accuracy: 0.8949 - val_loss: 0.8480 - val_accuracy: 0.8757\n",
            "Epoch 5/50\n",
            "5627/5627 [==============================] - 310s 55ms/step - loss: 0.8160 - accuracy: 0.9022 - val_loss: 0.8537 - val_accuracy: 0.8745\n",
            "Epoch 6/50\n",
            "5627/5627 [==============================] - 310s 55ms/step - loss: 0.8076 - accuracy: 0.9074 - val_loss: 0.8539 - val_accuracy: 0.8750\n",
            "Epoch 7/50\n",
            "5627/5627 [==============================] - 308s 55ms/step - loss: 0.8012 - accuracy: 0.9119 - val_loss: 0.8589 - val_accuracy: 0.8715\n",
            "Epoch 8/50\n",
            "5627/5627 [==============================] - 297s 53ms/step - loss: 0.7952 - accuracy: 0.9165 - val_loss: 0.8599 - val_accuracy: 0.8739\n",
            "Epoch 9/50\n",
            "5627/5627 [==============================] - 295s 52ms/step - loss: 0.7898 - accuracy: 0.9203 - val_loss: 0.8568 - val_accuracy: 0.8749\n",
            "Epoch 10/50\n",
            "5627/5627 [==============================] - 297s 53ms/step - loss: 0.7846 - accuracy: 0.9240 - val_loss: 0.8622 - val_accuracy: 0.8729\n"
          ]
        }
      ]
    },
    {
      "cell_type": "code",
      "source": [
        "model_6_100_percent_preds_probs = model_6.predict(valid_token_char_line_number_total_dataset)\n",
        "model_6_100_percent_preds = np.argmax(model_6_100_percent_preds_probs, axis=-1)\n",
        "model_6_100_percent_preds[:10]"
      ],
      "metadata": {
        "colab": {
          "base_uri": "https://localhost:8080/"
        },
        "id": "ZCNmXWFOWUVR",
        "outputId": "9f1ec817-595c-412f-fcf7-d6956fbe9a84"
      },
      "execution_count": null,
      "outputs": [
        {
          "output_type": "stream",
          "name": "stdout",
          "text": [
            "945/945 [==============================] - 21s 22ms/step\n"
          ]
        },
        {
          "output_type": "execute_result",
          "data": {
            "text/plain": [
              "array([0, 0, 3, 2, 2, 4, 4, 4, 4, 1])"
            ]
          },
          "metadata": {},
          "execution_count": 148
        }
      ]
    },
    {
      "cell_type": "code",
      "source": [
        "model_6_100_percent_results = calculate_results(valid_labels_encoded, model_6_100_percent_preds)\n",
        "model_6_100_percent_results"
      ],
      "metadata": {
        "colab": {
          "base_uri": "https://localhost:8080/"
        },
        "id": "5wunsy77WUa-",
        "outputId": "436bb70c-0e00-46f7-bc20-e2efbeb0c915"
      },
      "execution_count": null,
      "outputs": [
        {
          "output_type": "execute_result",
          "data": {
            "text/plain": [
              "{'accuracy_score': 0.8728650867205084,\n",
              " 'precision_score': 0.875382701224152,\n",
              " 'recall_score': 0.8728650867205084,\n",
              " 'f1_score': 0.870100976725829}"
            ]
          },
          "metadata": {},
          "execution_count": 149
        }
      ]
    },
    {
      "cell_type": "code",
      "source": [
        "pd.Series(model_6_100_percent_results).to_csv(\"drive/MyDrive/projects/SkimLit/csv_files\" + \"model_6_100_percent\")"
      ],
      "metadata": {
        "id": "BxfJY8mOjBbv"
      },
      "execution_count": null,
      "outputs": []
    },
    {
      "cell_type": "code",
      "source": [],
      "metadata": {
        "id": "X9ss_wfPla2u"
      },
      "execution_count": null,
      "outputs": []
    },
    {
      "cell_type": "markdown",
      "source": [
        "# Visualize our experiments"
      ],
      "metadata": {
        "id": "v-03UWeMY50L"
      }
    },
    {
      "cell_type": "markdown",
      "source": [
        "## Comparing all model experiments"
      ],
      "metadata": {
        "id": "cW4_5BXVWQg1"
      }
    },
    {
      "cell_type": "code",
      "source": [
        "all_model_results = pd.DataFrame({\"model_1_Conv1D\": model_1_results,\n",
        "                                  \"model_2_LSTM\": model_2_results,\n",
        "                                  \"model_3_TF_HUB_embeddings\": model_3_results,\n",
        "                                  \"model_4_bidirectional\": model_4_results,\n",
        "                                  \"model_5_char_token_embeddings\": model_5_results,\n",
        "                                  \"model_6_char_token_position_embeddings\": model_6_results,\n",
        "                                  \"model_7_char_token_posiition_100_data\": model_6_100_percent_results})\n",
        "all_model_results = all_model_results.T\n",
        "all_model_results"
      ],
      "metadata": {
        "colab": {
          "base_uri": "https://localhost:8080/",
          "height": 313
        },
        "id": "QIHOa45aSMrp",
        "outputId": "e5ecd8b9-ef30-4be5-fd31-3c2ac75fb412"
      },
      "execution_count": null,
      "outputs": [
        {
          "output_type": "execute_result",
          "data": {
            "text/plain": [
              "                                        accuracy_score  precision_score  \\\n",
              "model_1_Conv1D                                0.814246         0.826265   \n",
              "model_2_LSTM                                  0.806766         0.810033   \n",
              "model_3_TF_HUB_embeddings                     0.711307         0.707376   \n",
              "model_4_bidirectional                         0.581160         0.595541   \n",
              "model_5_char_token_embeddings                 0.755230         0.751141   \n",
              "model_6_char_token_position_embeddings        0.862373         0.866974   \n",
              "model_7_char_token_posiition_100_data         0.872865         0.875383   \n",
              "\n",
              "                                        recall_score  f1_score  \n",
              "model_1_Conv1D                              0.814246  0.813197  \n",
              "model_2_LSTM                                0.806766  0.805377  \n",
              "model_3_TF_HUB_embeddings                   0.711307  0.705608  \n",
              "model_4_bidirectional                       0.581160  0.574468  \n",
              "model_5_char_token_embeddings               0.755230  0.749892  \n",
              "model_6_char_token_position_embeddings      0.862373  0.859075  \n",
              "model_7_char_token_posiition_100_data       0.872865  0.870101  "
            ],
            "text/html": [
              "\n",
              "\n",
              "  <div id=\"df-c56ffcb4-f989-4f2c-b8d3-551019fe253c\">\n",
              "    <div class=\"colab-df-container\">\n",
              "      <div>\n",
              "<style scoped>\n",
              "    .dataframe tbody tr th:only-of-type {\n",
              "        vertical-align: middle;\n",
              "    }\n",
              "\n",
              "    .dataframe tbody tr th {\n",
              "        vertical-align: top;\n",
              "    }\n",
              "\n",
              "    .dataframe thead th {\n",
              "        text-align: right;\n",
              "    }\n",
              "</style>\n",
              "<table border=\"1\" class=\"dataframe\">\n",
              "  <thead>\n",
              "    <tr style=\"text-align: right;\">\n",
              "      <th></th>\n",
              "      <th>accuracy_score</th>\n",
              "      <th>precision_score</th>\n",
              "      <th>recall_score</th>\n",
              "      <th>f1_score</th>\n",
              "    </tr>\n",
              "  </thead>\n",
              "  <tbody>\n",
              "    <tr>\n",
              "      <th>model_1_Conv1D</th>\n",
              "      <td>0.814246</td>\n",
              "      <td>0.826265</td>\n",
              "      <td>0.814246</td>\n",
              "      <td>0.813197</td>\n",
              "    </tr>\n",
              "    <tr>\n",
              "      <th>model_2_LSTM</th>\n",
              "      <td>0.806766</td>\n",
              "      <td>0.810033</td>\n",
              "      <td>0.806766</td>\n",
              "      <td>0.805377</td>\n",
              "    </tr>\n",
              "    <tr>\n",
              "      <th>model_3_TF_HUB_embeddings</th>\n",
              "      <td>0.711307</td>\n",
              "      <td>0.707376</td>\n",
              "      <td>0.711307</td>\n",
              "      <td>0.705608</td>\n",
              "    </tr>\n",
              "    <tr>\n",
              "      <th>model_4_bidirectional</th>\n",
              "      <td>0.581160</td>\n",
              "      <td>0.595541</td>\n",
              "      <td>0.581160</td>\n",
              "      <td>0.574468</td>\n",
              "    </tr>\n",
              "    <tr>\n",
              "      <th>model_5_char_token_embeddings</th>\n",
              "      <td>0.755230</td>\n",
              "      <td>0.751141</td>\n",
              "      <td>0.755230</td>\n",
              "      <td>0.749892</td>\n",
              "    </tr>\n",
              "    <tr>\n",
              "      <th>model_6_char_token_position_embeddings</th>\n",
              "      <td>0.862373</td>\n",
              "      <td>0.866974</td>\n",
              "      <td>0.862373</td>\n",
              "      <td>0.859075</td>\n",
              "    </tr>\n",
              "    <tr>\n",
              "      <th>model_7_char_token_posiition_100_data</th>\n",
              "      <td>0.872865</td>\n",
              "      <td>0.875383</td>\n",
              "      <td>0.872865</td>\n",
              "      <td>0.870101</td>\n",
              "    </tr>\n",
              "  </tbody>\n",
              "</table>\n",
              "</div>\n",
              "      <button class=\"colab-df-convert\" onclick=\"convertToInteractive('df-c56ffcb4-f989-4f2c-b8d3-551019fe253c')\"\n",
              "              title=\"Convert this dataframe to an interactive table.\"\n",
              "              style=\"display:none;\">\n",
              "\n",
              "  <svg xmlns=\"http://www.w3.org/2000/svg\" height=\"24px\"viewBox=\"0 0 24 24\"\n",
              "       width=\"24px\">\n",
              "    <path d=\"M0 0h24v24H0V0z\" fill=\"none\"/>\n",
              "    <path d=\"M18.56 5.44l.94 2.06.94-2.06 2.06-.94-2.06-.94-.94-2.06-.94 2.06-2.06.94zm-11 1L8.5 8.5l.94-2.06 2.06-.94-2.06-.94L8.5 2.5l-.94 2.06-2.06.94zm10 10l.94 2.06.94-2.06 2.06-.94-2.06-.94-.94-2.06-.94 2.06-2.06.94z\"/><path d=\"M17.41 7.96l-1.37-1.37c-.4-.4-.92-.59-1.43-.59-.52 0-1.04.2-1.43.59L10.3 9.45l-7.72 7.72c-.78.78-.78 2.05 0 2.83L4 21.41c.39.39.9.59 1.41.59.51 0 1.02-.2 1.41-.59l7.78-7.78 2.81-2.81c.8-.78.8-2.07 0-2.86zM5.41 20L4 18.59l7.72-7.72 1.47 1.35L5.41 20z\"/>\n",
              "  </svg>\n",
              "      </button>\n",
              "\n",
              "\n",
              "\n",
              "    <div id=\"df-ac1bc885-163b-4a19-b00a-b9f4d172cc88\">\n",
              "      <button class=\"colab-df-quickchart\" onclick=\"quickchart('df-ac1bc885-163b-4a19-b00a-b9f4d172cc88')\"\n",
              "              title=\"Suggest charts.\"\n",
              "              style=\"display:none;\">\n",
              "\n",
              "<svg xmlns=\"http://www.w3.org/2000/svg\" height=\"24px\"viewBox=\"0 0 24 24\"\n",
              "     width=\"24px\">\n",
              "    <g>\n",
              "        <path d=\"M19 3H5c-1.1 0-2 .9-2 2v14c0 1.1.9 2 2 2h14c1.1 0 2-.9 2-2V5c0-1.1-.9-2-2-2zM9 17H7v-7h2v7zm4 0h-2V7h2v10zm4 0h-2v-4h2v4z\"/>\n",
              "    </g>\n",
              "</svg>\n",
              "      </button>\n",
              "    </div>\n",
              "\n",
              "<style>\n",
              "  .colab-df-quickchart {\n",
              "    background-color: #E8F0FE;\n",
              "    border: none;\n",
              "    border-radius: 50%;\n",
              "    cursor: pointer;\n",
              "    display: none;\n",
              "    fill: #1967D2;\n",
              "    height: 32px;\n",
              "    padding: 0 0 0 0;\n",
              "    width: 32px;\n",
              "  }\n",
              "\n",
              "  .colab-df-quickchart:hover {\n",
              "    background-color: #E2EBFA;\n",
              "    box-shadow: 0px 1px 2px rgba(60, 64, 67, 0.3), 0px 1px 3px 1px rgba(60, 64, 67, 0.15);\n",
              "    fill: #174EA6;\n",
              "  }\n",
              "\n",
              "  [theme=dark] .colab-df-quickchart {\n",
              "    background-color: #3B4455;\n",
              "    fill: #D2E3FC;\n",
              "  }\n",
              "\n",
              "  [theme=dark] .colab-df-quickchart:hover {\n",
              "    background-color: #434B5C;\n",
              "    box-shadow: 0px 1px 3px 1px rgba(0, 0, 0, 0.15);\n",
              "    filter: drop-shadow(0px 1px 2px rgba(0, 0, 0, 0.3));\n",
              "    fill: #FFFFFF;\n",
              "  }\n",
              "</style>\n",
              "\n",
              "    <script>\n",
              "      async function quickchart(key) {\n",
              "        const containerElement = document.querySelector('#' + key);\n",
              "        const charts = await google.colab.kernel.invokeFunction(\n",
              "            'suggestCharts', [key], {});\n",
              "      }\n",
              "    </script>\n",
              "\n",
              "      <script>\n",
              "\n",
              "function displayQuickchartButton(domScope) {\n",
              "  let quickchartButtonEl =\n",
              "    domScope.querySelector('#df-ac1bc885-163b-4a19-b00a-b9f4d172cc88 button.colab-df-quickchart');\n",
              "  quickchartButtonEl.style.display =\n",
              "    google.colab.kernel.accessAllowed ? 'block' : 'none';\n",
              "}\n",
              "\n",
              "        displayQuickchartButton(document);\n",
              "      </script>\n",
              "      <style>\n",
              "    .colab-df-container {\n",
              "      display:flex;\n",
              "      flex-wrap:wrap;\n",
              "      gap: 12px;\n",
              "    }\n",
              "\n",
              "    .colab-df-convert {\n",
              "      background-color: #E8F0FE;\n",
              "      border: none;\n",
              "      border-radius: 50%;\n",
              "      cursor: pointer;\n",
              "      display: none;\n",
              "      fill: #1967D2;\n",
              "      height: 32px;\n",
              "      padding: 0 0 0 0;\n",
              "      width: 32px;\n",
              "    }\n",
              "\n",
              "    .colab-df-convert:hover {\n",
              "      background-color: #E2EBFA;\n",
              "      box-shadow: 0px 1px 2px rgba(60, 64, 67, 0.3), 0px 1px 3px 1px rgba(60, 64, 67, 0.15);\n",
              "      fill: #174EA6;\n",
              "    }\n",
              "\n",
              "    [theme=dark] .colab-df-convert {\n",
              "      background-color: #3B4455;\n",
              "      fill: #D2E3FC;\n",
              "    }\n",
              "\n",
              "    [theme=dark] .colab-df-convert:hover {\n",
              "      background-color: #434B5C;\n",
              "      box-shadow: 0px 1px 3px 1px rgba(0, 0, 0, 0.15);\n",
              "      filter: drop-shadow(0px 1px 2px rgba(0, 0, 0, 0.3));\n",
              "      fill: #FFFFFF;\n",
              "    }\n",
              "  </style>\n",
              "\n",
              "      <script>\n",
              "        const buttonEl =\n",
              "          document.querySelector('#df-c56ffcb4-f989-4f2c-b8d3-551019fe253c button.colab-df-convert');\n",
              "        buttonEl.style.display =\n",
              "          google.colab.kernel.accessAllowed ? 'block' : 'none';\n",
              "\n",
              "        async function convertToInteractive(key) {\n",
              "          const element = document.querySelector('#df-c56ffcb4-f989-4f2c-b8d3-551019fe253c');\n",
              "          const dataTable =\n",
              "            await google.colab.kernel.invokeFunction('convertToInteractive',\n",
              "                                                     [key], {});\n",
              "          if (!dataTable) return;\n",
              "\n",
              "          const docLinkHtml = 'Like what you see? Visit the ' +\n",
              "            '<a target=\"_blank\" href=https://colab.research.google.com/notebooks/data_table.ipynb>data table notebook</a>'\n",
              "            + ' to learn more about interactive tables.';\n",
              "          element.innerHTML = '';\n",
              "          dataTable['output_type'] = 'display_data';\n",
              "          await google.colab.output.renderOutput(dataTable, element);\n",
              "          const docLink = document.createElement('div');\n",
              "          docLink.innerHTML = docLinkHtml;\n",
              "          element.appendChild(docLink);\n",
              "        }\n",
              "      </script>\n",
              "    </div>\n",
              "  </div>\n"
            ]
          },
          "metadata": {},
          "execution_count": 152
        }
      ]
    },
    {
      "cell_type": "code",
      "source": [
        "all_model_results.to_csv(\"/content/drive/MyDrive/projects/SkimLit/csv_files/all_model_results\")"
      ],
      "metadata": {
        "id": "V2VyWRSKYIke"
      },
      "execution_count": null,
      "outputs": []
    },
    {
      "cell_type": "code",
      "source": [
        "# Plot and compare all model results\n",
        "all_model_results.plot(kind=\"bar\", figsize=(10, 5), rot=30).legend(bbox_to_anchor=(1.0, 1.0));"
      ],
      "metadata": {
        "colab": {
          "base_uri": "https://localhost:8080/",
          "height": 458
        },
        "id": "1W3Mgfv5VCQh",
        "outputId": "00548c9f-33d6-42cd-ea31-7d3e6746c5dc"
      },
      "execution_count": null,
      "outputs": [
        {
          "output_type": "display_data",
          "data": {
            "text/plain": [
              "<Figure size 1000x500 with 1 Axes>"
            ],
            "image/png": "[encoded data removed]"
          },
          "metadata": {}
        }
      ]
    },
    {
      "cell_type": "markdown",
      "source": [
        "## Build plot for F1 score"
      ],
      "metadata": {
        "id": "RJbZ1Bi3Y24M"
      }
    },
    {
      "cell_type": "code",
      "source": [
        "all_model_results.sort_values(by=\"f1_score\", ascending=False).loc[:, \"f1_score\"].plot(kind=\"bar\", rot=30, figsize=(15, 5));"
      ],
      "metadata": {
        "colab": {
          "base_uri": "https://localhost:8080/",
          "height": 374
        },
        "id": "Hp_Ux1eqY49X",
        "outputId": "02d173ae-eef3-4e0f-9e4e-21b75426b817"
      },
      "execution_count": null,
      "outputs": [
        {
          "output_type": "display_data",
          "data": {
            "text/plain": [
              "<Figure size 1500x500 with 1 Axes>"
            ],
            "image/png": "[encoded data removed]"
          },
          "metadata": {}
        }
      ]
    },
    {
      "cell_type": "markdown",
      "source": [
        "## Build confusion matrix based on model_6 predictions"
      ],
      "metadata": {
        "id": "W3y1u6FQYGYX"
      }
    },
    {
      "cell_type": "code",
      "source": [
        "from sklearn.metrics import confusion_matrix\n",
        "\n",
        "cm = confusion_matrix(valid_labels_encoded, model_6_100_percent_preds)\n",
        "pd.DataFrame(cm)"
      ],
      "metadata": {
        "id": "oQowrvw4YnfZ",
        "colab": {
          "base_uri": "https://localhost:8080/",
          "height": 206
        },
        "outputId": "c6c4f255-88a3-44f6-ebd3-a5ea8294c35f"
      },
      "execution_count": null,
      "outputs": [
        {
          "output_type": "execute_result",
          "data": {
            "text/plain": [
              "      0     1     2     3     4\n",
              "0  2996    29   172   239    13\n",
              "1    50  4083    28     1   420\n",
              "2   103    39  9158    29   635\n",
              "3  1074     0   117  1182     3\n",
              "4    15   296   578     0  8952"
            ],
            "text/html": [
              "\n",
              "\n",
              "  <div id=\"df-5b77dc5a-356f-45d4-8c92-0cbbb6f642ea\">\n",
              "    <div class=\"colab-df-container\">\n",
              "      <div>\n",
              "<style scoped>\n",
              "    .dataframe tbody tr th:only-of-type {\n",
              "        vertical-align: middle;\n",
              "    }\n",
              "\n",
              "    .dataframe tbody tr th {\n",
              "        vertical-align: top;\n",
              "    }\n",
              "\n",
              "    .dataframe thead th {\n",
              "        text-align: right;\n",
              "    }\n",
              "</style>\n",
              "<table border=\"1\" class=\"dataframe\">\n",
              "  <thead>\n",
              "    <tr style=\"text-align: right;\">\n",
              "      <th></th>\n",
              "      <th>0</th>\n",
              "      <th>1</th>\n",
              "      <th>2</th>\n",
              "      <th>3</th>\n",
              "      <th>4</th>\n",
              "    </tr>\n",
              "  </thead>\n",
              "  <tbody>\n",
              "    <tr>\n",
              "      <th>0</th>\n",
              "      <td>2996</td>\n",
              "      <td>29</td>\n",
              "      <td>172</td>\n",
              "      <td>239</td>\n",
              "      <td>13</td>\n",
              "    </tr>\n",
              "    <tr>\n",
              "      <th>1</th>\n",
              "      <td>50</td>\n",
              "      <td>4083</td>\n",
              "      <td>28</td>\n",
              "      <td>1</td>\n",
              "      <td>420</td>\n",
              "    </tr>\n",
              "    <tr>\n",
              "      <th>2</th>\n",
              "      <td>103</td>\n",
              "      <td>39</td>\n",
              "      <td>9158</td>\n",
              "      <td>29</td>\n",
              "      <td>635</td>\n",
              "    </tr>\n",
              "    <tr>\n",
              "      <th>3</th>\n",
              "      <td>1074</td>\n",
              "      <td>0</td>\n",
              "      <td>117</td>\n",
              "      <td>1182</td>\n",
              "      <td>3</td>\n",
              "    </tr>\n",
              "    <tr>\n",
              "      <th>4</th>\n",
              "      <td>15</td>\n",
              "      <td>296</td>\n",
              "      <td>578</td>\n",
              "      <td>0</td>\n",
              "      <td>8952</td>\n",
              "    </tr>\n",
              "  </tbody>\n",
              "</table>\n",
              "</div>\n",
              "      <button class=\"colab-df-convert\" onclick=\"convertToInteractive('df-5b77dc5a-356f-45d4-8c92-0cbbb6f642ea')\"\n",
              "              title=\"Convert this dataframe to an interactive table.\"\n",
              "              style=\"display:none;\">\n",
              "\n",
              "  <svg xmlns=\"http://www.w3.org/2000/svg\" height=\"24px\"viewBox=\"0 0 24 24\"\n",
              "       width=\"24px\">\n",
              "    <path d=\"M0 0h24v24H0V0z\" fill=\"none\"/>\n",
              "    <path d=\"M18.56 5.44l.94 2.06.94-2.06 2.06-.94-2.06-.94-.94-2.06-.94 2.06-2.06.94zm-11 1L8.5 8.5l.94-2.06 2.06-.94-2.06-.94L8.5 2.5l-.94 2.06-2.06.94zm10 10l.94 2.06.94-2.06 2.06-.94-2.06-.94-.94-2.06-.94 2.06-2.06.94z\"/><path d=\"M17.41 7.96l-1.37-1.37c-.4-.4-.92-.59-1.43-.59-.52 0-1.04.2-1.43.59L10.3 9.45l-7.72 7.72c-.78.78-.78 2.05 0 2.83L4 21.41c.39.39.9.59 1.41.59.51 0 1.02-.2 1.41-.59l7.78-7.78 2.81-2.81c.8-.78.8-2.07 0-2.86zM5.41 20L4 18.59l7.72-7.72 1.47 1.35L5.41 20z\"/>\n",
              "  </svg>\n",
              "      </button>\n",
              "\n",
              "\n",
              "\n",
              "    <div id=\"df-908e392a-39f7-47fd-acf7-93f49da20aa7\">\n",
              "      <button class=\"colab-df-quickchart\" onclick=\"quickchart('df-908e392a-39f7-47fd-acf7-93f49da20aa7')\"\n",
              "              title=\"Suggest charts.\"\n",
              "              style=\"display:none;\">\n",
              "\n",
              "<svg xmlns=\"http://www.w3.org/2000/svg\" height=\"24px\"viewBox=\"0 0 24 24\"\n",
              "     width=\"24px\">\n",
              "    <g>\n",
              "        <path d=\"M19 3H5c-1.1 0-2 .9-2 2v14c0 1.1.9 2 2 2h14c1.1 0 2-.9 2-2V5c0-1.1-.9-2-2-2zM9 17H7v-7h2v7zm4 0h-2V7h2v10zm4 0h-2v-4h2v4z\"/>\n",
              "    </g>\n",
              "</svg>\n",
              "      </button>\n",
              "    </div>\n",
              "\n",
              "<style>\n",
              "  .colab-df-quickchart {\n",
              "    background-color: #E8F0FE;\n",
              "    border: none;\n",
              "    border-radius: 50%;\n",
              "    cursor: pointer;\n",
              "    display: none;\n",
              "    fill: #1967D2;\n",
              "    height: 32px;\n",
              "    padding: 0 0 0 0;\n",
              "    width: 32px;\n",
              "  }\n",
              "\n",
              "  .colab-df-quickchart:hover {\n",
              "    background-color: #E2EBFA;\n",
              "    box-shadow: 0px 1px 2px rgba(60, 64, 67, 0.3), 0px 1px 3px 1px rgba(60, 64, 67, 0.15);\n",
              "    fill: #174EA6;\n",
              "  }\n",
              "\n",
              "  [theme=dark] .colab-df-quickchart {\n",
              "    background-color: #3B4455;\n",
              "    fill: #D2E3FC;\n",
              "  }\n",
              "\n",
              "  [theme=dark] .colab-df-quickchart:hover {\n",
              "    background-color: #434B5C;\n",
              "    box-shadow: 0px 1px 3px 1px rgba(0, 0, 0, 0.15);\n",
              "    filter: drop-shadow(0px 1px 2px rgba(0, 0, 0, 0.3));\n",
              "    fill: #FFFFFF;\n",
              "  }\n",
              "</style>\n",
              "\n",
              "    <script>\n",
              "      async function quickchart(key) {\n",
              "        const containerElement = document.querySelector('#' + key);\n",
              "        const charts = await google.colab.kernel.invokeFunction(\n",
              "            'suggestCharts', [key], {});\n",
              "      }\n",
              "    </script>\n",
              "\n",
              "      <script>\n",
              "\n",
              "function displayQuickchartButton(domScope) {\n",
              "  let quickchartButtonEl =\n",
              "    domScope.querySelector('#df-908e392a-39f7-47fd-acf7-93f49da20aa7 button.colab-df-quickchart');\n",
              "  quickchartButtonEl.style.display =\n",
              "    google.colab.kernel.accessAllowed ? 'block' : 'none';\n",
              "}\n",
              "\n",
              "        displayQuickchartButton(document);\n",
              "      </script>\n",
              "      <style>\n",
              "    .colab-df-container {\n",
              "      display:flex;\n",
              "      flex-wrap:wrap;\n",
              "      gap: 12px;\n",
              "    }\n",
              "\n",
              "    .colab-df-convert {\n",
              "      background-color: #E8F0FE;\n",
              "      border: none;\n",
              "      border-radius: 50%;\n",
              "      cursor: pointer;\n",
              "      display: none;\n",
              "      fill: #1967D2;\n",
              "      height: 32px;\n",
              "      padding: 0 0 0 0;\n",
              "      width: 32px;\n",
              "    }\n",
              "\n",
              "    .colab-df-convert:hover {\n",
              "      background-color: #E2EBFA;\n",
              "      box-shadow: 0px 1px 2px rgba(60, 64, 67, 0.3), 0px 1px 3px 1px rgba(60, 64, 67, 0.15);\n",
              "      fill: #174EA6;\n",
              "    }\n",
              "\n",
              "    [theme=dark] .colab-df-convert {\n",
              "      background-color: #3B4455;\n",
              "      fill: #D2E3FC;\n",
              "    }\n",
              "\n",
              "    [theme=dark] .colab-df-convert:hover {\n",
              "      background-color: #434B5C;\n",
              "      box-shadow: 0px 1px 3px 1px rgba(0, 0, 0, 0.15);\n",
              "      filter: drop-shadow(0px 1px 2px rgba(0, 0, 0, 0.3));\n",
              "      fill: #FFFFFF;\n",
              "    }\n",
              "  </style>\n",
              "\n",
              "      <script>\n",
              "        const buttonEl =\n",
              "          document.querySelector('#df-5b77dc5a-356f-45d4-8c92-0cbbb6f642ea button.colab-df-convert');\n",
              "        buttonEl.style.display =\n",
              "          google.colab.kernel.accessAllowed ? 'block' : 'none';\n",
              "\n",
              "        async function convertToInteractive(key) {\n",
              "          const element = document.querySelector('#df-5b77dc5a-356f-45d4-8c92-0cbbb6f642ea');\n",
              "          const dataTable =\n",
              "            await google.colab.kernel.invokeFunction('convertToInteractive',\n",
              "                                                     [key], {});\n",
              "          if (!dataTable) return;\n",
              "\n",
              "          const docLinkHtml = 'Like what you see? Visit the ' +\n",
              "            '<a target=\"_blank\" href=https://colab.research.google.com/notebooks/data_table.ipynb>data table notebook</a>'\n",
              "            + ' to learn more about interactive tables.';\n",
              "          element.innerHTML = '';\n",
              "          dataTable['output_type'] = 'display_data';\n",
              "          await google.colab.output.renderOutput(dataTable, element);\n",
              "          const docLink = document.createElement('div');\n",
              "          docLink.innerHTML = docLinkHtml;\n",
              "          element.appendChild(docLink);\n",
              "        }\n",
              "      </script>\n",
              "    </div>\n",
              "  </div>\n"
            ]
          },
          "metadata": {},
          "execution_count": 157
        }
      ]
    },
    {
      "cell_type": "code",
      "source": [
        "import seaborn as sns\n",
        "\n",
        "fig = plt.figure(figsize=(20, 10))\n",
        "sns.heatmap(cm,\n",
        "            annot=True,\n",
        "            fmt='.0f');"
      ],
      "metadata": {
        "id": "RsMZ4gaVY0QY",
        "colab": {
          "base_uri": "https://localhost:8080/",
          "height": 444
        },
        "outputId": "a3f03086-51c3-458c-a7b4-10815cda8d73"
      },
      "execution_count": null,
      "outputs": [
        {
          "output_type": "display_data",
          "data": {
            "text/plain": [
              "<Figure size 2000x1000 with 2 Axes>"
            ],
            "image/png": "[encoded data removed]"
          },
          "metadata": {}
        }
      ]
    },
    {
      "cell_type": "markdown",
      "source": [
        "# Use our model on our custom abstract"
      ],
      "metadata": {
        "id": "aBkvY_ndfnMD"
      }
    },
    {
      "cell_type": "code",
      "source": [
        "def get_one_single_line_in_file(filename, filename_2=\"drive/MyDrive/projects/SkimLit/preprocessed_test.txt\"):\n",
        "  lines = []\n",
        "  with open(filename, \"r\") as f:\n",
        "    for line in f:\n",
        "      lines.append(line.strip())\n",
        "  line_string = \" \".join(lines)\n",
        "  with open(filename_2, \"w\") as f:\n",
        "    for sentence in line_string:\n",
        "      f.write(sentence)"
      ],
      "metadata": {
        "id": "NZGq9ihxehrZ"
      },
      "execution_count": 231,
      "outputs": []
    },
    {
      "cell_type": "code",
      "source": [
        "get_one_single_line_in_file(\"drive/MyDrive/projects/SkimLit/test.txt\")"
      ],
      "metadata": {
        "id": "VzIYDRLQe0Uy"
      },
      "execution_count": 232,
      "outputs": []
    },
    {
      "cell_type": "code",
      "source": [
        "def split_sentence_into_characters(sentence):\n",
        "    return \" \".join(list(sentence))\n",
        "\n",
        "\n",
        "def preprocess_data_from_some_article(filename,\n",
        "                                      representative_line_number_number=15,\n",
        "                                      representative_total_line_number=20):\n",
        "    with open(filename, \"r\") as f:\n",
        "        file = f.readlines()\n",
        "\n",
        "    all_sentences = \"\"\n",
        "    for line in file:\n",
        "        all_sentences += str(line)\n",
        "    # Split data into array, each element is going to be some sentence\n",
        "    all_sentences = all_sentences.split(\". \")\n",
        "    all_sentences = list(filter(lambda sentence: len(sentence) > 1, all_sentences))\n",
        "    # Now create line_number and total_lines features (feature engineering)\n",
        "    total_lines = [len(all_sentences) - 1 for _ in range(len(all_sentences))]\n",
        "    print(f\"Total number of words: {total_lines}\")\n",
        "    line_number = [i for i in range(len(all_sentences))]\n",
        "    print(f\"Line numbers indexes: {line_number}\")\n",
        "\n",
        "    # Create token sentences (one of four types of inputs done)\n",
        "    token_sentences = all_sentences\n",
        "\n",
        "    # Now create char sentences\n",
        "    char_sentences = [split_sentence_into_characters(sentence) for sentence in all_sentences]\n",
        "\n",
        "    # Return token sentences, char sentences, line_number one-hot-encoded, total_lines one-hot-encoded\n",
        "    return (token_sentences,\n",
        "            char_sentences,\n",
        "            tf.one_hot(line_number, depth=representative_line_number_number),\n",
        "            tf.one_hot(total_lines, depth=representative_total_line_number))"
      ],
      "metadata": {
        "id": "cZZxI82dgjzX"
      },
      "execution_count": 233,
      "outputs": []
    },
    {
      "cell_type": "code",
      "source": [
        "own_token_sentences, own_char_sentences, own_line_number, own_total_lines = preprocess_data_from_some_article(\"drive/MyDrive/projects/SkimLit/preprocessed_test.txt\")"
      ],
      "metadata": {
        "colab": {
          "base_uri": "https://localhost:8080/"
        },
        "id": "HDQZ5UNt4Tuz",
        "outputId": "fedae589-7d85-42bb-a55b-5994320e12cb"
      },
      "execution_count": 234,
      "outputs": [
        {
          "output_type": "stream",
          "name": "stdout",
          "text": [
            "Total number of words: [9, 9, 9, 9, 9, 9, 9, 9, 9, 9]\n",
            "Line numbers indexes: [0, 1, 2, 3, 4, 5, 6, 7, 8, 9]\n"
          ]
        }
      ]
    },
    {
      "cell_type": "code",
      "source": [
        "own_random_labels = []\n",
        "for _ in range(len(own_token_sentences)):\n",
        "  own_random_labels.append([1., 0, 0, 0, 0])\n",
        "\n",
        "own_random_labels[:5]"
      ],
      "metadata": {
        "colab": {
          "base_uri": "https://localhost:8080/"
        },
        "id": "P1cDjXIhRFOA",
        "outputId": "5aaf6ad1-5b2b-453c-bc07-88f887b2e682"
      },
      "execution_count": 235,
      "outputs": [
        {
          "output_type": "execute_result",
          "data": {
            "text/plain": [
              "[[1.0, 0, 0, 0, 0],\n",
              " [1.0, 0, 0, 0, 0],\n",
              " [1.0, 0, 0, 0, 0],\n",
              " [1.0, 0, 0, 0, 0],\n",
              " [1.0, 0, 0, 0, 0]]"
            ]
          },
          "metadata": {},
          "execution_count": 235
        }
      ]
    },
    {
      "cell_type": "code",
      "source": [
        "# Arleady so I commented below lines\n",
        "\n",
        "# final_model = load_model(\"model_6_10_percent_data\", \"/content/drive/MyDrive/projects/SkimLit/model_checkpoint\")\n",
        "# final_model"
      ],
      "metadata": {
        "id": "vihp9sWFM8rL"
      },
      "execution_count": 208,
      "outputs": []
    },
    {
      "cell_type": "markdown",
      "source": [
        "## Create data pipelines for our own custom data"
      ],
      "metadata": {
        "id": "hAT-SPnlOc78"
      }
    },
    {
      "cell_type": "code",
      "source": [
        "own_token_char_line_number_total_dataset_ = tf.data.Dataset.from_tensor_slices((own_token_sentences,\n",
        "                                                                                own_char_sentences,\n",
        "                                                                                own_line_number,\n",
        "                                                                                own_total_lines)).prefetch(tf.data.AUTOTUNE)\n",
        "# Dataset for labels\n",
        "own_token_char_line_number_total_labels = tf.data.Dataset.from_tensor_slices(own_random_labels)\n",
        "\n",
        "\n",
        "# Combined sentences, line_numbers, total_lines and one-hot encoded labels\n",
        "own_token_char_line_number_total_dataset = tf.data.Dataset.zip((own_token_char_line_number_total_dataset_,\n",
        "                                                                  own_token_char_line_number_total_labels)).batch(BATCH_SIZE).prefetch(tf.data.AUTOTUNE)\n",
        "# Check if our dataset is correctly prefetched\n",
        "own_token_char_line_number_total_dataset"
      ],
      "metadata": {
        "colab": {
          "base_uri": "https://localhost:8080/"
        },
        "id": "ZEEGNsQPOPYy",
        "outputId": "1a85513b-8026-4988-8b58-73e494b89f2d"
      },
      "execution_count": 209,
      "outputs": [
        {
          "output_type": "execute_result",
          "data": {
            "text/plain": [
              "<_PrefetchDataset element_spec=((TensorSpec(shape=(None,), dtype=tf.string, name=None), TensorSpec(shape=(None,), dtype=tf.string, name=None), TensorSpec(shape=(None, 15), dtype=tf.float32, name=None), TensorSpec(shape=(None, 20), dtype=tf.float32, name=None)), TensorSpec(shape=(None, 5), dtype=tf.float32, name=None))>"
            ]
          },
          "metadata": {},
          "execution_count": 209
        }
      ]
    },
    {
      "cell_type": "code",
      "source": [
        "final_model_preds_probs = final_model.predict(own_token_char_line_number_total_dataset)\n",
        "final_model_preds_probs[:5]"
      ],
      "metadata": {
        "colab": {
          "base_uri": "https://localhost:8080/"
        },
        "id": "6zHemY1KPBi0",
        "outputId": "0c597f4a-2c9d-4ece-ab51-50429b61ace3"
      },
      "execution_count": 210,
      "outputs": [
        {
          "output_type": "stream",
          "name": "stdout",
          "text": [
            "1/1 [==============================] - 0s 122ms/step\n"
          ]
        },
        {
          "output_type": "execute_result",
          "data": {
            "text/plain": [
              "array([[0.3875134 , 0.03255567, 0.11660347, 0.3717548 , 0.09157258],\n",
              "       [0.27150676, 0.02299358, 0.3978807 , 0.23923841, 0.06838074],\n",
              "       [0.11291058, 0.03057126, 0.64741683, 0.09864698, 0.1104544 ],\n",
              "       [0.14542899, 0.03729133, 0.5985169 , 0.08848654, 0.13027628],\n",
              "       [0.09364188, 0.05528347, 0.4681506 , 0.06516858, 0.3177554 ]],\n",
              "      dtype=float32)"
            ]
          },
          "metadata": {},
          "execution_count": 210
        }
      ]
    },
    {
      "cell_type": "code",
      "source": [
        "final_model_preds = np.argmax(final_model_preds_probs, axis=-1)\n",
        "# Save it as a csv file\n",
        "pd.Series(final_model_preds).to_csv(\"drive/MyDrive/projects/SkimLit/own_custom_preds\")\n",
        "final_model_preds"
      ],
      "metadata": {
        "colab": {
          "base_uri": "https://localhost:8080/"
        },
        "id": "N1NY_U9zR5_7",
        "outputId": "89aec35e-9c87-41a3-851e-7e74631dc7cf"
      },
      "execution_count": 211,
      "outputs": [
        {
          "output_type": "execute_result",
          "data": {
            "text/plain": [
              "array([0, 2, 2, 2, 2, 4, 4, 4, 4, 4])"
            ]
          },
          "metadata": {},
          "execution_count": 211
        }
      ]
    },
    {
      "cell_type": "code",
      "source": [
        "CLASS_NAMES"
      ],
      "metadata": {
        "colab": {
          "base_uri": "https://localhost:8080/"
        },
        "id": "VNcf922GSQ9L",
        "outputId": "9bc054e3-ee9c-4f96-cf92-5e5bedfabbd3"
      },
      "execution_count": 212,
      "outputs": [
        {
          "output_type": "execute_result",
          "data": {
            "text/plain": [
              "array(['BACKGROUND', 'CONCLUSIONS', 'METHODS', 'OBJECTIVE', 'RESULTS'],\n",
              "      dtype=object)"
            ]
          },
          "metadata": {},
          "execution_count": 212
        }
      ]
    },
    {
      "cell_type": "markdown",
      "source": [
        "## Formatting model predictions"
      ],
      "metadata": {
        "id": "ExDBdEbUS8cr"
      }
    },
    {
      "cell_type": "code",
      "source": [
        "def output_lines_from_own_file(filename):\n",
        "  with open(filename, \"r\") as f:\n",
        "      file = f.readlines()\n",
        "\n",
        "  all_sentences = \"\"\n",
        "  for line in file:\n",
        "      all_sentences += str(line)\n",
        "  # Split data into array, each element is going to be some sentence\n",
        "  all_sentences = all_sentences.split(\". \")\n",
        "  all_sentences = list(filter(lambda sentence: len(sentence) > 1, all_sentences))\n",
        "  return all_sentences"
      ],
      "metadata": {
        "id": "Twzxyi59S-a0"
      },
      "execution_count": 213,
      "outputs": []
    },
    {
      "cell_type": "code",
      "source": [
        "own_file_lines = output_lines_from_own_file(\"drive/MyDrive/projects/SkimLit/preprocessed_test.txt\")"
      ],
      "metadata": {
        "id": "lUwxvZi9TOeX"
      },
      "execution_count": 214,
      "outputs": []
    },
    {
      "cell_type": "code",
      "source": [
        "def create_and_write_model_results_to_file(predictions, lines, filename=\"drive/MyDrive/projects/SkimLit/results.txt\"):\n",
        "  target_line_dictionary = {}\n",
        "\n",
        "  how_many_repeats = 0\n",
        "  previous = \"-\"\n",
        "  with open(filename, \"w\") as f:\n",
        "    for idx, line in enumerate(lines):\n",
        "\n",
        "      target_prediction = CLASS_NAMES[predictions[idx]]\n",
        "      if target_prediction == previous and how_many_repeats < 6:\n",
        "        f.write(f\"\\t\\t{line}.\\n\")\n",
        "        previous = target_prediction\n",
        "        how_many_repeats += 1\n",
        "\n",
        "      else:\n",
        "        how_many_repeats = 0\n",
        "        if idx == 0:\n",
        "          f.write(f\"{str(target_prediction).title()}\\n\")\n",
        "        else:\n",
        "          f.write(f\"\\n\\n{str(target_prediction).title()}\\n\")\n",
        "        f.write(f\"\\t\\t{line}.\")\n",
        "        previous = target_prediction"
      ],
      "metadata": {
        "id": "lB5LFNy_TeMs"
      },
      "execution_count": 215,
      "outputs": []
    },
    {
      "cell_type": "code",
      "source": [
        "create_and_write_model_results_to_file(final_model_preds, own_file_lines)"
      ],
      "metadata": {
        "id": "jpTfeNpbVZT3"
      },
      "execution_count": 216,
      "outputs": []
    },
    {
      "cell_type": "markdown",
      "source": [
        "# Combine Everything in one cell"
      ],
      "metadata": {
        "id": "PskxQNxCmfB_"
      }
    },
    {
      "cell_type": "code",
      "source": [
        "# This function reads any file and writes every sentence to another file, but now everything will be in one line\n",
        "def get_one_single_line_in_file(filename, filename_2=\"drive/MyDrive/projects/SkimLit/preprocessed_test.txt\"):\n",
        "  \"\"\"\n",
        "  File that contains original text (path on my own google drive): \"drive/MyDrive/projects/SkimLit/test.txt\".\n",
        "  File that will contain everything in one line (path on my own google drive): \"drive/MyDrive/projects/SkimLit/preprocessed_test.txt\".\n",
        "  \"\"\"\n",
        "  lines = []\n",
        "  with open(filename, \"r\") as f:\n",
        "    for line in f:\n",
        "      lines.append(line.strip())\n",
        "  line_string = \" \".join(lines)\n",
        "  with open(filename_2, \"w\") as f:\n",
        "    for sentence in line_string:\n",
        "      f.write(sentence)\n",
        "\n",
        "# This function split sentence into single characters (will be useful when creating char embeddings)\n",
        "def split_sentence_into_characters(sentence):\n",
        "    return \" \".join(list(sentence))\n",
        "\n",
        "# This file reads preprocessed file (file was preprocessed by first function in this cell) and returns all types of inputs that we need for our model\n",
        "def preprocess_data_from_some_article(filename,\n",
        "                                      representative_line_number_number=15,\n",
        "                                      representative_total_line_number=20):\n",
        "    with open(filename, \"r\") as f:\n",
        "        file = f.readlines()\n",
        "\n",
        "    all_sentences = \"\"\n",
        "    for line in file:\n",
        "        all_sentences += str(line)\n",
        "    # Split data into array, each element is going to be some sentence\n",
        "    all_sentences = all_sentences.split(\". \")\n",
        "    all_sentences = list(filter(lambda sentence: len(sentence) > 1, all_sentences))\n",
        "    # Now create line_number and total_lines features (feature engineering)\n",
        "    total_lines = [len(all_sentences) - 1 for _ in range(len(all_sentences))]\n",
        "    print(f\"Total number of words: {total_lines}\")\n",
        "    line_number = [i for i in range(len(all_sentences))]\n",
        "    print(f\"Line numbers indexes: {line_number}\")\n",
        "\n",
        "    # Create token sentences (one of four types of inputs done)\n",
        "    token_sentences = all_sentences\n",
        "\n",
        "    # Now create char sentences\n",
        "    char_sentences = [split_sentence_into_characters(sentence) for sentence in all_sentences]\n",
        "\n",
        "    # Return token sentences, char sentences, line_number one-hot-encoded, total_lines one-hot-encoded\n",
        "    return (token_sentences,\n",
        "            char_sentences,\n",
        "            tf.one_hot(line_number, depth=representative_line_number_number),\n",
        "            tf.one_hot(total_lines, depth=representative_total_line_number))\n",
        "\n",
        "# This function creates some random labels (necessary for our datasets)\n",
        "def create_own_labels(own_token_sentences):\n",
        "  own_random_labels = []\n",
        "  for _ in range(len(own_token_sentences)):\n",
        "    own_random_labels.append([1., 0, 0, 0, 0])\n",
        "  return own_random_labels\n",
        "\n",
        "\n",
        "# This function creates efficient pipelines for our datasets\n",
        "def create_own_datasets(own_token_sentences, own_char_sentences, own_line_number, own_total_lines, own_random_labels):\n",
        "  own_token_char_line_number_total_dataset_ = tf.data.Dataset.from_tensor_slices((own_token_sentences,\n",
        "                                                                                  own_char_sentences,\n",
        "                                                                                  own_line_number,\n",
        "                                                                                  own_total_lines)).cache()\n",
        "  # Dataset for labels\n",
        "  own_token_char_line_number_total_labels = tf.data.Dataset.from_tensor_slices(own_random_labels)\n",
        "\n",
        "\n",
        "  # Combined sentences, line_numbers, total_lines and one-hot encoded labels\n",
        "  own_token_char_line_number_total_dataset = tf.data.Dataset.zip((own_token_char_line_number_total_dataset_,\n",
        "                                                                    own_token_char_line_number_total_labels)).batch(BATCH_SIZE).prefetch(tf.data.AUTOTUNE)\n",
        "  # Check if our dataset is correctly prefetched\n",
        "  return own_token_char_line_number_total_dataset\n",
        "\n",
        "\n",
        "# This function returns encoded predictions that our model has made\n",
        "def get_model_preds(final_model, own_dataset):\n",
        "  final_model_preds_probs = final_model.predict(own_dataset)\n",
        "  final_model_preds = np.argmax(final_model_preds_probs, axis=-1)\n",
        "  # Save above predictions as a csv file\n",
        "  pd.Series(final_model_preds).to_csv(\"drive/MyDrive/projects/SkimLit/own_custom_preds\")\n",
        "  return final_model_preds\n",
        "\n",
        "# This function gives all lines form original abstract\n",
        "def output_lines_from_own_file(filename):\n",
        "  with open(filename, \"r\") as f:\n",
        "      file = f.readlines()\n",
        "\n",
        "  all_sentences = \"\"\n",
        "  for line in file:\n",
        "      all_sentences += str(line)\n",
        "  # Split data into array, each element is going to be some sentence\n",
        "  all_sentences = all_sentences.split(\". \")\n",
        "  all_sentences = list(filter(lambda sentence: len(sentence) > 1, all_sentences))\n",
        "  return all_sentences\n",
        "\n",
        "# This function gets model predictions and lines from article and write them in appropriate form to result.txt file\n",
        "def create_and_write_model_results_to_file(predictions, lines, filename=\"drive/MyDrive/projects/SkimLit/results.txt\"):\n",
        "  target_line_dictionary = {}\n",
        "\n",
        "  how_many_repeats = 0\n",
        "  previous = \"-\"\n",
        "  with open(filename, \"w\") as f:\n",
        "    for idx, line in enumerate(lines):\n",
        "\n",
        "      target_prediction = CLASS_NAMES[predictions[idx]]\n",
        "      if target_prediction == previous and how_many_repeats < 6:\n",
        "        f.write(f\"\\t\\t{line}.\\n\")\n",
        "        previous = target_prediction\n",
        "        how_many_repeats += 1\n",
        "\n",
        "      else:\n",
        "        how_many_repeats = 0\n",
        "        if idx == 0:\n",
        "          f.write(f\"{str(target_prediction).title()}\\n\")\n",
        "        else:\n",
        "          f.write(f\"\\n\\n{str(target_prediction).title()}\\n\")\n",
        "        f.write(f\"\\t\\t{line}.\")\n",
        "        previous = target_prediction"
      ],
      "metadata": {
        "id": "CToA66qGmme5"
      },
      "execution_count": 236,
      "outputs": []
    },
    {
      "cell_type": "code",
      "source": [
        "# Now let's invoke all of the above functions\n",
        "get_one_single_line_in_file(\"drive/MyDrive/projects/SkimLit/test.txt\")\n",
        "own_token_sentences, own_char_sentences, own_line_number, own_total_lines = preprocess_data_from_some_article(\"drive/MyDrive/projects/SkimLit/preprocessed_test.txt\")\n",
        "own_random_labels = create_own_labels(own_token_sentences)\n",
        "own_dataset = create_own_datasets(own_token_sentences,\n",
        "                                  own_char_sentences,\n",
        "                                  own_line_number,\n",
        "                                  own_total_lines,\n",
        "                                  own_random_labels)\n",
        "# Load final model\n",
        "# final_model = load_model(\"model_6_10_percent_data\", \"/content/drive/MyDrive/projects/SkimLit/model_checkpoint\")\n",
        "# Now get all model preds\n",
        "final_model_preds = get_model_preds(final_model, own_dataset)\n",
        "# Get all lines from original file\n",
        "my_own_lines = output_lines_from_own_file(\"drive/MyDrive/projects/SkimLit/preprocessed_test.txt\")\n",
        "# Now write to result file\n",
        "create_and_write_model_results_to_file(final_model_preds_probs, my_own_lines)"
      ],
      "metadata": {
        "colab": {
          "base_uri": "https://localhost:8080/"
        },
        "id": "1RLXde47pwOt",
        "outputId": "51c0dd0d-3794-4bc8-e14d-e919470c1c78"
      },
      "execution_count": 240,
      "outputs": [
        {
          "output_type": "stream",
          "name": "stdout",
          "text": [
            "Total number of words: [9, 9, 9, 9, 9, 9, 9, 9, 9, 9]\n",
            "Line numbers indexes: [0, 1, 2, 3, 4, 5, 6, 7, 8, 9]\n",
            "1/1 [==============================] - 0s 132ms/step\n"
          ]
        }
      ]
    },
    {
      "cell_type": "markdown",
      "source": [
        "# Visuzalize our experiments using TensorBoard DEV"
      ],
      "metadata": {
        "id": "Cq178z7MPI3m"
      }
    },
    {
      "cell_type": "code",
      "source": [
        "!tensorboard dev upload --logdir=/content/drive/MyDrive/projects/SkimLit/model_checkpoint/tensorboard \\\n",
        "    --name=\"All SkimLit experiments\" \\\n",
        "    --one_shot"
      ],
      "metadata": {
        "id": "StJQsGo_PoVG"
      },
      "execution_count": null,
      "outputs": []
    },
    {
      "cell_type": "markdown",
      "source": [
        "**My experiments are available here:** https://tensorboard.dev/experiment/W66eKCk9QeSwp2Q0ya8tGg/"
      ],
      "metadata": {
        "id": "ZtdzXNs9PxPf"
      }
    }
  ]
}